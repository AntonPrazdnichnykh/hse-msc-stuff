{
  "nbformat": 4,
  "nbformat_minor": 0,
  "metadata": {
    "colab": {
      "name": "hw05_task.ipynb",
      "provenance": [],
      "collapsed_sections": []
    },
    "kernelspec": {
      "display_name": "Python 3",
      "language": "python",
      "name": "python3"
    },
    "language_info": {
      "codemirror_mode": {
        "name": "ipython",
        "version": 3
      },
      "file_extension": ".py",
      "mimetype": "text/x-python",
      "name": "python",
      "nbconvert_exporter": "python",
      "pygments_lexer": "ipython3",
      "version": "3.8.5"
    },
    "accelerator": "GPU",
    "widgets": {
      "application/vnd.jupyter.widget-state+json": {
        "e4a29844b4684c6ba967fd60fc391110": {
          "model_module": "@jupyter-widgets/controls",
          "model_name": "HBoxModel",
          "state": {
            "_view_name": "HBoxView",
            "_dom_classes": [],
            "_model_name": "HBoxModel",
            "_view_module": "@jupyter-widgets/controls",
            "_model_module_version": "1.5.0",
            "_view_count": null,
            "_view_module_version": "1.5.0",
            "box_style": "",
            "layout": "IPY_MODEL_3e110a0843de4d13b83d92a58bee9221",
            "_model_module": "@jupyter-widgets/controls",
            "children": [
              "IPY_MODEL_b06c25b685534169a3fe98707badc915",
              "IPY_MODEL_10a838a2572f4468a14c760c1c821ac1"
            ]
          }
        },
        "3e110a0843de4d13b83d92a58bee9221": {
          "model_module": "@jupyter-widgets/base",
          "model_name": "LayoutModel",
          "state": {
            "_view_name": "LayoutView",
            "grid_template_rows": null,
            "right": null,
            "justify_content": null,
            "_view_module": "@jupyter-widgets/base",
            "overflow": null,
            "_model_module_version": "1.2.0",
            "_view_count": null,
            "flex_flow": null,
            "width": null,
            "min_width": null,
            "border": null,
            "align_items": null,
            "bottom": null,
            "_model_module": "@jupyter-widgets/base",
            "top": null,
            "grid_column": null,
            "overflow_y": null,
            "overflow_x": null,
            "grid_auto_flow": null,
            "grid_area": null,
            "grid_template_columns": null,
            "flex": null,
            "_model_name": "LayoutModel",
            "justify_items": null,
            "grid_row": null,
            "max_height": null,
            "align_content": null,
            "visibility": null,
            "align_self": null,
            "height": null,
            "min_height": null,
            "padding": null,
            "grid_auto_rows": null,
            "grid_gap": null,
            "max_width": null,
            "order": null,
            "_view_module_version": "1.2.0",
            "grid_template_areas": null,
            "object_position": null,
            "object_fit": null,
            "grid_auto_columns": null,
            "margin": null,
            "display": null,
            "left": null
          }
        },
        "b06c25b685534169a3fe98707badc915": {
          "model_module": "@jupyter-widgets/controls",
          "model_name": "FloatProgressModel",
          "state": {
            "_view_name": "ProgressView",
            "style": "IPY_MODEL_7eb9481aa8844a1a87218d2fe3655952",
            "_dom_classes": [],
            "description": "",
            "_model_name": "FloatProgressModel",
            "bar_style": "info",
            "max": 1,
            "_view_module": "@jupyter-widgets/controls",
            "_model_module_version": "1.5.0",
            "value": 1,
            "_view_count": null,
            "_view_module_version": "1.5.0",
            "orientation": "horizontal",
            "min": 0,
            "description_tooltip": null,
            "_model_module": "@jupyter-widgets/controls",
            "layout": "IPY_MODEL_05f596e4f9f143f3acce2a0a25ba76f6"
          }
        },
        "10a838a2572f4468a14c760c1c821ac1": {
          "model_module": "@jupyter-widgets/controls",
          "model_name": "HTMLModel",
          "state": {
            "_view_name": "HTMLView",
            "style": "IPY_MODEL_188e6b939a994c5590f874b7d84d9e1d",
            "_dom_classes": [],
            "description": "",
            "_model_name": "HTMLModel",
            "placeholder": "​",
            "_view_module": "@jupyter-widgets/controls",
            "_model_module_version": "1.5.0",
            "value": " 170500096/? [00:19&lt;00:00, 50842520.99it/s]",
            "_view_count": null,
            "_view_module_version": "1.5.0",
            "description_tooltip": null,
            "_model_module": "@jupyter-widgets/controls",
            "layout": "IPY_MODEL_72c017d7a65f4ca49ca63f3741730fce"
          }
        },
        "7eb9481aa8844a1a87218d2fe3655952": {
          "model_module": "@jupyter-widgets/controls",
          "model_name": "ProgressStyleModel",
          "state": {
            "_view_name": "StyleView",
            "_model_name": "ProgressStyleModel",
            "description_width": "initial",
            "_view_module": "@jupyter-widgets/base",
            "_model_module_version": "1.5.0",
            "_view_count": null,
            "_view_module_version": "1.2.0",
            "bar_color": null,
            "_model_module": "@jupyter-widgets/controls"
          }
        },
        "05f596e4f9f143f3acce2a0a25ba76f6": {
          "model_module": "@jupyter-widgets/base",
          "model_name": "LayoutModel",
          "state": {
            "_view_name": "LayoutView",
            "grid_template_rows": null,
            "right": null,
            "justify_content": null,
            "_view_module": "@jupyter-widgets/base",
            "overflow": null,
            "_model_module_version": "1.2.0",
            "_view_count": null,
            "flex_flow": null,
            "width": null,
            "min_width": null,
            "border": null,
            "align_items": null,
            "bottom": null,
            "_model_module": "@jupyter-widgets/base",
            "top": null,
            "grid_column": null,
            "overflow_y": null,
            "overflow_x": null,
            "grid_auto_flow": null,
            "grid_area": null,
            "grid_template_columns": null,
            "flex": null,
            "_model_name": "LayoutModel",
            "justify_items": null,
            "grid_row": null,
            "max_height": null,
            "align_content": null,
            "visibility": null,
            "align_self": null,
            "height": null,
            "min_height": null,
            "padding": null,
            "grid_auto_rows": null,
            "grid_gap": null,
            "max_width": null,
            "order": null,
            "_view_module_version": "1.2.0",
            "grid_template_areas": null,
            "object_position": null,
            "object_fit": null,
            "grid_auto_columns": null,
            "margin": null,
            "display": null,
            "left": null
          }
        },
        "188e6b939a994c5590f874b7d84d9e1d": {
          "model_module": "@jupyter-widgets/controls",
          "model_name": "DescriptionStyleModel",
          "state": {
            "_view_name": "StyleView",
            "_model_name": "DescriptionStyleModel",
            "description_width": "",
            "_view_module": "@jupyter-widgets/base",
            "_model_module_version": "1.5.0",
            "_view_count": null,
            "_view_module_version": "1.2.0",
            "_model_module": "@jupyter-widgets/controls"
          }
        },
        "72c017d7a65f4ca49ca63f3741730fce": {
          "model_module": "@jupyter-widgets/base",
          "model_name": "LayoutModel",
          "state": {
            "_view_name": "LayoutView",
            "grid_template_rows": null,
            "right": null,
            "justify_content": null,
            "_view_module": "@jupyter-widgets/base",
            "overflow": null,
            "_model_module_version": "1.2.0",
            "_view_count": null,
            "flex_flow": null,
            "width": null,
            "min_width": null,
            "border": null,
            "align_items": null,
            "bottom": null,
            "_model_module": "@jupyter-widgets/base",
            "top": null,
            "grid_column": null,
            "overflow_y": null,
            "overflow_x": null,
            "grid_auto_flow": null,
            "grid_area": null,
            "grid_template_columns": null,
            "flex": null,
            "_model_name": "LayoutModel",
            "justify_items": null,
            "grid_row": null,
            "max_height": null,
            "align_content": null,
            "visibility": null,
            "align_self": null,
            "height": null,
            "min_height": null,
            "padding": null,
            "grid_auto_rows": null,
            "grid_gap": null,
            "max_width": null,
            "order": null,
            "_view_module_version": "1.2.0",
            "grid_template_areas": null,
            "object_position": null,
            "object_fit": null,
            "grid_auto_columns": null,
            "margin": null,
            "display": null,
            "left": null
          }
        }
      }
    }
  },
  "cells": [
    {
      "cell_type": "markdown",
      "metadata": {
        "id": "9Qp0H_zUQuu_"
      },
      "source": [
        "# Нейронные сети\n",
        "__Суммарное количество баллов: 10__\n",
        "\n",
        "__Решение отправлять на `ml.course.practice@gmail.com`__\n",
        "\n",
        "__Тема письма: `[ML][HW05] <ФИ>`, где вместо `<ФИ>` указаны фамилия и имя__\n",
        "\n",
        "Для начала вам предстоит реализовать свой собственный backpropagation и протестировать его на реальных данных, а затем научиться обучать нейронные сети при помощи библиотеки `PyTorch` и использовать это умение для классификации классического набора данных CIFAR10."
      ]
    },
    {
      "cell_type": "code",
      "metadata": {
        "id": "22ezVRf3QuvA"
      },
      "source": [
        "import numpy as np\n",
        "import copy\n",
        "from sklearn.datasets import make_blobs, make_moons\n",
        "from sklearn.model_selection import train_test_split\n",
        "from typing import List, NoReturn"
      ],
      "execution_count": 1,
      "outputs": []
    },
    {
      "cell_type": "markdown",
      "metadata": {
        "id": "4qfDPH_LQuvF"
      },
      "source": [
        "### Задание 1 (3 балла)\n",
        "Нейронные сети состоят из слоев, поэтому для начала понадобится реализовать их. Пока нам понадобятся только три:\n",
        "\n",
        "`Linear` - полносвязный слой, в котором `y = Wx + b`, где `y` - выход, `x` - вход, `W` - матрица весов, а `b` - смещение. \n",
        "\n",
        "`ReLU` - слой, соответствующий функции активации `y = max(0, x)`.\n",
        "\n",
        "`Softmax` - слой, соответствующий функции активации [softmax](https://ru.wikipedia.org/wiki/Softmax)\n",
        "\n",
        "\n",
        "#### Методы\n",
        "`forward(X)` - возвращает предсказанные для `X`. `X` может быть как вектором, так и батчем\n",
        "\n",
        "`backward(d)` - считает градиент при помощи обратного распространения ошибки. Возвращает новое значение `d`\n",
        "\n",
        "`update(alpha)` - обновляет веса (если необходимо) с заданой скоростью обучения"
      ]
    },
    {
      "cell_type": "code",
      "metadata": {
        "id": "RWFLlHqaYbgC"
      },
      "source": [
        "class Module:\n",
        "    \"\"\"\n",
        "    Абстрактный класс. Его менять не нужно.\n",
        "    \"\"\"\n",
        "    def forward(self, x):\n",
        "        raise NotImplementedError()\n",
        "    \n",
        "    def backward(self, d):\n",
        "        raise NotImplementedError()\n",
        "        \n",
        "    def update(self, alpha):\n",
        "        pass"
      ],
      "execution_count": 2,
      "outputs": []
    },
    {
      "cell_type": "code",
      "metadata": {
        "id": "aYS2gE4PYepZ"
      },
      "source": [
        "class Linear(Module):\n",
        "    \"\"\"\n",
        "    Линейный полносвязный слой.\n",
        "    \"\"\"\n",
        "    def __init__(self, in_features: int, out_features: int):\n",
        "        \"\"\"\n",
        "        Parameters\n",
        "        ----------\n",
        "        in_features : int\n",
        "            Размер входа.\n",
        "        out_features : int \n",
        "            Размер выхода.\n",
        "    \n",
        "        Notes\n",
        "        -----\n",
        "        W и b инициализируются случайно.\n",
        "        \"\"\"\n",
        "        self.w = np.random.normal(scale=0.1, size=(in_features + 1, out_features))\n",
        "        self.x = None\n",
        "        self.dw = None\n",
        "    \n",
        "    def forward(self, x: np.ndarray) -> np.ndarray:\n",
        "        \"\"\"\n",
        "        Возвращает y = Wx + b.\n",
        "\n",
        "        Parameters\n",
        "        ----------\n",
        "        x : np.ndarray\n",
        "            Входной вектор или батч.\n",
        "            То есть, либо x вектор с in_features элементов,\n",
        "            либо матрица размерности (batch_size, in_features).\n",
        "    \n",
        "        Return\n",
        "        ------\n",
        "        y : np.ndarray\n",
        "            Выход после слоя.\n",
        "            Либо вектор с out_features элементами,\n",
        "            либо матрица размерности (batch_size, out_features)\n",
        "\n",
        "        \"\"\"\n",
        "        x = np.concatenate((np.ones((x.shape[0], 1)), x), axis=1)\n",
        "        self.x = x\n",
        "        return x @ self.w\n",
        "    \n",
        "    def backward(self, d: np.ndarray) -> np.ndarray:\n",
        "        \"\"\"\n",
        "        Cчитает градиент при помощи обратного распространения ошибки.\n",
        "\n",
        "        Parameters\n",
        "        ----------\n",
        "        d : np.ndarray\n",
        "            Градиент.\n",
        "        Return\n",
        "        ------\n",
        "        np.ndarray\n",
        "            Новое значение градиента.\n",
        "        \"\"\"\n",
        "        self.dw = self.x.T @ d  # градиент по w для gd\n",
        "        return d @ self.w[1:].T     # градиент по x для backprop\n",
        "        \n",
        "    def update(self, alpha: float) -> NoReturn:\n",
        "        \"\"\"\n",
        "        Обновляет W и b с заданной скоростью обучения.\n",
        "\n",
        "        Parameters\n",
        "        ----------\n",
        "        alpha : float\n",
        "            Скорость обучения.\n",
        "        \"\"\"\n",
        "        self.w = self.w - alpha * self.dw"
      ],
      "execution_count": 3,
      "outputs": []
    },
    {
      "cell_type": "code",
      "metadata": {
        "id": "94hkbnD1QuvG"
      },
      "source": [
        "class ReLU(Module):\n",
        "    \"\"\"\n",
        "    Слой, соответствующий функции активации ReLU.\n",
        "    \"\"\"\n",
        "    def __init__(self):\n",
        "        self.x = None\n",
        "        self.w = None\n",
        "    \n",
        "    def forward(self, x: np.ndarray) -> np.ndarray:\n",
        "        \"\"\"\n",
        "        Возвращает y = max(0, x).\n",
        "\n",
        "        Parameters\n",
        "        ----------\n",
        "        x : np.ndarray\n",
        "            Входной вектор или батч.\n",
        "    \n",
        "        Return\n",
        "        ------\n",
        "        y : np.ndarray\n",
        "            Выход после слоя (той же размерности, что и вход).\n",
        "\n",
        "        \"\"\"\n",
        "        self.x = x\n",
        "        return np.maximum(0, x)\n",
        "        \n",
        "    def backward(self, d) -> np.ndarray:\n",
        "        \"\"\"\n",
        "        Cчитает градиент при помощи обратного распространения ошибки.\n",
        "\n",
        "        Parameters\n",
        "        ----------\n",
        "        d : np.ndarray\n",
        "            Градиент.\n",
        "        Return\n",
        "        ------\n",
        "        np.ndarray\n",
        "            Новое значение градиента.\n",
        "        \"\"\"\n",
        "        y = np.copy(self.x)\n",
        "        y[y <= 0] = 0\n",
        "        y[y > 0] = 1\n",
        "        return np.multiply(d, y)\n",
        "        \n",
        "        \n",
        "class Softmax(Module):\n",
        "    \"\"\"\n",
        "    Слой, соответствующий функции активации Softmax.\n",
        "    \"\"\"\n",
        "    def __init__(self, labels):\n",
        "        self.labels = labels.astype(int)\n",
        "        self.x = None\n",
        "        self.w = None\n",
        "        \n",
        "    def forward(self, x: np.ndarray) -> np.ndarray:\n",
        "        \"\"\"\n",
        "        Возвращает y = Softmax(x).\n",
        "\n",
        "        Parameters\n",
        "        ----------\n",
        "        x : np.ndarray\n",
        "            Входной вектор или батч.\n",
        "    \n",
        "        Return\n",
        "        ------\n",
        "        y : np.ndarray\n",
        "            Выход после слоя (той же размерности, что и вход).\n",
        "\n",
        "        \"\"\"\n",
        "        self.x = x\n",
        "        return np.exp(x) / np.sum(np.exp(x), axis=1).reshape(-1, 1)\n",
        "        \n",
        "    def backward(self, d) -> np.ndarray: # с учётом кросс-энтропии\n",
        "        \"\"\"\n",
        "        Cчитает градиент при помощи обратного распространения ошибки.\n",
        "\n",
        "        Parameters\n",
        "        ----------\n",
        "        d : np.ndarray\n",
        "            Градиент.\n",
        "        Return\n",
        "        ------\n",
        "        np.ndarray\n",
        "            Новое значение градиента.\n",
        "        \"\"\"\n",
        "        n = self.x.shape[0]\n",
        "        sigma = np.exp(self.x) / np.sum(np.exp(self.x), axis=1).reshape(-1, 1)\n",
        "        delta = np.zeros_like(self.x)\n",
        "        for i in range(n):\n",
        "            delta[i, self.labels[i]] = 1\n",
        "        return (sigma - delta) / n"
      ],
      "execution_count": 4,
      "outputs": []
    },
    {
      "cell_type": "markdown",
      "metadata": {
        "id": "Rb_ip_h8QuvJ"
      },
      "source": [
        "### Задание 2 (2 балла)\n",
        "Теперь сделаем саму нейронную сеть.\n",
        "\n",
        "#### Методы\n",
        "`fit(X, y)` - обучает нейронную сеть заданное число эпох. В каждой эпохе необходимо использовать [cross-entropy loss](https://ml-cheatsheet.readthedocs.io/en/latest/loss_functions.html#cross-entropy) для обучения, а так же производить обновления не по одному элементу, а используя батчи.\n",
        "\n",
        "`predict_proba(X)` - предсказывает вероятности классов для элементов `X`\n",
        "\n",
        "#### Параметры конструктора\n",
        "`modules` - список, состоящий из ранее реализованных модулей и описывающий слои нейронной сети. В конец необходимо добавить `Softmax`\n",
        "\n",
        "`epochs` - количество эпох обучения\n",
        "\n",
        "`alpha` - скорость обучения"
      ]
    },
    {
      "cell_type": "code",
      "metadata": {
        "id": "Q_JFCizKQuvK"
      },
      "source": [
        "class MLPClassifier:\n",
        "    def __init__(self, modules: List[Module], epochs: int = 40, alpha: float = 0.01):\n",
        "        \"\"\"\n",
        "        Parameters\n",
        "        ----------\n",
        "        modules : List[Module]\n",
        "            Cписок, состоящий из ранее реализованных модулей и \n",
        "            описывающий слои нейронной сети. \n",
        "            В конец необходимо добавить Softmax.\n",
        "        epochs : int\n",
        "            Количество эпох обученияю\n",
        "        alpha : float\n",
        "            Cкорость обучения.\n",
        "        \"\"\"\n",
        "        self.modules = modules\n",
        "        self.epochs = epochs\n",
        "        self.learning_rate = alpha\n",
        "            \n",
        "    def fit(self, X: np.ndarray, y: np.ndarray, batch_size=32) -> NoReturn:\n",
        "        \"\"\"\n",
        "        Обучает нейронную сеть заданное число эпох. \n",
        "        В каждой эпохе необходимо использовать cross-entropy loss для обучения, \n",
        "        а так же производить обновления не по одному элементу, а используя батчи.\n",
        "\n",
        "        Parameters\n",
        "        ----------\n",
        "        X : np.ndarray\n",
        "            Данные для обучения.\n",
        "        y : np.ndarray\n",
        "            Вектор меток классов для данных.\n",
        "        batch_size : int\n",
        "            Размер батча.\n",
        "        \"\"\"\n",
        "        self.modules.append(Softmax(y))\n",
        "        n, dim = X.shape\n",
        "        m = len(self.modules)\n",
        "        for _ in range(self.epochs):\n",
        "#             print('epoch:', epoch)\n",
        "#             data = np.concatenate((X, y.reshape(-1, 1)), axis=1)\n",
        "#             np.random.shuffle(data)\n",
        "            i = 0\n",
        "            while i < n:\n",
        "                j = min(i + batch_size, n)\n",
        "                X_batch, y_batch = X[i: j], y[i: j]\n",
        "                pred = X_batch\n",
        "                for module in self.modules:\n",
        "                    pred = module.forward(pred)\n",
        "                loss = 1 / (j - i) * self._cross_entropy(pred, y_batch)\n",
        "#                 print('loss:', loss)\n",
        "                d = 1\n",
        "                for k in range(m-1, -1, -1):\n",
        "                    module = self.modules[k]\n",
        "                    d = module.backward(d)\n",
        "                    if module.w is not None:\n",
        "                        module.update(self.learning_rate)\n",
        "                i += batch_size\n",
        "                        \n",
        "    def predict_proba(self, X: np.ndarray) -> np.ndarray:\n",
        "        \"\"\"\n",
        "        Предсказывает вероятности классов для элементов X.\n",
        "\n",
        "        Parameters\n",
        "        ----------\n",
        "        X : np.ndarray\n",
        "            Данные для предсказания.\n",
        "        \n",
        "        Return\n",
        "        ------\n",
        "        np.ndarray\n",
        "            Предсказанные вероятности классов для всех элементов X.\n",
        "            Размерность (X.shape[0], n_classes)\n",
        "        \n",
        "        \"\"\"\n",
        "        pred = X\n",
        "        for module in self.modules:\n",
        "            pred = module.forward(pred)\n",
        "        return pred\n",
        "        \n",
        "    def predict(self, X) -> np.ndarray:\n",
        "        \"\"\"\n",
        "        Предсказывает метки классов для элементов X.\n",
        "\n",
        "        Parameters\n",
        "        ----------\n",
        "        X : np.ndarray\n",
        "            Данные для предсказания.\n",
        "        \n",
        "        Return\n",
        "        ------\n",
        "        np.ndarray\n",
        "            Вектор предсказанных классов\n",
        "        \n",
        "        \"\"\"\n",
        "        p = self.predict_proba(X)\n",
        "        return np.argmax(p, axis=1)\n",
        "    \n",
        "    def _cross_entropy(self, p_pred, y_true):\n",
        "        eps = 1e-10\n",
        "        return -np.sum(np.log(np.choose(y_true, p_pred.T) + eps))\n",
        "        "
      ],
      "execution_count": 5,
      "outputs": []
    },
    {
      "cell_type": "code",
      "metadata": {
        "id": "onDymYQXQuvN"
      },
      "source": [
        "p = MLPClassifier([\n",
        "    Linear(4, 64),\n",
        "    ReLU(),\n",
        "    Linear(64, 64),\n",
        "    ReLU(),\n",
        "    Linear(64, 2)\n",
        "], epochs=50)\n",
        "\n",
        "X = np.random.randn(50, 4)\n",
        "y = np.array([(0 if x[0] > x[2]**2 or x[3]**3 > 0.5 else 1) for x in X])\n",
        "p.fit(X, y)"
      ],
      "execution_count": 6,
      "outputs": []
    },
    {
      "cell_type": "markdown",
      "metadata": {
        "id": "3C1EIsDqQuvQ"
      },
      "source": [
        "### Задание 3 (2 балла)\n",
        "Протестируем наше решение на синтетических данных. Необходимо подобрать гиперпараметры, при которых качество полученных классификаторов будет достаточным.\n",
        "\n",
        "#### Оценка\n",
        "Accuracy на первом датасете больше 0.85 - +1 балл\n",
        "\n",
        "Accuracy на втором датасете больше 0.85 - +1 балл"
      ]
    },
    {
      "cell_type": "code",
      "metadata": {
        "id": "d5UAgXTcQuvQ",
        "colab": {
          "base_uri": "https://localhost:8080/"
        },
        "outputId": "63c72ad9-bd86-442a-b0d8-c912a5c7878e"
      },
      "source": [
        "X, y = make_moons(400, noise=0.075)\n",
        "X_train, X_val, y_train, y_val = train_test_split(X, y, train_size=0.9, shuffle=True)\n",
        "X_test, y_test = make_moons(400, noise=0.075)\n",
        "\n",
        "best_acc = 0\n",
        "for _ in range(25):\n",
        "    p = MLPClassifier([\n",
        "    Linear(2, 64),\n",
        "    ReLU(),\n",
        "    Linear(64, 64),\n",
        "    ReLU(),\n",
        "    Linear(64, 2)\n",
        "], epochs = 500, alpha=0.1)\n",
        "\n",
        "    p.fit(X_train, y_train, batch_size=100)\n",
        "    now = np.mean(p.predict(X_val) == y_val)\n",
        "    print(now)\n",
        "    best_acc = max(now, best_acc)\n",
        "print(\"Validation Accuracy\", best_acc)"
      ],
      "execution_count": 17,
      "outputs": [
        {
          "output_type": "stream",
          "text": [
            "0.95\n",
            "0.95\n",
            "0.925\n",
            "0.9\n",
            "0.975\n",
            "0.975\n",
            "0.975\n",
            "0.9\n",
            "0.95\n",
            "0.95\n",
            "0.95\n",
            "0.925\n",
            "0.975\n",
            "0.95\n",
            "0.95\n",
            "0.95\n",
            "0.95\n",
            "0.95\n",
            "0.95\n",
            "0.975\n",
            "0.975\n",
            "0.95\n",
            "0.975\n",
            "0.975\n",
            "0.95\n",
            "Validation Accuracy 0.975\n"
          ],
          "name": "stdout"
        }
      ]
    },
    {
      "cell_type": "code",
      "metadata": {
        "colab": {
          "base_uri": "https://localhost:8080/"
        },
        "id": "2uAkQf9kU55E",
        "outputId": "da6de252-5f90-4835-8803-303c346e27c3"
      },
      "source": [
        "for _ in range(25):\n",
        "    p = MLPClassifier([\n",
        "    Linear(2, 64),\n",
        "    ReLU(),\n",
        "    Linear(64, 64),\n",
        "    ReLU(),\n",
        "    Linear(64, 2)\n",
        "], epochs = 500, alpha=0.1)\n",
        "\n",
        "    p.fit(X, y, batch_size=100)\n",
        "    best_acc = max(np.mean(p.predict(X_test) == y_test), best_acc)\n",
        "print(\"Test Accuracy\", best_acc)"
      ],
      "execution_count": 18,
      "outputs": [
        {
          "output_type": "stream",
          "text": [
            "Test Accuracy 0.975\n"
          ],
          "name": "stdout"
        }
      ]
    },
    {
      "cell_type": "code",
      "metadata": {
        "id": "MMDJM4qFQuvT",
        "colab": {
          "base_uri": "https://localhost:8080/"
        },
        "outputId": "742a30d7-44f8-4c9e-833d-1dca9e40c00e"
      },
      "source": [
        "X, y = make_blobs(400, 2, centers=[[0, 0], [2.5, 2.5], [-2.5, 3]])\n",
        "X_train, X_val, y_train, y_val = train_test_split(X, y, train_size=0.9, shuffle=True)\n",
        "X_test, y_test = make_blobs(400, 2, centers=[[0, 0], [2.5, 2.5], [-2.5, 3]])\n",
        "best_acc = 0\n",
        "for _ in range(25):\n",
        "    p = MLPClassifier([\n",
        "    Linear(2, 64),\n",
        "    ReLU(),\n",
        "    Linear(64, 64),\n",
        "    ReLU(),\n",
        "    Linear(64, 3)\n",
        "], epochs = 500, alpha=0.01)\n",
        "\n",
        "    p.fit(X_train, y_train, batch_size=100)\n",
        "    now = np.mean(p.predict(X_val) == y_val)\n",
        "    print(now)\n",
        "    best_acc = max(now, best_acc)\n",
        "print(\"Validation Accuracy\", best_acc)"
      ],
      "execution_count": 19,
      "outputs": [
        {
          "output_type": "stream",
          "text": [
            "0.95\n",
            "0.9\n",
            "0.875\n",
            "0.875\n",
            "0.975\n",
            "0.925\n",
            "0.925\n",
            "0.95\n",
            "0.925\n",
            "0.9\n",
            "0.925\n",
            "0.9\n",
            "0.95\n",
            "0.925\n",
            "0.925\n",
            "0.95\n",
            "0.9\n",
            "0.875\n",
            "0.925\n",
            "0.925\n",
            "0.875\n",
            "0.925\n",
            "0.95\n",
            "0.925\n",
            "0.95\n",
            "Validation Accuracy 0.975\n"
          ],
          "name": "stdout"
        }
      ]
    },
    {
      "cell_type": "code",
      "metadata": {
        "colab": {
          "base_uri": "https://localhost:8080/"
        },
        "id": "njaUh1foU55F",
        "outputId": "dc4f6800-0de4-456b-99f0-e3e85d1761fb"
      },
      "source": [
        "for _ in range(25):\n",
        "    p = MLPClassifier([\n",
        "    Linear(2, 64),\n",
        "    ReLU(),\n",
        "    Linear(64, 64),\n",
        "    ReLU(),\n",
        "    Linear(64, 3)\n",
        "], epochs = 500, alpha=0.01)\n",
        "\n",
        "    p.fit(X, y, batch_size=100)\n",
        "    best_acc = max(np.mean(p.predict(X_test) == y_test), best_acc)\n",
        "print(\"Test Accuracy\", best_acc)"
      ],
      "execution_count": 20,
      "outputs": [
        {
          "output_type": "stream",
          "text": [
            "Test Accuracy 0.975\n"
          ],
          "name": "stdout"
        }
      ]
    },
    {
      "cell_type": "markdown",
      "metadata": {
        "id": "nPbVTFnMQuvW"
      },
      "source": [
        "## PyTorch\n",
        "\n",
        "Для выполнения следующего задания понадобится PyTorch. [Инструкция по установке](https://pytorch.org/get-started/locally/)\n",
        "\n",
        "Если у вас нет GPU, то можно использовать [Google Colab](https://colab.research.google.com/)"
      ]
    },
    {
      "cell_type": "code",
      "metadata": {
        "id": "tV0mJLu-QuvX"
      },
      "source": [
        "from torchvision import datasets, transforms\n",
        "from torch.utils.data import DataLoader\n",
        "import torch\n",
        "from tqdm import tqdm\n",
        "from torch import nn\n",
        "import torch.nn.functional as F\n",
        "import matplotlib.pyplot as plt"
      ],
      "execution_count": 21,
      "outputs": []
    },
    {
      "cell_type": "code",
      "metadata": {
        "colab": {
          "base_uri": "https://localhost:8080/"
        },
        "id": "G0O2gCLPVkCB",
        "outputId": "377cc582-d700-4aff-c64a-120f0c036f54"
      },
      "source": [
        "torch.cuda.is_available()"
      ],
      "execution_count": 22,
      "outputs": [
        {
          "output_type": "execute_result",
          "data": {
            "text/plain": [
              "True"
            ]
          },
          "metadata": {
            "tags": []
          },
          "execution_count": 22
        }
      ]
    },
    {
      "cell_type": "code",
      "metadata": {
        "id": "VUC_QqpAQuva",
        "colab": {
          "base_uri": "https://localhost:8080/",
          "height": 100,
          "referenced_widgets": [
            "e4a29844b4684c6ba967fd60fc391110",
            "3e110a0843de4d13b83d92a58bee9221",
            "b06c25b685534169a3fe98707badc915",
            "10a838a2572f4468a14c760c1c821ac1",
            "7eb9481aa8844a1a87218d2fe3655952",
            "05f596e4f9f143f3acce2a0a25ba76f6",
            "188e6b939a994c5590f874b7d84d9e1d",
            "72c017d7a65f4ca49ca63f3741730fce"
          ]
        },
        "outputId": "a7d5e5cd-f8ed-432c-cd15-a88b360bbd88"
      },
      "source": [
        "device = torch.device(\"cuda\" if torch.cuda.is_available() else \"cpu\")\n",
        "\n",
        "t = transforms.ToTensor()\n",
        "\n",
        "cifar_train = datasets.CIFAR10(\"datasets/cifar10\", download=True, train=True, transform=t)\n",
        "train_loader = DataLoader(cifar_train, batch_size=1024, shuffle=True, pin_memory=torch.cuda.is_available())\n",
        "cifar_test = datasets.CIFAR10(\"datasets/cifar10\", download=True, train=False, transform=t)\n",
        "test_loader = DataLoader(cifar_test, batch_size=1024, shuffle=False, pin_memory=torch.cuda.is_available())"
      ],
      "execution_count": 23,
      "outputs": [
        {
          "output_type": "stream",
          "text": [
            "Downloading https://www.cs.toronto.edu/~kriz/cifar-10-python.tar.gz to datasets/cifar10/cifar-10-python.tar.gz\n"
          ],
          "name": "stdout"
        },
        {
          "output_type": "display_data",
          "data": {
            "application/vnd.jupyter.widget-view+json": {
              "model_id": "e4a29844b4684c6ba967fd60fc391110",
              "version_minor": 0,
              "version_major": 2
            },
            "text/plain": [
              "HBox(children=(FloatProgress(value=1.0, bar_style='info', max=1.0), HTML(value='')))"
            ]
          },
          "metadata": {
            "tags": []
          }
        },
        {
          "output_type": "stream",
          "text": [
            "Extracting datasets/cifar10/cifar-10-python.tar.gz to datasets/cifar10\n",
            "Files already downloaded and verified\n"
          ],
          "name": "stdout"
        }
      ]
    },
    {
      "cell_type": "markdown",
      "metadata": {
        "id": "rGmpjcFfQuvd"
      },
      "source": [
        "### Задание 4 (3 балла)\n",
        "А теперь поработам с настоящими нейронными сетями и настоящими данными. Необходимо реализовать сверточную нейронную сеть, которая будет классифицировать изображения из датасета CIFAR10. Имплементируйте класс `Model` и функцию `calculate_loss`. \n",
        "\n",
        "Обратите внимание, что `Model` должна считать в конце `softmax`, т.к. мы решаем задачу классификации. Соответствеено, функция `calculate_loss` считает cross-entropy.\n",
        "\n",
        "Для успешного выполнения задания необходимо, чтобы `accuracy`, `mean precision` и `mean recall` были больше 0.5\n",
        "\n",
        "__Можно пользоваться всем содержимым библиотеки PyTorch.__"
      ]
    },
    {
      "cell_type": "code",
      "metadata": {
        "id": "5sRmTKwKQuve"
      },
      "source": [
        "class Model(nn.Module):\n",
        "    def __init__(self):\n",
        "        super().__init__()\n",
        "        self.conv1 = nn.Conv2d(3, 16, 5)\n",
        "        self.pool = nn.MaxPool2d(2, 2)\n",
        "        self.conv2 = nn.Conv2d(16, 32, 5)\n",
        "        self.fc1 = nn.Linear(32 * 5 * 5, 64)\n",
        "        self.fc2 = nn.Linear(64, 64)\n",
        "        self.fc3 = nn.Linear(64, 10)\n",
        "        \n",
        "    def forward(self, x: torch.Tensor) -> torch.Tensor:\n",
        "        x = self.pool(F.relu(self.conv1(x)))\n",
        "        x = self.pool(F.relu(self.conv2(x)))\n",
        "        x = x.view(-1, 32 * 5 * 5)\n",
        "        x = F.relu(self.fc1(x))\n",
        "        x = F.relu(self.fc2(x))\n",
        "        x = self.fc3(x)\n",
        "        return x\n",
        "        \n",
        "def calculate_loss(X: torch.Tensor, y: torch.Tensor, model: Model):\n",
        "    \"\"\"\n",
        "    Cчитает cross-entropy.\n",
        "\n",
        "    Parameters\n",
        "    ----------\n",
        "    X : torch.Tensor\n",
        "        Данные для обучения.\n",
        "    y : torch.Tensor\n",
        "        Метки классов.\n",
        "    model : Model\n",
        "        Модель, которую будем обучать.\n",
        "\n",
        "    \"\"\"\n",
        "    return F.cross_entropy(model.forward(X), y)"
      ],
      "execution_count": 25,
      "outputs": []
    },
    {
      "cell_type": "markdown",
      "metadata": {
        "id": "JAsLmkUqQuvh"
      },
      "source": [
        "Теперь обучим нашу модель. Для этого используем ранее созданные batch loader'ы."
      ]
    },
    {
      "cell_type": "code",
      "metadata": {
        "id": "k5G8iMCeQuvh"
      },
      "source": [
        "def train(model, epochs=100):\n",
        "    optimizer = torch.optim.Adam(model.parameters())\n",
        "    train_losses = []\n",
        "    test_losses = []\n",
        "    for i in range(epochs):\n",
        "        #Train\n",
        "        loss_mean = 0\n",
        "        elements = 0\n",
        "        for X, y in iter(train_loader):\n",
        "            X = X.to(device)\n",
        "            y = y.to(device)\n",
        "            loss = calculate_loss(X, y, model)\n",
        "            optimizer.zero_grad()\n",
        "            loss.backward()\n",
        "            optimizer.step()\n",
        "            loss_mean += loss.item() * len(X)\n",
        "            elements += len(X)\n",
        "        train_losses.append(loss_mean / elements)\n",
        "        #Test\n",
        "        loss_mean = 0 \n",
        "        elements = 0\n",
        "        for X, y in iter(test_loader):\n",
        "            X = X.to(device)\n",
        "            y = y.to(device)\n",
        "            loss = calculate_loss(X, y, model)\n",
        "            loss_mean += loss.item() * len(X)\n",
        "            elements += len(X)\n",
        "        test_losses.append(loss_mean / elements)\n",
        "        print(\"Epoch\", i, \"| Train loss\", train_losses[-1], \"| Test loss\", test_losses[-1])\n",
        "    return train_losses, test_losses"
      ],
      "execution_count": 26,
      "outputs": []
    },
    {
      "cell_type": "code",
      "metadata": {
        "id": "vmD9eWJOQuvl",
        "scrolled": true,
        "colab": {
          "base_uri": "https://localhost:8080/"
        },
        "outputId": "9f0eea3a-6c7f-492a-bd29-2e9cb72aeca9"
      },
      "source": [
        "model = Model().to(device)\n",
        "train_l, test_l = train(model)"
      ],
      "execution_count": 27,
      "outputs": [
        {
          "output_type": "stream",
          "text": [
            "Epoch 0 | Train loss 2.1165959647750854 | Test loss 1.9380724075317384\n",
            "Epoch 1 | Train loss 1.828130182876587 | Test loss 1.7001424089431763\n",
            "Epoch 2 | Train loss 1.6708462062072753 | Test loss 1.6169080478668212\n",
            "Epoch 3 | Train loss 1.574471930885315 | Test loss 1.5337366899490357\n",
            "Epoch 4 | Train loss 1.5183113495254517 | Test loss 1.4887874794006348\n",
            "Epoch 5 | Train loss 1.4708412606430055 | Test loss 1.4456033168792726\n",
            "Epoch 6 | Train loss 1.4291574917602539 | Test loss 1.41664913482666\n",
            "Epoch 7 | Train loss 1.3960656802749634 | Test loss 1.3951904010772704\n",
            "Epoch 8 | Train loss 1.3745091330718995 | Test loss 1.348584204864502\n",
            "Epoch 9 | Train loss 1.3416158749008178 | Test loss 1.3341473165512086\n",
            "Epoch 10 | Train loss 1.325409769935608 | Test loss 1.3088087882995605\n",
            "Epoch 11 | Train loss 1.3015428237915039 | Test loss 1.3174471700668335\n",
            "Epoch 12 | Train loss 1.2805204265213013 | Test loss 1.2850650188446044\n",
            "Epoch 13 | Train loss 1.2578748136901856 | Test loss 1.2578677377700807\n",
            "Epoch 14 | Train loss 1.2376395290756226 | Test loss 1.2411090385437011\n",
            "Epoch 15 | Train loss 1.2228747087097167 | Test loss 1.2442976165771484\n",
            "Epoch 16 | Train loss 1.2105602474975585 | Test loss 1.2321437019348145\n",
            "Epoch 17 | Train loss 1.1916588841629028 | Test loss 1.2012564470291138\n",
            "Epoch 18 | Train loss 1.1819132147216798 | Test loss 1.2211558210372926\n",
            "Epoch 19 | Train loss 1.165763964958191 | Test loss 1.1927387788772583\n",
            "Epoch 20 | Train loss 1.1594247624206544 | Test loss 1.1637729873657228\n",
            "Epoch 21 | Train loss 1.1379824308776856 | Test loss 1.158930718421936\n",
            "Epoch 22 | Train loss 1.1251716287994384 | Test loss 1.1509609394073486\n",
            "Epoch 23 | Train loss 1.1231158163452148 | Test loss 1.201982315826416\n",
            "Epoch 24 | Train loss 1.1124699404907226 | Test loss 1.1373536048889161\n",
            "Epoch 25 | Train loss 1.09736532497406 | Test loss 1.157236079978943\n",
            "Epoch 26 | Train loss 1.0880064310455322 | Test loss 1.1252474924087525\n",
            "Epoch 27 | Train loss 1.0720261018753052 | Test loss 1.120519715309143\n",
            "Epoch 28 | Train loss 1.0644855778884887 | Test loss 1.1174796113967895\n",
            "Epoch 29 | Train loss 1.0552032247924805 | Test loss 1.1080795316696166\n",
            "Epoch 30 | Train loss 1.0427745109939575 | Test loss 1.0982536502838134\n",
            "Epoch 31 | Train loss 1.0444737929344177 | Test loss 1.087030682373047\n",
            "Epoch 32 | Train loss 1.0230739406967162 | Test loss 1.0932334878921508\n",
            "Epoch 33 | Train loss 1.0271597095870972 | Test loss 1.0964700481414795\n",
            "Epoch 34 | Train loss 1.0079801754570008 | Test loss 1.0673801433563233\n",
            "Epoch 35 | Train loss 1.0011244616508483 | Test loss 1.0883377519607544\n",
            "Epoch 36 | Train loss 0.9927273611068725 | Test loss 1.0569183006286622\n",
            "Epoch 37 | Train loss 0.9933538066864014 | Test loss 1.058701943206787\n",
            "Epoch 38 | Train loss 0.9869586934661865 | Test loss 1.0568241437911987\n",
            "Epoch 39 | Train loss 0.9683485382080078 | Test loss 1.0518669773101808\n",
            "Epoch 40 | Train loss 0.9677455375099182 | Test loss 1.0581645092010499\n",
            "Epoch 41 | Train loss 0.9698280599212646 | Test loss 1.0470683010101318\n",
            "Epoch 42 | Train loss 0.9606333006095886 | Test loss 1.0343470405578614\n",
            "Epoch 43 | Train loss 0.9391846962928772 | Test loss 1.0360847520828247\n",
            "Epoch 44 | Train loss 0.9356559642219543 | Test loss 1.0233221839904785\n",
            "Epoch 45 | Train loss 0.9275145261001587 | Test loss 1.0242622646331787\n",
            "Epoch 46 | Train loss 0.9257617732620239 | Test loss 1.027607909965515\n",
            "Epoch 47 | Train loss 0.9194733715057373 | Test loss 1.016334189414978\n",
            "Epoch 48 | Train loss 0.9189832436180114 | Test loss 1.0318422632217408\n",
            "Epoch 49 | Train loss 0.9183740817070007 | Test loss 1.0253678127288819\n",
            "Epoch 50 | Train loss 0.9106202711296082 | Test loss 1.0070482753753662\n",
            "Epoch 51 | Train loss 0.9089644972991944 | Test loss 1.0099159677505494\n",
            "Epoch 52 | Train loss 0.8915230891227722 | Test loss 1.0094925590515136\n",
            "Epoch 53 | Train loss 0.8840180383872985 | Test loss 1.0037711807250977\n",
            "Epoch 54 | Train loss 0.8817585538291931 | Test loss 1.017169437980652\n",
            "Epoch 55 | Train loss 0.8822966857528687 | Test loss 0.9950703966140747\n",
            "Epoch 56 | Train loss 0.8725546780776977 | Test loss 1.0190012605667114\n",
            "Epoch 57 | Train loss 0.8761485695266724 | Test loss 0.9987131668090821\n",
            "Epoch 58 | Train loss 0.8604023198127747 | Test loss 1.0053261751174927\n",
            "Epoch 59 | Train loss 0.8549201278686523 | Test loss 1.0074538227081298\n",
            "Epoch 60 | Train loss 0.8496089503669739 | Test loss 0.9982498332977295\n",
            "Epoch 61 | Train loss 0.8559676468276978 | Test loss 0.9770368671417237\n",
            "Epoch 62 | Train loss 0.8465343897438049 | Test loss 0.9732099208831787\n",
            "Epoch 63 | Train loss 0.834057747554779 | Test loss 0.9792437704086304\n",
            "Epoch 64 | Train loss 0.8390869257736207 | Test loss 1.002731516647339\n",
            "Epoch 65 | Train loss 0.8282380141830444 | Test loss 0.9686601531982422\n",
            "Epoch 66 | Train loss 0.8286542261886597 | Test loss 0.9691799821853637\n",
            "Epoch 67 | Train loss 0.8206414868927002 | Test loss 0.9723764997482299\n",
            "Epoch 68 | Train loss 0.8191809408378601 | Test loss 0.9817940719604492\n",
            "Epoch 69 | Train loss 0.8189306553459168 | Test loss 0.9669290908813477\n",
            "Epoch 70 | Train loss 0.8083150026321411 | Test loss 0.9671930994033814\n",
            "Epoch 71 | Train loss 0.8104794026565552 | Test loss 0.9774788766860962\n",
            "Epoch 72 | Train loss 0.8001323340225219 | Test loss 0.9644175336837768\n",
            "Epoch 73 | Train loss 0.8019061450958251 | Test loss 0.9887986667633056\n",
            "Epoch 74 | Train loss 0.7925374442100525 | Test loss 0.9802690385818481\n",
            "Epoch 75 | Train loss 0.7814504442405701 | Test loss 0.9810103618621826\n",
            "Epoch 76 | Train loss 0.7877624402427673 | Test loss 0.9810160171508789\n",
            "Epoch 77 | Train loss 0.7936778926086426 | Test loss 0.9679561931610108\n",
            "Epoch 78 | Train loss 0.7753679319763184 | Test loss 0.9598452091217041\n",
            "Epoch 79 | Train loss 0.7771891624450683 | Test loss 1.026765691947937\n",
            "Epoch 80 | Train loss 0.7735757902145386 | Test loss 0.9608393242835999\n",
            "Epoch 81 | Train loss 0.7605331271934509 | Test loss 0.9759202735900879\n",
            "Epoch 82 | Train loss 0.7618674154281616 | Test loss 0.9742127326965332\n",
            "Epoch 83 | Train loss 0.7660505661392212 | Test loss 0.9681254459381103\n",
            "Epoch 84 | Train loss 0.7566295442199708 | Test loss 0.9738852920532226\n",
            "Epoch 85 | Train loss 0.7484011490440369 | Test loss 0.9685466094970703\n",
            "Epoch 86 | Train loss 0.7507793664550781 | Test loss 0.9821763721466065\n",
            "Epoch 87 | Train loss 0.7505526631164551 | Test loss 0.9600423553466797\n",
            "Epoch 88 | Train loss 0.7439772903060913 | Test loss 0.9623222249984741\n",
            "Epoch 89 | Train loss 0.7392699027442932 | Test loss 0.9583381406784057\n",
            "Epoch 90 | Train loss 0.7300350760650635 | Test loss 0.9618766277313232\n",
            "Epoch 91 | Train loss 0.7301122389030457 | Test loss 0.966590185546875\n",
            "Epoch 92 | Train loss 0.728618538646698 | Test loss 0.9931415313720703\n",
            "Epoch 93 | Train loss 0.7260100547218322 | Test loss 0.9602657269477844\n",
            "Epoch 94 | Train loss 0.7212002637481689 | Test loss 0.970865152168274\n",
            "Epoch 95 | Train loss 0.7203937004470825 | Test loss 0.9519710245132447\n",
            "Epoch 96 | Train loss 0.7118161009407044 | Test loss 0.9963215326309204\n",
            "Epoch 97 | Train loss 0.7221776627349854 | Test loss 0.9789867202758789\n",
            "Epoch 98 | Train loss 0.7034560072135926 | Test loss 0.9750693548202515\n",
            "Epoch 99 | Train loss 0.7093972443962098 | Test loss 0.9573963242530823\n"
          ],
          "name": "stdout"
        }
      ]
    },
    {
      "cell_type": "markdown",
      "metadata": {
        "id": "OJNAuHjNQuvn"
      },
      "source": [
        "Построим график функции потерь"
      ]
    },
    {
      "cell_type": "code",
      "metadata": {
        "id": "F6OEGqriQuvo",
        "colab": {
          "base_uri": "https://localhost:8080/",
          "height": 441
        },
        "outputId": "07edbb9f-2243-44bd-f08a-88c719dfe1ff"
      },
      "source": [
        "plt.figure(figsize=(12, 6))\n",
        "plt.plot(range(len(train_l)), train_l, label=\"train\")\n",
        "plt.plot(range(len(test_l)), test_l, label=\"test\")\n",
        "plt.xlabel(\"Epoch\")\n",
        "plt.ylabel(\"Loss\")\n",
        "plt.legend()\n",
        "plt.tight_layout()\n",
        "plt.show()"
      ],
      "execution_count": 28,
      "outputs": [
        {
          "output_type": "display_data",
          "data": {
            "image/png": "[encoded data removed]",
            "text/plain": [
              "<Figure size 864x432 with 1 Axes>"
            ]
          },
          "metadata": {
            "tags": [],
            "needs_background": "light"
          }
        }
      ]
    },
    {
      "cell_type": "markdown",
      "metadata": {
        "id": "miUxg0bDQuvs"
      },
      "source": [
        "И, наконец, посчитаем метрики"
      ]
    },
    {
      "cell_type": "code",
      "metadata": {
        "id": "UXSOJFI8Quvt",
        "colab": {
          "base_uri": "https://localhost:8080/"
        },
        "outputId": "d555874e-b0cd-4b77-8d86-1ddef12d34ca"
      },
      "source": [
        "true_positive = np.zeros(10)\n",
        "true_negative = np.zeros(10)\n",
        "false_positive = np.zeros(10)\n",
        "false_negative = np.zeros(10)\n",
        "accuracy = 0\n",
        "ctn = 0\n",
        "for X, y in iter(test_loader):\n",
        "    X = X.to(device)\n",
        "    y = y.to(device)\n",
        "    with torch.no_grad():\n",
        "        y_pred = model(X).max(dim=1)[1]\n",
        "    for i in range(10):\n",
        "        for pred, real in zip(y_pred, y):\n",
        "            if real == i:\n",
        "                if pred == real:\n",
        "                    true_positive[i] += 1\n",
        "                else:\n",
        "                    false_negative[i] += 1\n",
        "            else:\n",
        "                if pred == i:\n",
        "                    false_positive[i] += 1\n",
        "                else:\n",
        "                    true_negative[i] += 1\n",
        "            \n",
        "    accuracy += torch.sum(y_pred == y).item()\n",
        "    ctn += len(y)\n",
        "print(\"Overall accuracy\", accuracy / ctn)\n",
        "print(\"Precision\", true_positive / (true_positive + false_positive))\n",
        "print(\"Recall\", true_positive / (true_positive + false_negative))\n",
        "print(\"Mean Precision\", np.mean(true_positive / (true_positive + false_positive)))\n",
        "print(\"Mean Recall\", np.mean(true_positive / (true_positive + false_negative)))"
      ],
      "execution_count": 29,
      "outputs": [
        {
          "output_type": "stream",
          "text": [
            "Overall accuracy 0.6783\n",
            "Precision [0.75463918 0.75549451 0.60379597 0.46956522 0.59776536 0.62439024\n",
            " 0.73198847 0.73251029 0.75091241 0.77070064]\n",
            "Recall [0.732 0.825 0.509 0.54  0.642 0.512 0.762 0.712 0.823 0.726]\n",
            "Mean Precision 0.6791762278349884\n",
            "Mean Recall 0.6783\n"
          ],
          "name": "stdout"
        }
      ]
    }
  ]
}