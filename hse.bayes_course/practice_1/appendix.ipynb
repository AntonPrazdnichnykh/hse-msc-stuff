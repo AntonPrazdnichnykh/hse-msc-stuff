{
 "cells": [
  {
   "cell_type": "code",
   "execution_count": 1,
   "id": "saved-canadian",
   "metadata": {},
   "outputs": [],
   "source": [
    "import numpy as np\n",
    "from scipy.stats import poisson, binom\n",
    "from math import factorial, exp\n",
    "\n",
    "from anton_prazdnichnykh_v1 import *\n",
    "import testing"
   ]
  },
  {
   "cell_type": "code",
   "execution_count": 2,
   "id": "congressional-wrist",
   "metadata": {},
   "outputs": [],
   "source": [
    "import matplotlib.pyplot as plt"
   ]
  },
  {
   "cell_type": "code",
   "execution_count": 3,
   "id": "convinced-linux",
   "metadata": {},
   "outputs": [],
   "source": [
    "model = 1\n",
    "\n",
    "params = {\n",
    "    'amin': 75,\n",
    "    'amax': 90,\n",
    "    'bmin': 500,\n",
    "    'bmax': 600,\n",
    "    \"p1\": 0.1,\n",
    "    'p2': 0.01,\n",
    "    'p3': 0.3,\n",
    "}"
   ]
  },
  {
   "cell_type": "code",
   "execution_count": 4,
   "id": "suburban-orchestra",
   "metadata": {},
   "outputs": [],
   "source": [
    "a_min, a_max = params['amin'], params['amax']\n",
    "b_min, b_max = params['bmin'], params['bmax']\n",
    "p1, p2, p3 = params['p1'], params['p2'], params['p3']\n",
    "N = 50"
   ]
  },
  {
   "cell_type": "code",
   "execution_count": 5,
   "id": "organic-leadership",
   "metadata": {},
   "outputs": [],
   "source": [
    "n_a = a_max - a_min + 1\n",
    "n_b = b_max - b_min + 1\n",
    "n_c = a_max + b_max + 1\n",
    "n_d = 2 * (a_max + b_max) + 1"
   ]
  },
  {
   "cell_type": "markdown",
   "id": "clean-google",
   "metadata": {},
   "source": [
    "# Testing"
   ]
  },
  {
   "cell_type": "code",
   "execution_count": 6,
   "id": "theoretical-steam",
   "metadata": {},
   "outputs": [],
   "source": [
    "a = np.arange(a_min, a_max + 1)\n",
    "b = np.arange(b_min, b_max + 1)\n",
    "d = np.arange(n_d)"
   ]
  },
  {
   "cell_type": "code",
   "execution_count": 7,
   "id": "julian-reservation",
   "metadata": {},
   "outputs": [
    {
     "data": {
      "text/plain": [
       "array([1., 1., 1., 1., 1., 1., 1., 1., 1., 1., 1., 1., 1., 1., 1., 1.])"
      ]
     },
     "execution_count": 7,
     "metadata": {},
     "output_type": "execute_result"
    }
   ],
   "source": [
    "pr_c_a, _ = pc_a(a, params, model)\n",
    "pr_c_a.sum(0)"
   ]
  },
  {
   "cell_type": "code",
   "execution_count": 8,
   "id": "progressive-necessity",
   "metadata": {},
   "outputs": [
    {
     "data": {
      "text/plain": [
       "array([1., 1., 1., 1., 1., 1., 1., 1., 1., 1., 1., 1., 1., 1., 1., 1., 1.,\n",
       "       1., 1., 1., 1., 1., 1., 1., 1., 1., 1., 1., 1., 1., 1., 1., 1., 1.,\n",
       "       1., 1., 1., 1., 1., 1., 1., 1., 1., 1., 1., 1., 1., 1., 1., 1., 1.,\n",
       "       1., 1., 1., 1., 1., 1., 1., 1., 1., 1., 1., 1., 1., 1., 1., 1., 1.,\n",
       "       1., 1., 1., 1., 1., 1., 1., 1., 1., 1., 1., 1., 1., 1., 1., 1., 1.,\n",
       "       1., 1., 1., 1., 1., 1., 1., 1., 1., 1., 1., 1., 1., 1., 1., 1.])"
      ]
     },
     "execution_count": 8,
     "metadata": {},
     "output_type": "execute_result"
    }
   ],
   "source": [
    "pr_c_b, _ = pc_a(b, params, model)\n",
    "pr_c_b.sum(0)"
   ]
  },
  {
   "cell_type": "code",
   "execution_count": 9,
   "id": "confirmed-bobby",
   "metadata": {},
   "outputs": [
    {
     "data": {
      "text/plain": [
       "array([1., 1., 1., 1., 1., 1., 1., 1., 1., 1., 1., 1., 1., 1., 1., 1., 1.,\n",
       "       1., 1., 1., 1., 1., 1., 1., 1., 1., 1., 1., 1., 1., 1., 1., 1., 1.,\n",
       "       1., 1., 1., 1., 1., 1., 1., 1., 1., 1., 1., 1., 1., 1., 1., 1.])"
      ]
     },
     "execution_count": 9,
     "metadata": {},
     "output_type": "execute_result"
    }
   ],
   "source": [
    "pr_c_d, _ = pc_d(d[:50], params, model)\n",
    "pr_c_d.sum(0)"
   ]
  },
  {
   "cell_type": "code",
   "execution_count": 10,
   "id": "accompanied-dragon",
   "metadata": {},
   "outputs": [],
   "source": [
    "pr_c_abd, _ = pc_abd(a, b, d[:50], params, model)"
   ]
  },
  {
   "cell_type": "code",
   "execution_count": 11,
   "id": "actual-techno",
   "metadata": {},
   "outputs": [
    {
     "data": {
      "text/plain": [
       "array([[[1., 1., 1., ..., 1., 1., 1.],\n",
       "        [1., 1., 1., ..., 1., 1., 1.],\n",
       "        [1., 1., 1., ..., 1., 1., 1.],\n",
       "        ...,\n",
       "        [1., 1., 1., ..., 1., 1., 1.],\n",
       "        [1., 1., 1., ..., 1., 1., 1.],\n",
       "        [1., 1., 1., ..., 1., 1., 1.]],\n",
       "\n",
       "       [[1., 1., 1., ..., 1., 1., 1.],\n",
       "        [1., 1., 1., ..., 1., 1., 1.],\n",
       "        [1., 1., 1., ..., 1., 1., 1.],\n",
       "        ...,\n",
       "        [1., 1., 1., ..., 1., 1., 1.],\n",
       "        [1., 1., 1., ..., 1., 1., 1.],\n",
       "        [1., 1., 1., ..., 1., 1., 1.]],\n",
       "\n",
       "       [[1., 1., 1., ..., 1., 1., 1.],\n",
       "        [1., 1., 1., ..., 1., 1., 1.],\n",
       "        [1., 1., 1., ..., 1., 1., 1.],\n",
       "        ...,\n",
       "        [1., 1., 1., ..., 1., 1., 1.],\n",
       "        [1., 1., 1., ..., 1., 1., 1.],\n",
       "        [1., 1., 1., ..., 1., 1., 1.]],\n",
       "\n",
       "       ...,\n",
       "\n",
       "       [[1., 1., 1., ..., 1., 1., 1.],\n",
       "        [1., 1., 1., ..., 1., 1., 1.],\n",
       "        [1., 1., 1., ..., 1., 1., 1.],\n",
       "        ...,\n",
       "        [1., 1., 1., ..., 1., 1., 1.],\n",
       "        [1., 1., 1., ..., 1., 1., 1.],\n",
       "        [1., 1., 1., ..., 1., 1., 1.]],\n",
       "\n",
       "       [[1., 1., 1., ..., 1., 1., 1.],\n",
       "        [1., 1., 1., ..., 1., 1., 1.],\n",
       "        [1., 1., 1., ..., 1., 1., 1.],\n",
       "        ...,\n",
       "        [1., 1., 1., ..., 1., 1., 1.],\n",
       "        [1., 1., 1., ..., 1., 1., 1.],\n",
       "        [1., 1., 1., ..., 1., 1., 1.]],\n",
       "\n",
       "       [[1., 1., 1., ..., 1., 1., 1.],\n",
       "        [1., 1., 1., ..., 1., 1., 1.],\n",
       "        [1., 1., 1., ..., 1., 1., 1.],\n",
       "        ...,\n",
       "        [1., 1., 1., ..., 1., 1., 1.],\n",
       "        [1., 1., 1., ..., 1., 1., 1.],\n",
       "        [1., 1., 1., ..., 1., 1., 1.]]])"
      ]
     },
     "execution_count": 11,
     "metadata": {},
     "output_type": "execute_result"
    }
   ],
   "source": [
    "pr_c_abd.sum(0)"
   ]
  },
  {
   "cell_type": "markdown",
   "id": "legislative-scoop",
   "metadata": {},
   "source": [
    "# Матожидания и дисперсии"
   ]
  },
  {
   "cell_type": "code",
   "execution_count": 11,
   "id": "about-employer",
   "metadata": {},
   "outputs": [],
   "source": [
    "def mean_var(p_distr, *args, **kwargs):\n",
    "    probs, vals = p_distr(*args, **kwargs)\n",
    "    vals = vals.reshape(-1, *[1 for _ in range(len(probs.shape) - 1)])\n",
    "    m = (probs * vals).sum(axis=0)\n",
    "    d = (probs * vals**2).sum(axis=0) - m**2\n",
    "    return m, d"
   ]
  },
  {
   "cell_type": "code",
   "execution_count": 13,
   "id": "intelligent-latino",
   "metadata": {},
   "outputs": [
    {
     "data": {
      "text/plain": [
       "(82.5, 21.25)"
      ]
     },
     "execution_count": 13,
     "metadata": {},
     "output_type": "execute_result"
    }
   ],
   "source": [
    "#a\n",
    "mean_var(pa, params, 1)"
   ]
  },
  {
   "cell_type": "code",
   "execution_count": 14,
   "id": "muslim-namibia",
   "metadata": {},
   "outputs": [
    {
     "data": {
      "text/plain": [
       "(549.9999999999999, 850.0000000000582)"
      ]
     },
     "execution_count": 14,
     "metadata": {},
     "output_type": "execute_result"
    }
   ],
   "source": [
    "#b\n",
    "mean_var(pb, params, 1)"
   ]
  },
  {
   "cell_type": "code",
   "execution_count": 15,
   "id": "finished-valve",
   "metadata": {},
   "outputs": [
    {
     "data": {
      "text/plain": [
       "(13.749999999999904, 13.167500000001013)"
      ]
     },
     "execution_count": 15,
     "metadata": {},
     "output_type": "execute_result"
    }
   ],
   "source": [
    "#c1\n",
    "mean_var(pc, params, model=1)"
   ]
  },
  {
   "cell_type": "code",
   "execution_count": 16,
   "id": "embedded-specialist",
   "metadata": {},
   "outputs": [
    {
     "data": {
      "text/plain": [
       "(13.749999999999993, 14.04750000000007)"
      ]
     },
     "execution_count": 16,
     "metadata": {},
     "output_type": "execute_result"
    }
   ],
   "source": [
    "#c2\n",
    "mean_var(pc, params, model=2)"
   ]
  },
  {
   "cell_type": "code",
   "execution_count": 17,
   "id": "crucial-bradford",
   "metadata": {},
   "outputs": [
    {
     "data": {
      "text/plain": [
       "(17.87499999999988, 25.140575000001604)"
      ]
     },
     "execution_count": 17,
     "metadata": {},
     "output_type": "execute_result"
    }
   ],
   "source": [
    "#d1\n",
    "mean_var(pd, params, model=1)"
   ]
  },
  {
   "cell_type": "code",
   "execution_count": 18,
   "id": "structured-repository",
   "metadata": {},
   "outputs": [
    {
     "data": {
      "text/plain": [
       "(17.874999999999993, 26.6277750000001)"
      ]
     },
     "execution_count": 18,
     "metadata": {},
     "output_type": "execute_result"
    }
   ],
   "source": [
    "#d2\n",
    "mean_var(pd, params, model=2)"
   ]
  },
  {
   "cell_type": "code",
   "execution_count": 12,
   "id": "demographic-perspective",
   "metadata": {},
   "outputs": [
    {
     "data": {
      "text/plain": [
       "(array([82]), array([550]), array([14]), array([18]))"
      ]
     },
     "execution_count": 12,
     "metadata": {},
     "output_type": "execute_result"
    }
   ],
   "source": [
    "a_mean = np.array([round(mean_var(pa, params, 1)[0])])\n",
    "b_mean = np.array([round(mean_var(pb, params, 1)[0])])\n",
    "c_mean = np.array([round(mean_var(pc, params, 1)[0])])\n",
    "d_mean = np.array([round(mean_var(pd, params, 1)[0])])\n",
    "a_mean, b_mean, c_mean, d_mean"
   ]
  },
  {
   "cell_type": "code",
   "execution_count": 16,
   "id": "ordered-binary",
   "metadata": {},
   "outputs": [
    {
     "data": {
      "image/png": "[encoded data removed]",
      "text/plain": [
       "<Figure size 1440x504 with 2 Axes>"
      ]
     },
     "metadata": {
      "needs_background": "light"
     },
     "output_type": "display_data"
    }
   ],
   "source": [
    "x_lim = 100\n",
    "d_mean = np.array([60])\n",
    "fig, axs = plt.subplots(1, 2, figsize=(20, 7))\n",
    "for model in [1, 2]:\n",
    "    idx = model - 1\n",
    "    axs[idx].set_title(f\"model {model}\")\n",
    "    axs[idx].plot(pc(params, model)[0][:x_lim], label=\"p(c)\")\n",
    "    axs[idx].plot(pc_a(a_mean, params, model)[0][:x_lim].squeeze(), label=\"p(c|<a>)\")\n",
    "    axs[idx].plot(pc_b(b_mean, params, model)[0][:x_lim].squeeze(), label=\"p(c|<b>)\")\n",
    "    axs[idx].plot(pc_d(d_mean, params, model)[0][:x_lim].squeeze(), label=\"p(c|<d>)\")\n",
    "    axs[idx].plot(pc_ab(a_mean, b_mean, params, model)[0][:x_lim].squeeze(), label=\"p(c|<a, b>)\")\n",
    "    axs[idx].plot(pc_abd(a_mean, b_mean, d_mean, params, model)[0][:x_lim].squeeze(), '--', label=\"p(c|<a, b, d>)\")\n",
    "    axs[idx].set_xlabel('c')\n",
    "    axs[idx].set_ylabel('p')\n",
    "    axs[idx].legend()\n",
    "# plt.savefig(\"task3.png\")\n",
    "plt.show()"
   ]
  },
  {
   "cell_type": "code",
   "execution_count": 17,
   "id": "activated-richmond",
   "metadata": {},
   "outputs": [],
   "source": [
    "model = 1\n",
    "c_a_mv = mean_var(pc_a, a_mean, params, model) \n",
    "c_b_mv = mean_var(pc_b, b_mean, params, model) \n",
    "c_d_mv = mean_var(pc_d, d_mean, params, model) \n",
    "c_ab_mv = mean_var(pc_ab, a_mean, b_mean, params, model) \n",
    "c_abd_mv = mean_var(pc_abd, a_mean, b_mean, d_mean, params, model) "
   ]
  },
  {
   "cell_type": "code",
   "execution_count": 18,
   "id": "precise-suspect",
   "metadata": {},
   "outputs": [
    {
     "name": "stdout",
     "output_type": "stream",
     "text": [
      "mean: [13.7], varience: [12.91]\n",
      "mean: [13.75], varience: [13.0825]\n",
      "mean: [40.16668236], varience: [3.99536815]\n",
      "mean: [[13.7]], varience: [[12.825]]\n",
      "mean: [[[39.97417933]]], varience: [[[3.92017858]]]\n"
     ]
    }
   ],
   "source": [
    "for m, v in [c_a_mv, c_b_mv, c_d_mv, c_ab_mv, c_abd_mv]:\n",
    "    print(f\"mean: {m}, varience: {v}\")"
   ]
  },
  {
   "cell_type": "code",
   "execution_count": 107,
   "id": "specified-impact",
   "metadata": {},
   "outputs": [],
   "source": [
    "model = 2\n",
    "c_a_mv = mean_var(pc_a, a_mean, params, model) \n",
    "c_b_mv = mean_var(pc_b, b_mean, params, model) \n",
    "c_d_mv = mean_var(pc_d, d_mean, params, model) \n",
    "c_ab_mv = mean_var(pc_ab, a_mean, b_mean, params, model) \n",
    "c_abd_mv = mean_var(pc_abd, a_mean, b_mean, d_mean, params, model) "
   ]
  },
  {
   "cell_type": "code",
   "execution_count": 108,
   "id": "federal-proportion",
   "metadata": {},
   "outputs": [
    {
     "name": "stdout",
     "output_type": "stream",
     "text": [
      "mean: [13.7], varience: [13.785]\n",
      "mean: [13.75], varience: [13.9625]\n",
      "mean: [13.89383389], varience: [1.54394333]\n",
      "mean: [[13.7]], varience: [[13.7]]\n",
      "mean: [[[13.88897106]]], varience: [[[1.54022854]]]\n"
     ]
    }
   ],
   "source": [
    "for m, v in [c_a_mv, c_b_mv, c_d_mv, c_ab_mv, c_abd_mv]:\n",
    "    print(f\"mean: {m}, varience: {v}\")"
   ]
  },
  {
   "cell_type": "markdown",
   "id": "industrial-teaching",
   "metadata": {},
   "source": [
    "# Проверка значимости $d$"
   ]
  },
  {
   "cell_type": "code",
   "execution_count": 19,
   "id": "printable-constitutional",
   "metadata": {},
   "outputs": [
    {
     "name": "stderr",
     "output_type": "stream",
     "text": [
      "/home/anton/hse.bayes_course/practice_1/anton_prazdnichnykh_v1.py:74: RuntimeWarning: invalid value encountered in true_divide\n",
      "  return pr / pr.sum(0), c\n"
     ]
    }
   ],
   "source": [
    "model = 1\n",
    "a = np.arange(a_min, a_max + 1)\n",
    "b = np.arange(b_min, b_max + 1)\n",
    "d = np.arange(n_d)\n",
    "c_a_m, c_a_d = mean_var(pc_a, a, params, model)\n",
    "c_b_m, c_b_d = mean_var(pc_b, b, params, model) \n",
    "c_d_m, c_d_d = mean_var(pc_d, d, params, model) "
   ]
  },
  {
   "cell_type": "code",
   "execution_count": 20,
   "id": "double-length",
   "metadata": {},
   "outputs": [
    {
     "data": {
      "text/plain": [
       "(101,)"
      ]
     },
     "execution_count": 20,
     "metadata": {},
     "output_type": "execute_result"
    }
   ],
   "source": [
    "c_b_d.shape"
   ]
  },
  {
   "cell_type": "code",
   "execution_count": 21,
   "id": "adequate-consent",
   "metadata": {},
   "outputs": [
    {
     "data": {
      "text/plain": [
       "False"
      ]
     },
     "execution_count": 21,
     "metadata": {},
     "output_type": "execute_result"
    }
   ],
   "source": [
    "np.all(np.array([[d_ < b_ for b_ in c_b_d] for d_ in c_d_d]))"
   ]
  },
  {
   "cell_type": "code",
   "execution_count": 22,
   "id": "macro-meter",
   "metadata": {},
   "outputs": [
    {
     "data": {
      "text/plain": [
       "False"
      ]
     },
     "execution_count": 22,
     "metadata": {},
     "output_type": "execute_result"
    }
   ],
   "source": [
    "np.all(np.array([[d_ > a_ for a_ in c_a_d] for d_ in c_d_d]))"
   ]
  },
  {
   "cell_type": "code",
   "execution_count": 73,
   "id": "subtle-swimming",
   "metadata": {},
   "outputs": [
    {
     "data": {
      "text/plain": [
       "(101,)"
      ]
     },
     "execution_count": 73,
     "metadata": {},
     "output_type": "execute_result"
    }
   ],
   "source": [
    "model = 2\n",
    "c_a_m, c_a_d = mean_var(pc_a, a, params, model)\n",
    "c_b_m, c_b_d = mean_var(pc_b, b, params, model) \n",
    "c_d_m, c_d_d = mean_var(pc_d, d, params, model) \n",
    "\n",
    "c_b_d.shape"
   ]
  },
  {
   "cell_type": "code",
   "execution_count": 76,
   "id": "featured-complement",
   "metadata": {},
   "outputs": [
    {
     "data": {
      "text/plain": [
       "(array([54, 54, 54, ..., 66, 66, 66]),\n",
       " array([  0,   1,   2, ...,  98,  99, 100]))"
      ]
     },
     "execution_count": 76,
     "metadata": {},
     "output_type": "execute_result"
    }
   ],
   "source": [
    "np.where(np.array([[d_ < b_ for b_ in c_b_d] for d_ in c_d_d]) == 0)"
   ]
  },
  {
   "cell_type": "code",
   "execution_count": 80,
   "id": "future-forest",
   "metadata": {},
   "outputs": [
    {
     "data": {
      "text/plain": [
       "(array([54, 54, 54, 54, 54, 54, 54, 54, 54, 54, 54, 54, 54, 54, 54, 54, 55,\n",
       "        55, 55, 55, 55, 55, 55, 55, 55, 55, 55, 55, 55, 55, 55, 55, 56, 56,\n",
       "        56, 56, 56, 56, 56, 56, 56, 56, 56, 56, 56, 56, 56, 56, 57, 57, 57,\n",
       "        57, 57, 57, 57, 57, 57, 57, 57, 57, 57, 57, 57, 57, 58, 58, 58, 58,\n",
       "        58, 58, 58, 58, 58, 58, 58, 58, 58, 58, 58, 58, 59, 59, 59, 59, 59,\n",
       "        59, 59, 59, 59, 59, 59, 59, 59, 59, 59, 59, 60, 60, 60, 60, 60, 60,\n",
       "        60, 60, 60, 60, 60, 60, 60, 60, 60, 60, 61, 61, 61, 61, 61, 61, 61,\n",
       "        61, 61, 61, 61, 61, 61, 61, 61, 61, 62, 62, 62, 62, 62, 62, 62, 62,\n",
       "        62, 62, 62, 62, 62, 62, 62, 62, 63, 63, 63, 63, 63, 63, 63, 63, 63,\n",
       "        63, 63, 63, 63, 63, 63, 63, 64, 64, 64, 64, 64, 64, 64, 64, 64, 64,\n",
       "        64, 64, 64, 64, 64, 64, 65, 65, 65, 65, 65, 65, 65, 65, 65, 65, 65,\n",
       "        65, 65, 65, 65, 65, 66, 66, 66, 66, 66, 66, 66, 66, 66, 66, 66, 66,\n",
       "        66, 66, 66, 66]),\n",
       " array([ 0,  1,  2,  3,  4,  5,  6,  7,  8,  9, 10, 11, 12, 13, 14, 15,  0,\n",
       "         1,  2,  3,  4,  5,  6,  7,  8,  9, 10, 11, 12, 13, 14, 15,  0,  1,\n",
       "         2,  3,  4,  5,  6,  7,  8,  9, 10, 11, 12, 13, 14, 15,  0,  1,  2,\n",
       "         3,  4,  5,  6,  7,  8,  9, 10, 11, 12, 13, 14, 15,  0,  1,  2,  3,\n",
       "         4,  5,  6,  7,  8,  9, 10, 11, 12, 13, 14, 15,  0,  1,  2,  3,  4,\n",
       "         5,  6,  7,  8,  9, 10, 11, 12, 13, 14, 15,  0,  1,  2,  3,  4,  5,\n",
       "         6,  7,  8,  9, 10, 11, 12, 13, 14, 15,  0,  1,  2,  3,  4,  5,  6,\n",
       "         7,  8,  9, 10, 11, 12, 13, 14, 15,  0,  1,  2,  3,  4,  5,  6,  7,\n",
       "         8,  9, 10, 11, 12, 13, 14, 15,  0,  1,  2,  3,  4,  5,  6,  7,  8,\n",
       "         9, 10, 11, 12, 13, 14, 15,  0,  1,  2,  3,  4,  5,  6,  7,  8,  9,\n",
       "        10, 11, 12, 13, 14, 15,  0,  1,  2,  3,  4,  5,  6,  7,  8,  9, 10,\n",
       "        11, 12, 13, 14, 15,  0,  1,  2,  3,  4,  5,  6,  7,  8,  9, 10, 11,\n",
       "        12, 13, 14, 15]))"
      ]
     },
     "execution_count": 80,
     "metadata": {},
     "output_type": "execute_result"
    }
   ],
   "source": [
    "np.where(np.array([[d_ < a_ for a_ in c_a_d] for d_ in c_d_d]) == 0)"
   ]
  },
  {
   "cell_type": "code",
   "execution_count": 27,
   "id": "involved-composite",
   "metadata": {},
   "outputs": [
    {
     "data": {
      "text/plain": [
       "array([[0.00000000e+00, 0.00000000e+00, 0.00000000e+00, ...,\n",
       "        0.00000000e+00, 0.00000000e+00, 0.00000000e+00],\n",
       "       [1.55893482e-04, 1.57036023e-04, 1.58178565e-04, ...,\n",
       "        1.70746525e-04, 1.71889067e-04, 1.73031609e-04],\n",
       "       [8.89743579e-01, 8.96264501e-01, 9.02785423e-01, ...,\n",
       "        9.74515565e-01, 9.81036487e-01, 9.87557409e-01],\n",
       "       ...,\n",
       "       [0.00000000e+00, 0.00000000e+00, 0.00000000e+00, ...,\n",
       "        0.00000000e+00, 0.00000000e+00, 0.00000000e+00],\n",
       "       [0.00000000e+00, 0.00000000e+00, 0.00000000e+00, ...,\n",
       "        0.00000000e+00, 0.00000000e+00, 0.00000000e+00],\n",
       "       [0.00000000e+00, 0.00000000e+00, 0.00000000e+00, ...,\n",
       "        0.00000000e+00, 0.00000000e+00, 0.00000000e+00]])"
      ]
     },
     "execution_count": 27,
     "metadata": {},
     "output_type": "execute_result"
    }
   ],
   "source": [
    "c_d_d.reshape(-1, 1).dot(c_a_d.reshape(1, -1))"
   ]
  },
  {
   "cell_type": "code",
   "execution_count": 41,
   "id": "round-dividend",
   "metadata": {},
   "outputs": [
    {
     "data": {
      "text/plain": [
       "array([ 19.40918628,  37.5849257 ,  75.17177299, 146.25500696,\n",
       "       255.86924201, 363.11009436, 380.43851606, 288.60450307,\n",
       "       169.84080279,  85.3456783 ,  39.34363806,  17.3229252 ])"
      ]
     },
     "execution_count": 41,
     "metadata": {},
     "output_type": "execute_result"
    }
   ],
   "source": [
    "c_d_d[53:65]"
   ]
  },
  {
   "cell_type": "code",
   "execution_count": 48,
   "id": "entertaining-wrong",
   "metadata": {},
   "outputs": [
    {
     "data": {
      "text/plain": [
       "array([0.00000000e+00, 1.26949089e-05, 7.24546888e-02, 1.62627791e-01,\n",
       "       2.60235530e-01, 3.60196578e-01, 4.60360587e-01, 5.59602476e-01,\n",
       "       6.57361854e-01, 7.53353176e-01, 8.47448216e-01, 9.39605432e-01,\n",
       "       1.02983387e+00, 1.11817123e+00, 1.20467132e+00, 1.28939631e+00,\n",
       "       1.37241210e+00, 1.45378538e+00, 1.53358194e+00, 1.61186561e+00,\n",
       "       1.68869766e+00, 1.76413648e+00, 1.83823753e+00, 1.91105324e+00,\n",
       "       1.98263315e+00, 2.05302400e+00, 2.12226987e+00, 2.19041235e+00,\n",
       "       2.25749071e+00, 2.32354210e+00, 2.38860175e+00, 2.45270327e+00,\n",
       "       2.51587900e+00, 2.57816058e+00, 2.63957982e+00, 2.70017031e+00,\n",
       "       2.75997030e+00, 2.81902810e+00, 2.87741246e+00, 2.93523284e+00,\n",
       "       2.99267940e+00, 3.05010340e+00, 3.10818000e+00, 3.16824286e+00,\n",
       "       3.23297885e+00, 3.30788748e+00, 3.40438034e+00, 3.54643410e+00,\n",
       "       3.78501356e+00, 4.22961539e+00, 5.11769672e+00, 6.96771208e+00,\n",
       "       1.09133375e+01, 1.94091863e+01, 3.75849257e+01, 7.51717730e+01,\n",
       "       1.46255007e+02, 2.55869242e+02, 3.63110094e+02, 3.80438516e+02,\n",
       "       2.88604503e+02, 1.69840803e+02, 8.53456783e+01, 3.93436381e+01,\n",
       "       1.73229252e+01])"
      ]
     },
     "execution_count": 48,
     "metadata": {},
     "output_type": "execute_result"
    }
   ],
   "source": [
    "c_d_d[:65]"
   ]
  },
  {
   "cell_type": "markdown",
   "id": "herbal-attitude",
   "metadata": {},
   "source": [
    "# Линейная разделимость"
   ]
  },
  {
   "cell_type": "code",
   "execution_count": 81,
   "id": "excessive-suggestion",
   "metadata": {},
   "outputs": [],
   "source": [
    "a = np.arange(a_min, a_max + 1)\n",
    "b = np.arange(b_min, b_max + 1)\n",
    "d = np.arange(n_d)"
   ]
  },
  {
   "cell_type": "code",
   "execution_count": 82,
   "id": "surface-error",
   "metadata": {},
   "outputs": [],
   "source": [
    "model = 1\n",
    "c_a_m, c_a_d = mean_var(pc_a, a, params, model)\n",
    "c_b_m, c_b_d = mean_var(pc_b, b, params, model) \n",
    "c_d_m, c_d_d = mean_var(pc_d, d, params, model) "
   ]
  },
  {
   "cell_type": "code",
   "execution_count": 83,
   "id": "seventh-solid",
   "metadata": {},
   "outputs": [
    {
     "data": {
      "text/plain": [
       "array([[ 79, 500],\n",
       "       [ 80, 500],\n",
       "       [ 81, 500],\n",
       "       ...,\n",
       "       [ 90, 598],\n",
       "       [ 90, 599],\n",
       "       [ 90, 600]])"
      ]
     },
     "execution_count": 83,
     "metadata": {},
     "output_type": "execute_result"
    }
   ],
   "source": [
    "b_idx, a_idx = np.where([[b_ < a_ for a_ in c_a_d] for b_ in c_b_d])\n",
    "bla = np.vstack((a[a_idx], b[b_idx])).T\n",
    "bla"
   ]
  },
  {
   "cell_type": "code",
   "execution_count": 84,
   "id": "empty-metadata",
   "metadata": {},
   "outputs": [
    {
     "data": {
      "text/plain": [
       "array([[ 75, 500],\n",
       "       [ 76, 500],\n",
       "       [ 77, 500],\n",
       "       ...,\n",
       "       [ 87, 600],\n",
       "       [ 88, 600],\n",
       "       [ 89, 600]])"
      ]
     },
     "execution_count": 84,
     "metadata": {},
     "output_type": "execute_result"
    }
   ],
   "source": [
    "b_idx, a_idx = np.where([[b_ >= a_ for a_ in c_a_d] for b_ in c_b_d])\n",
    "bga = np.vstack((a[a_idx], b[b_idx])).T\n",
    "bga"
   ]
  },
  {
   "cell_type": "code",
   "execution_count": 85,
   "id": "round-burst",
   "metadata": {},
   "outputs": [],
   "source": [
    "model = 2\n",
    "c_a_m2, c_a_d2 = mean_var(pc_a, a, params, model)\n",
    "c_b_m2, c_b_d2 = mean_var(pc_b, b, params, model) \n",
    "c_d_m2, c_d_d2 = mean_var(pc_d, d, params, model) "
   ]
  },
  {
   "cell_type": "code",
   "execution_count": 86,
   "id": "structured-postage",
   "metadata": {},
   "outputs": [
    {
     "data": {
      "text/plain": [
       "array([[ 79, 500],\n",
       "       [ 80, 500],\n",
       "       [ 81, 500],\n",
       "       ...,\n",
       "       [ 90, 599],\n",
       "       [ 89, 600],\n",
       "       [ 90, 600]])"
      ]
     },
     "execution_count": 86,
     "metadata": {},
     "output_type": "execute_result"
    }
   ],
   "source": [
    "b_idx, a_idx = np.where([[b_ < a_ for a_ in c_a_d2] for b_ in c_b_d2])\n",
    "bla2 = np.vstack((a[a_idx], b[b_idx])).T\n",
    "bla2"
   ]
  },
  {
   "cell_type": "code",
   "execution_count": 87,
   "id": "careful-sessions",
   "metadata": {},
   "outputs": [
    {
     "data": {
      "text/plain": [
       "array([[ 75, 500],\n",
       "       [ 76, 500],\n",
       "       [ 77, 500],\n",
       "       ...,\n",
       "       [ 86, 600],\n",
       "       [ 87, 600],\n",
       "       [ 88, 600]])"
      ]
     },
     "execution_count": 87,
     "metadata": {},
     "output_type": "execute_result"
    }
   ],
   "source": [
    "b_idx, a_idx = np.where([[b_ >= a_ for a_ in c_a_d2] for b_ in c_b_d2])\n",
    "bga2 = np.vstack((a[a_idx], b[b_idx])).T\n",
    "bga2"
   ]
  },
  {
   "cell_type": "code",
   "execution_count": 90,
   "id": "useful-marks",
   "metadata": {},
   "outputs": [
    {
     "data": {
      "image/png": "[encoded data removed]",
      "text/plain": [
       "<Figure size 1440x504 with 2 Axes>"
      ]
     },
     "metadata": {
      "needs_background": "light"
     },
     "output_type": "display_data"
    }
   ],
   "source": [
    "plt.x_lim = 30\n",
    "fig, axs = plt.subplots(1, 2, figsize=(20, 7))\n",
    "axs[0].set_title(\"model 1\")\n",
    "axs[0].set_xlabel(\"a\")\n",
    "axs[0].set_ylabel(\"b\")\n",
    "axs[0].scatter(bla[:, 0], bla[:, 1], color='red', label='D[c|b] < D[c|a]')\n",
    "axs[0].scatter(bga[:, 0], bga[:, 1], color='blue', label='D[c|b] >= D[c|a]')\n",
    "axs[0].legend()\n",
    "\n",
    "axs[1].set_title(\"model 2\")\n",
    "axs[1].set_xlabel(\"a\")\n",
    "axs[1].set_ylabel(\"b\")\n",
    "axs[1].scatter(bla2[:, 0], bla2[:, 1], color='red', label='D[c|b] < D[c|a]')\n",
    "axs[1].scatter(bga2[:, 0], bga2[:, 1], color='blue', label='D[c|b] >= D[c|a]')\n",
    "axs[1].legend()\n",
    "plt.savefig(\"task4.png\")\n",
    "plt.show()"
   ]
  },
  {
   "cell_type": "markdown",
   "id": "gentle-concentration",
   "metadata": {},
   "source": [
    "# Замеры времени"
   ]
  },
  {
   "cell_type": "code",
   "execution_count": 92,
   "id": "affiliated-reserve",
   "metadata": {},
   "outputs": [],
   "source": [
    "model = 1"
   ]
  },
  {
   "cell_type": "code",
   "execution_count": 93,
   "id": "composite-supervisor",
   "metadata": {},
   "outputs": [
    {
     "name": "stdout",
     "output_type": "stream",
     "text": [
      "CPU times: user 556 ms, sys: 0 ns, total: 556 ms\n",
      "Wall time: 555 ms\n"
     ]
    }
   ],
   "source": [
    "%%time\n",
    "pr, v = pc(params, model)"
   ]
  },
  {
   "cell_type": "code",
   "execution_count": 94,
   "id": "threaded-lemon",
   "metadata": {},
   "outputs": [
    {
     "name": "stdout",
     "output_type": "stream",
     "text": [
      "CPU times: user 52.8 ms, sys: 3.24 ms, total: 56 ms\n",
      "Wall time: 53.9 ms\n"
     ]
    }
   ],
   "source": [
    "%%time\n",
    "pr, v = pc_a(a_mean, params, model)"
   ]
  },
  {
   "cell_type": "code",
   "execution_count": 95,
   "id": "fitted-prison",
   "metadata": {},
   "outputs": [
    {
     "name": "stdout",
     "output_type": "stream",
     "text": [
      "CPU times: user 16.8 ms, sys: 128 µs, total: 16.9 ms\n",
      "Wall time: 15.2 ms\n"
     ]
    }
   ],
   "source": [
    "%%time\n",
    "pr, v = pc_b(b_mean, params, model)"
   ]
  },
  {
   "cell_type": "code",
   "execution_count": 96,
   "id": "balanced-failure",
   "metadata": {},
   "outputs": [
    {
     "name": "stdout",
     "output_type": "stream",
     "text": [
      "CPU times: user 612 ms, sys: 15.4 ms, total: 628 ms\n",
      "Wall time: 627 ms\n"
     ]
    }
   ],
   "source": [
    "%%time\n",
    "pr, v = pc_d(d_mean, params, model)"
   ]
  },
  {
   "cell_type": "code",
   "execution_count": 97,
   "id": "concrete-protest",
   "metadata": {},
   "outputs": [
    {
     "name": "stdout",
     "output_type": "stream",
     "text": [
      "CPU times: user 9.55 ms, sys: 278 µs, total: 9.83 ms\n",
      "Wall time: 8.37 ms\n"
     ]
    }
   ],
   "source": [
    "%%time\n",
    "pr, v = pc_ab(a_mean, b_mean, params, model)"
   ]
  },
  {
   "cell_type": "code",
   "execution_count": 98,
   "id": "patent-income",
   "metadata": {},
   "outputs": [
    {
     "name": "stdout",
     "output_type": "stream",
     "text": [
      "CPU times: user 87.8 ms, sys: 7.9 ms, total: 95.7 ms\n",
      "Wall time: 93.4 ms\n"
     ]
    }
   ],
   "source": [
    "%%time\n",
    "pr, v = pc_abd(a_mean, b_mean, d_mean, params, model)"
   ]
  },
  {
   "cell_type": "code",
   "execution_count": 99,
   "id": "literary-manner",
   "metadata": {},
   "outputs": [
    {
     "name": "stdout",
     "output_type": "stream",
     "text": [
      "CPU times: user 609 ms, sys: 37.5 ms, total: 647 ms\n",
      "Wall time: 635 ms\n"
     ]
    }
   ],
   "source": [
    "%%time\n",
    "pr, v = pd(params, model)"
   ]
  },
  {
   "cell_type": "code",
   "execution_count": 100,
   "id": "requested-leonard",
   "metadata": {},
   "outputs": [],
   "source": [
    "model = 2"
   ]
  },
  {
   "cell_type": "code",
   "execution_count": 101,
   "id": "orange-option",
   "metadata": {},
   "outputs": [
    {
     "name": "stdout",
     "output_type": "stream",
     "text": [
      "CPU times: user 106 ms, sys: 54.1 ms, total: 160 ms\n",
      "Wall time: 158 ms\n"
     ]
    }
   ],
   "source": [
    "%%time\n",
    "pr, v = pc(params, model)"
   ]
  },
  {
   "cell_type": "code",
   "execution_count": 102,
   "id": "unavailable-surgeon",
   "metadata": {},
   "outputs": [
    {
     "name": "stdout",
     "output_type": "stream",
     "text": [
      "CPU times: user 8.16 ms, sys: 3.21 ms, total: 11.4 ms\n",
      "Wall time: 10.1 ms\n"
     ]
    }
   ],
   "source": [
    "%%time\n",
    "pr, v = pc_a(a_mean, params, model)"
   ]
  },
  {
   "cell_type": "code",
   "execution_count": 103,
   "id": "artificial-entity",
   "metadata": {},
   "outputs": [
    {
     "name": "stdout",
     "output_type": "stream",
     "text": [
      "CPU times: user 4.53 ms, sys: 103 µs, total: 4.63 ms\n",
      "Wall time: 3.53 ms\n"
     ]
    }
   ],
   "source": [
    "%%time\n",
    "pr, v = pc_b(b_mean, params, model)"
   ]
  },
  {
   "cell_type": "code",
   "execution_count": 104,
   "id": "sixth-funds",
   "metadata": {},
   "outputs": [
    {
     "name": "stdout",
     "output_type": "stream",
     "text": [
      "CPU times: user 163 ms, sys: 39.8 ms, total: 203 ms\n",
      "Wall time: 201 ms\n"
     ]
    }
   ],
   "source": [
    "%%time\n",
    "pr, v = pc_d(d_mean, params, model)"
   ]
  },
  {
   "cell_type": "code",
   "execution_count": 105,
   "id": "behind-nylon",
   "metadata": {},
   "outputs": [
    {
     "name": "stdout",
     "output_type": "stream",
     "text": [
      "CPU times: user 240 µs, sys: 3.24 ms, total: 3.48 ms\n",
      "Wall time: 2.03 ms\n"
     ]
    }
   ],
   "source": [
    "%%time\n",
    "pr, v = pc_ab(a_mean, b_mean, params, model)"
   ]
  },
  {
   "cell_type": "code",
   "execution_count": 121,
   "id": "running-wildlife",
   "metadata": {},
   "outputs": [
    {
     "name": "stdout",
     "output_type": "stream",
     "text": [
      "CPU times: user 58.6 ms, sys: 24.9 ms, total: 83.5 ms\n",
      "Wall time: 81.5 ms\n"
     ]
    }
   ],
   "source": [
    "%%time\n",
    "pr, v = pc_abd(a_mean, b_mean, d_mean, params, model)"
   ]
  },
  {
   "cell_type": "code",
   "execution_count": 113,
   "id": "scenic-ghana",
   "metadata": {},
   "outputs": [
    {
     "name": "stdout",
     "output_type": "stream",
     "text": [
      "CPU times: user 165 ms, sys: 46.4 ms, total: 211 ms\n",
      "Wall time: 201 ms\n"
     ]
    }
   ],
   "source": [
    "%%time\n",
    "pr, v = pd(params, model)"
   ]
  },
  {
   "cell_type": "code",
   "execution_count": null,
   "id": "younger-prediction",
   "metadata": {},
   "outputs": [],
   "source": []
  },
  {
   "cell_type": "code",
   "execution_count": null,
   "id": "minute-carroll",
   "metadata": {},
   "outputs": [],
   "source": []
  }
 ],
 "metadata": {
  "kernelspec": {
   "display_name": "Python 3",
   "language": "python",
   "name": "python3"
  },
  "language_info": {
   "codemirror_mode": {
    "name": "ipython",
    "version": 3
   },
   "file_extension": ".py",
   "mimetype": "text/x-python",
   "name": "python",
   "nbconvert_exporter": "python",
   "pygments_lexer": "ipython3",
   "version": "3.8.10"
  }
 },
 "nbformat": 4,
 "nbformat_minor": 5
}
