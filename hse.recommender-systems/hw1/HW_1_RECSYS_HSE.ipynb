{
 "cells": [
  {
   "cell_type": "markdown",
   "metadata": {},
   "source": [
    "### Матричные факторизации"
   ]
  },
  {
   "cell_type": "markdown",
   "metadata": {},
   "source": [
    "В данной работе вам предстоит познакомиться с практической стороной матричных разложений.\n",
    "Работа поделена на 4 задания:\n",
    "1. Вам необходимо реализовать SVD разложения используя SGD на explicit данных\n",
    "2. Вам необходимо реализовать матричное разложения используя ALS на implicit данных\n",
    "3. Вам необходимо реализовать матричное разложения используя BPR на implicit данных\n",
    "4. Вам необходимо реализовать матричное разложения используя WARP на implicit данных\n",
    "\n",
    "Мягкий дедлайн 13 Октября (пишутся замечания, выставляется оценка, есть возможность исправить до жесткого дедлайна)\n",
    "\n",
    "Жесткий дедлайн 20 Октября (Итоговая проверка)"
   ]
  },
  {
   "cell_type": "code",
   "execution_count": 1,
   "metadata": {},
   "outputs": [],
   "source": [
    "import implicit\n",
    "import pandas as pd\n",
    "import numpy as np\n",
    "import scipy.sparse as sp\n",
    "\n",
    "from lightfm.datasets import fetch_movielens\n",
    "from math import ceil\n",
    "import itertools"
   ]
  },
  {
   "cell_type": "markdown",
   "metadata": {},
   "source": [
    "В данной работе мы будем работать с explicit датасетом movieLens, в котором представленны пары user_id movie_id и rating выставленный пользователем фильму\n",
    "\n",
    "Скачать датасет можно по ссылке https://grouplens.org/datasets/movielens/1m/"
   ]
  },
  {
   "cell_type": "code",
   "execution_count": 2,
   "metadata": {},
   "outputs": [],
   "source": [
    "ratings = pd.read_csv('ml-1m/ratings.dat', delimiter='::', header=None, \n",
    "        names=['user_id', 'movie_id', 'rating', 'timestamp'], \n",
    "        usecols=['user_id', 'movie_id', 'rating'], engine='python')"
   ]
  },
  {
   "cell_type": "code",
   "execution_count": 3,
   "metadata": {},
   "outputs": [],
   "source": [
    "movie_info = pd.read_csv('ml-1m/movies.dat', delimiter='::', header=None, \n",
    "        names=['movie_id', 'name', 'category'], engine='python', encoding=\"ISO-8859-1\")"
   ]
  },
  {
   "cell_type": "markdown",
   "metadata": {},
   "source": [
    "Explicit данные"
   ]
  },
  {
   "cell_type": "code",
   "execution_count": 4,
   "metadata": {},
   "outputs": [
    {
     "data": {
      "text/html": [
       "<div>\n",
       "<style scoped>\n",
       "    .dataframe tbody tr th:only-of-type {\n",
       "        vertical-align: middle;\n",
       "    }\n",
       "\n",
       "    .dataframe tbody tr th {\n",
       "        vertical-align: top;\n",
       "    }\n",
       "\n",
       "    .dataframe thead th {\n",
       "        text-align: right;\n",
       "    }\n",
       "</style>\n",
       "<table border=\"1\" class=\"dataframe\">\n",
       "  <thead>\n",
       "    <tr style=\"text-align: right;\">\n",
       "      <th></th>\n",
       "      <th>user_id</th>\n",
       "      <th>movie_id</th>\n",
       "      <th>rating</th>\n",
       "    </tr>\n",
       "  </thead>\n",
       "  <tbody>\n",
       "    <tr>\n",
       "      <th>0</th>\n",
       "      <td>1</td>\n",
       "      <td>1193</td>\n",
       "      <td>5</td>\n",
       "    </tr>\n",
       "    <tr>\n",
       "      <th>1</th>\n",
       "      <td>1</td>\n",
       "      <td>661</td>\n",
       "      <td>3</td>\n",
       "    </tr>\n",
       "    <tr>\n",
       "      <th>2</th>\n",
       "      <td>1</td>\n",
       "      <td>914</td>\n",
       "      <td>3</td>\n",
       "    </tr>\n",
       "    <tr>\n",
       "      <th>3</th>\n",
       "      <td>1</td>\n",
       "      <td>3408</td>\n",
       "      <td>4</td>\n",
       "    </tr>\n",
       "    <tr>\n",
       "      <th>4</th>\n",
       "      <td>1</td>\n",
       "      <td>2355</td>\n",
       "      <td>5</td>\n",
       "    </tr>\n",
       "    <tr>\n",
       "      <th>5</th>\n",
       "      <td>1</td>\n",
       "      <td>1197</td>\n",
       "      <td>3</td>\n",
       "    </tr>\n",
       "    <tr>\n",
       "      <th>6</th>\n",
       "      <td>1</td>\n",
       "      <td>1287</td>\n",
       "      <td>5</td>\n",
       "    </tr>\n",
       "    <tr>\n",
       "      <th>7</th>\n",
       "      <td>1</td>\n",
       "      <td>2804</td>\n",
       "      <td>5</td>\n",
       "    </tr>\n",
       "    <tr>\n",
       "      <th>8</th>\n",
       "      <td>1</td>\n",
       "      <td>594</td>\n",
       "      <td>4</td>\n",
       "    </tr>\n",
       "    <tr>\n",
       "      <th>9</th>\n",
       "      <td>1</td>\n",
       "      <td>919</td>\n",
       "      <td>4</td>\n",
       "    </tr>\n",
       "  </tbody>\n",
       "</table>\n",
       "</div>"
      ],
      "text/plain": [
       "   user_id  movie_id  rating\n",
       "0        1      1193       5\n",
       "1        1       661       3\n",
       "2        1       914       3\n",
       "3        1      3408       4\n",
       "4        1      2355       5\n",
       "5        1      1197       3\n",
       "6        1      1287       5\n",
       "7        1      2804       5\n",
       "8        1       594       4\n",
       "9        1       919       4"
      ]
     },
     "execution_count": 4,
     "metadata": {},
     "output_type": "execute_result"
    }
   ],
   "source": [
    "ratings.head(10)"
   ]
  },
  {
   "cell_type": "markdown",
   "metadata": {},
   "source": [
    "Для того, чтобы преобразовать текущий датасет в Implicit, давайте считать что позитивная оценка это оценка >=4"
   ]
  },
  {
   "cell_type": "code",
   "execution_count": 5,
   "metadata": {},
   "outputs": [],
   "source": [
    "implicit_ratings = ratings.loc[(ratings['rating'] >= 4)]"
   ]
  },
  {
   "cell_type": "code",
   "execution_count": 6,
   "metadata": {},
   "outputs": [
    {
     "data": {
      "text/html": [
       "<div>\n",
       "<style scoped>\n",
       "    .dataframe tbody tr th:only-of-type {\n",
       "        vertical-align: middle;\n",
       "    }\n",
       "\n",
       "    .dataframe tbody tr th {\n",
       "        vertical-align: top;\n",
       "    }\n",
       "\n",
       "    .dataframe thead th {\n",
       "        text-align: right;\n",
       "    }\n",
       "</style>\n",
       "<table border=\"1\" class=\"dataframe\">\n",
       "  <thead>\n",
       "    <tr style=\"text-align: right;\">\n",
       "      <th></th>\n",
       "      <th>user_id</th>\n",
       "      <th>movie_id</th>\n",
       "      <th>rating</th>\n",
       "    </tr>\n",
       "  </thead>\n",
       "  <tbody>\n",
       "    <tr>\n",
       "      <th>0</th>\n",
       "      <td>1</td>\n",
       "      <td>1193</td>\n",
       "      <td>5</td>\n",
       "    </tr>\n",
       "    <tr>\n",
       "      <th>3</th>\n",
       "      <td>1</td>\n",
       "      <td>3408</td>\n",
       "      <td>4</td>\n",
       "    </tr>\n",
       "    <tr>\n",
       "      <th>4</th>\n",
       "      <td>1</td>\n",
       "      <td>2355</td>\n",
       "      <td>5</td>\n",
       "    </tr>\n",
       "    <tr>\n",
       "      <th>6</th>\n",
       "      <td>1</td>\n",
       "      <td>1287</td>\n",
       "      <td>5</td>\n",
       "    </tr>\n",
       "    <tr>\n",
       "      <th>7</th>\n",
       "      <td>1</td>\n",
       "      <td>2804</td>\n",
       "      <td>5</td>\n",
       "    </tr>\n",
       "    <tr>\n",
       "      <th>8</th>\n",
       "      <td>1</td>\n",
       "      <td>594</td>\n",
       "      <td>4</td>\n",
       "    </tr>\n",
       "    <tr>\n",
       "      <th>9</th>\n",
       "      <td>1</td>\n",
       "      <td>919</td>\n",
       "      <td>4</td>\n",
       "    </tr>\n",
       "    <tr>\n",
       "      <th>10</th>\n",
       "      <td>1</td>\n",
       "      <td>595</td>\n",
       "      <td>5</td>\n",
       "    </tr>\n",
       "    <tr>\n",
       "      <th>11</th>\n",
       "      <td>1</td>\n",
       "      <td>938</td>\n",
       "      <td>4</td>\n",
       "    </tr>\n",
       "    <tr>\n",
       "      <th>12</th>\n",
       "      <td>1</td>\n",
       "      <td>2398</td>\n",
       "      <td>4</td>\n",
       "    </tr>\n",
       "  </tbody>\n",
       "</table>\n",
       "</div>"
      ],
      "text/plain": [
       "    user_id  movie_id  rating\n",
       "0         1      1193       5\n",
       "3         1      3408       4\n",
       "4         1      2355       5\n",
       "6         1      1287       5\n",
       "7         1      2804       5\n",
       "8         1       594       4\n",
       "9         1       919       4\n",
       "10        1       595       5\n",
       "11        1       938       4\n",
       "12        1      2398       4"
      ]
     },
     "execution_count": 6,
     "metadata": {},
     "output_type": "execute_result"
    }
   ],
   "source": [
    "implicit_ratings.head(10)"
   ]
  },
  {
   "cell_type": "markdown",
   "metadata": {},
   "source": [
    "Удобнее работать с sparse матричками, давайте преобразуем DataFrame в CSR матрицы"
   ]
  },
  {
   "cell_type": "code",
   "execution_count": 7,
   "metadata": {},
   "outputs": [],
   "source": [
    "users = implicit_ratings[\"user_id\"]\n",
    "movies = implicit_ratings[\"movie_id\"]\n",
    "user_item = sp.coo_matrix((np.ones_like(users), (users, movies)))\n",
    "user_item_t_csr = user_item.T.tocsr()\n",
    "user_item_csr = user_item.tocsr()"
   ]
  },
  {
   "cell_type": "markdown",
   "metadata": {},
   "source": [
    "В качестве примера воспользуемся ALS разложением из библиотеки implicit\n",
    "\n",
    "Зададим размерность латентного пространства равным 64, это же определяет размер user/item эмбедингов"
   ]
  },
  {
   "cell_type": "code",
   "execution_count": 8,
   "metadata": {},
   "outputs": [
    {
     "name": "stderr",
     "output_type": "stream",
     "text": [
      "WARNING:root:OpenBLAS detected. Its highly recommend to set the environment variable 'export OPENBLAS_NUM_THREADS=1' to disable its internal multithreading\n"
     ]
    }
   ],
   "source": [
    "model = implicit.als.AlternatingLeastSquares(factors=64, iterations=100, calculate_training_loss=True)"
   ]
  },
  {
   "cell_type": "markdown",
   "metadata": {},
   "source": [
    "В качестве loss здесь всеми любимый RMSE"
   ]
  },
  {
   "cell_type": "code",
   "execution_count": 9,
   "metadata": {},
   "outputs": [
    {
     "data": {
      "application/vnd.jupyter.widget-view+json": {
       "model_id": "b4d648603bb44fc2a2d7e327973e9ce8",
       "version_major": 2,
       "version_minor": 0
      },
      "text/plain": [
       "  0%|          | 0/100 [00:00<?, ?it/s]"
      ]
     },
     "metadata": {},
     "output_type": "display_data"
    }
   ],
   "source": [
    "model.fit(user_item_t_csr)"
   ]
  },
  {
   "cell_type": "markdown",
   "metadata": {},
   "source": [
    "Построим похожие фильмы по 1 movie_id = Истории игрушек"
   ]
  },
  {
   "cell_type": "code",
   "execution_count": 10,
   "metadata": {},
   "outputs": [
    {
     "data": {
      "text/html": [
       "<div>\n",
       "<style scoped>\n",
       "    .dataframe tbody tr th:only-of-type {\n",
       "        vertical-align: middle;\n",
       "    }\n",
       "\n",
       "    .dataframe tbody tr th {\n",
       "        vertical-align: top;\n",
       "    }\n",
       "\n",
       "    .dataframe thead th {\n",
       "        text-align: right;\n",
       "    }\n",
       "</style>\n",
       "<table border=\"1\" class=\"dataframe\">\n",
       "  <thead>\n",
       "    <tr style=\"text-align: right;\">\n",
       "      <th></th>\n",
       "      <th>movie_id</th>\n",
       "      <th>name</th>\n",
       "      <th>category</th>\n",
       "    </tr>\n",
       "  </thead>\n",
       "  <tbody>\n",
       "    <tr>\n",
       "      <th>0</th>\n",
       "      <td>1</td>\n",
       "      <td>Toy Story (1995)</td>\n",
       "      <td>Animation|Children's|Comedy</td>\n",
       "    </tr>\n",
       "    <tr>\n",
       "      <th>1</th>\n",
       "      <td>2</td>\n",
       "      <td>Jumanji (1995)</td>\n",
       "      <td>Adventure|Children's|Fantasy</td>\n",
       "    </tr>\n",
       "    <tr>\n",
       "      <th>2</th>\n",
       "      <td>3</td>\n",
       "      <td>Grumpier Old Men (1995)</td>\n",
       "      <td>Comedy|Romance</td>\n",
       "    </tr>\n",
       "    <tr>\n",
       "      <th>3</th>\n",
       "      <td>4</td>\n",
       "      <td>Waiting to Exhale (1995)</td>\n",
       "      <td>Comedy|Drama</td>\n",
       "    </tr>\n",
       "    <tr>\n",
       "      <th>4</th>\n",
       "      <td>5</td>\n",
       "      <td>Father of the Bride Part II (1995)</td>\n",
       "      <td>Comedy</td>\n",
       "    </tr>\n",
       "  </tbody>\n",
       "</table>\n",
       "</div>"
      ],
      "text/plain": [
       "   movie_id                                name                      category\n",
       "0         1                    Toy Story (1995)   Animation|Children's|Comedy\n",
       "1         2                      Jumanji (1995)  Adventure|Children's|Fantasy\n",
       "2         3             Grumpier Old Men (1995)                Comedy|Romance\n",
       "3         4            Waiting to Exhale (1995)                  Comedy|Drama\n",
       "4         5  Father of the Bride Part II (1995)                        Comedy"
      ]
     },
     "execution_count": 10,
     "metadata": {},
     "output_type": "execute_result"
    }
   ],
   "source": [
    "movie_info.head(5)"
   ]
  },
  {
   "cell_type": "code",
   "execution_count": 8,
   "metadata": {},
   "outputs": [],
   "source": [
    "get_similars = lambda item_id, model : [movie_info[movie_info[\"movie_id\"] == x[0]][\"name\"].to_string() \n",
    "                                        for x in model.similar_items(item_id)]"
   ]
  },
  {
   "cell_type": "markdown",
   "metadata": {},
   "source": [
    "Как мы видим, симилары действительно оказались симиларами.\n",
    "\n",
    "Качество симиларов часто является хорошим способом проверить качество алгоритмов.\n",
    "\n",
    "P.S. Если хочется поглубже разобраться в том как разные алгоритмы формируют разные латентные пространства, рекомендую загружать полученные вектора в tensorBoard и смотреть на сформированное пространство"
   ]
  },
  {
   "cell_type": "code",
   "execution_count": 12,
   "metadata": {},
   "outputs": [
    {
     "data": {
      "text/plain": [
       "['0    Toy Story (1995)',\n",
       " '3045    Toy Story 2 (1999)',\n",
       " \"2286    Bug's Life, A (1998)\",\n",
       " '33    Babe (1995)',\n",
       " '584    Aladdin (1992)',\n",
       " '360    Lion King, The (1994)',\n",
       " '2315    Babe: Pig in the City (1998)',\n",
       " '1838    Mulan (1998)',\n",
       " '2618    Tarzan (1999)',\n",
       " '1526    Hercules (1997)']"
      ]
     },
     "execution_count": 12,
     "metadata": {},
     "output_type": "execute_result"
    }
   ],
   "source": [
    "get_similars(1, model)"
   ]
  },
  {
   "cell_type": "markdown",
   "metadata": {},
   "source": [
    "Давайте теперь построим рекомендации для юзеров\n",
    "\n",
    "Как мы видим юзеру нравится фантастика, значит и в рекомендациях ожидаем увидеть фантастику"
   ]
  },
  {
   "cell_type": "code",
   "execution_count": 9,
   "metadata": {},
   "outputs": [],
   "source": [
    "get_user_history = lambda user_id, implicit_ratings : [movie_info[movie_info[\"movie_id\"] == x][\"name\"].to_string() \n",
    "                                            for x in implicit_ratings[implicit_ratings[\"user_id\"] == user_id][\"movie_id\"]]"
   ]
  },
  {
   "cell_type": "code",
   "execution_count": 14,
   "metadata": {},
   "outputs": [
    {
     "data": {
      "text/plain": [
       "['3399    Hustler, The (1961)',\n",
       " '2882    Fistful of Dollars, A (1964)',\n",
       " '1196    Alien (1979)',\n",
       " '1023    Die Hard (1988)',\n",
       " '257    Star Wars: Episode IV - A New Hope (1977)',\n",
       " '1959    Saving Private Ryan (1998)',\n",
       " '476    Jurassic Park (1993)',\n",
       " '1180    Raiders of the Lost Ark (1981)',\n",
       " '1885    Rocky (1976)',\n",
       " '1081    E.T. the Extra-Terrestrial (1982)',\n",
       " '3349    Thelma & Louise (1991)',\n",
       " '3633    Mad Max (1979)',\n",
       " '2297    King Kong (1933)',\n",
       " '1366    Jaws (1975)',\n",
       " '1183    Good, The Bad and The Ugly, The (1966)',\n",
       " '2623    Run Lola Run (Lola rennt) (1998)',\n",
       " '2878    Goldfinger (1964)',\n",
       " '1220    Terminator, The (1984)']"
      ]
     },
     "execution_count": 14,
     "metadata": {},
     "output_type": "execute_result"
    }
   ],
   "source": [
    "get_user_history(4, implicit_ratings)"
   ]
  },
  {
   "cell_type": "markdown",
   "metadata": {},
   "source": [
    "Получилось! \n",
    "\n",
    "Мы действительно порекомендовали пользователю фантастику и боевики, более того встречаются продолжения тех фильмов, которые он высоко оценил"
   ]
  },
  {
   "cell_type": "code",
   "execution_count": 10,
   "metadata": {},
   "outputs": [],
   "source": [
    "get_recommendations = lambda user_id, model : [movie_info[movie_info[\"movie_id\"] == x[0]][\"name\"].to_string() \n",
    "                                               for x in model.recommend(user_id, user_item_csr)]"
   ]
  },
  {
   "cell_type": "code",
   "execution_count": 16,
   "metadata": {},
   "outputs": [
    {
     "data": {
      "text/plain": [
       "['585    Terminator 2: Judgment Day (1991)',\n",
       " '1271    Indiana Jones and the Last Crusade (1989)',\n",
       " '2502    Matrix, The (1999)',\n",
       " '1182    Aliens (1986)',\n",
       " '1284    Butch Cassidy and the Sundance Kid (1969)',\n",
       " '1178    Star Wars: Episode V - The Empire Strikes Back...',\n",
       " '3402    Close Encounters of the Third Kind (1977)',\n",
       " '847    Godfather, The (1972)',\n",
       " '2460    Planet of the Apes (1968)',\n",
       " '1892    Rain Man (1988)']"
      ]
     },
     "execution_count": 16,
     "metadata": {},
     "output_type": "execute_result"
    }
   ],
   "source": [
    "get_recommendations(4, model)"
   ]
  },
  {
   "cell_type": "markdown",
   "metadata": {},
   "source": [
    "Теперь ваша очередь реализовать самые популярные алгоритмы матричных разложений\n",
    "\n",
    "Что будет оцениваться:\n",
    "1. Корректность алгоритма\n",
    "2. Качество получившихся симиларов\n",
    "3. Качество итоговых рекомендаций для юзера"
   ]
  },
  {
   "cell_type": "code",
   "execution_count": 17,
   "metadata": {},
   "outputs": [
    {
     "data": {
      "text/plain": [
       "(array([   1,    1,    1, ..., 6040, 6040, 6040], dtype=int32),\n",
       " array([1193, 3408, 2355, ...,  562, 1096, 1097], dtype=int32))"
      ]
     },
     "execution_count": 17,
     "metadata": {},
     "output_type": "execute_result"
    }
   ],
   "source": [
    "user_item.nonzero()"
   ]
  },
  {
   "cell_type": "code",
   "execution_count": 18,
   "metadata": {},
   "outputs": [],
   "source": [
    "user_item_exp = sp.coo_matrix((ratings.rating, (ratings.user_id, ratings.movie_id)))\n",
    "user_item_exp_csr = user_item_exp.tocsr()"
   ]
  },
  {
   "cell_type": "code",
   "execution_count": 19,
   "metadata": {},
   "outputs": [
    {
     "data": {
      "text/plain": [
       "(6041, 3953)"
      ]
     },
     "execution_count": 19,
     "metadata": {},
     "output_type": "execute_result"
    }
   ],
   "source": [
    "user_item_exp_csr.shape"
   ]
  },
  {
   "cell_type": "code",
   "execution_count": 20,
   "metadata": {},
   "outputs": [
    {
     "data": {
      "text/plain": [
       "user_id     6040\n",
       "movie_id    3706\n",
       "rating         5\n",
       "dtype: int64"
      ]
     },
     "execution_count": 20,
     "metadata": {},
     "output_type": "execute_result"
    }
   ],
   "source": [
    "ratings.nunique()"
   ]
  },
  {
   "cell_type": "code",
   "execution_count": 22,
   "metadata": {},
   "outputs": [],
   "source": [
    "np.random.seed(0)"
   ]
  },
  {
   "cell_type": "code",
   "execution_count": 11,
   "metadata": {},
   "outputs": [],
   "source": [
    "class MatrixFactorizationBase:\n",
    "    _eps = 1e-10\n",
    "    def __init__(self):\n",
    "        self.u = None\n",
    "        self.v = None\n",
    "        \n",
    "    def _get_similarity_score(self, example, others, n):\n",
    "        norm_ex = np.linalg.norm(example)\n",
    "        norm_other = np.linalg.norm(others, axis=-1)\n",
    "        norm_ex = norm_ex if norm_ex != 0 else self._eps\n",
    "        norm_other[norm_other == 0] = self._eps\n",
    "        \n",
    "        scores = others.dot(example) / (norm_ex * norm_other)\n",
    "        best = np.argpartition(scores, -n)[-n:]\n",
    "        return sorted(zip(best, scores[best]), key=lambda x: -x[1])\n",
    "                \n",
    "    def similar_items(self, item_id, n=10):\n",
    "        return self._get_similarity_score(self.v[item_id], self.v, n)\n",
    "        \n",
    "    \n",
    "    def similar_users(self, user_id, n=10):\n",
    "        self._get_similarity_score(self.u[user_id], self.u, n)\n",
    "        \n",
    "    \n",
    "    def recommend(self, user_id, user_items, n=10, filter_already_rated=True):\n",
    "        rated = set()\n",
    "        rated.update(user_items[user_id].indices)\n",
    "        \n",
    "        scores = self.v.dot(self.u[user_id])\n",
    "        \n",
    "        count = n + len(rated)\n",
    "        if count < len(scores):\n",
    "            ids = np.argpartition(scores, -count)[-count:]\n",
    "            best = sorted(zip(ids, scores[ids]), key=lambda x: -x[1])\n",
    "        else:\n",
    "            best = sorted(enumerate(scores), key=lambda x: -x[1])\n",
    "        return list(itertools.islice((rec for rec in best if rec[0] not in rated), n))\n",
    "    "
   ]
  },
  {
   "cell_type": "code",
   "execution_count": 12,
   "metadata": {},
   "outputs": [],
   "source": [
    "def masked_mse(sparse, u, v):\n",
    "    approx = np.array([u[u_idx].dot(v[v_idx]) for u_idx, v_idx in zip(*sparse.nonzero())])\n",
    "    return np.square(sparse.data - approx).mean()\n",
    "    "
   ]
  },
  {
   "cell_type": "markdown",
   "metadata": {},
   "source": [
    "### Задание 1. Не использую готовые решения, реализовать SVD разложение используя SGD на explicit данных"
   ]
  },
  {
   "cell_type": "code",
   "execution_count": 67,
   "metadata": {},
   "outputs": [],
   "source": [
    "class SVD(MatrixFactorizationBase):\n",
    "    def __init__(self, factors, epochs, lr=0.1, reg=0.):\n",
    "        super().__init__()\n",
    "        self.factors = factors\n",
    "        self.epochs = epochs\n",
    "        self.lr = lr\n",
    "        self.reg = reg\n",
    "        \n",
    "    def fit(self, x):\n",
    "        u_dim, v_dim = x.shape\n",
    "        nz_u_idx, nz_v_idx = x.nonzero()\n",
    "        n_samples = nz_u_idx.shape[0]\n",
    "        self.u = np.random.uniform(0, 1 / np.sqrt(self.factors), (u_dim, self.factors))\n",
    "        self.v = np.random.uniform(0, 1 / np.sqrt(self.factors), (v_dim, self.factors))\n",
    "        \n",
    "        for epoch in range(self.epochs):\n",
    "            for sample in np.random.permutation(n_samples):\n",
    "                cur_u_idx, cur_v_idx = nz_u_idx[sample], nz_v_idx[sample]\n",
    "                assert x[cur_u_idx, cur_v_idx] != 0, \"Smth went wrong\"\n",
    "                err = self.u[cur_u_idx].dot(self.v[cur_v_idx]) - x[cur_u_idx, cur_v_idx]\n",
    "                u_upd = self.lr * (err * self.v[cur_v_idx] + self.reg * self.u[cur_u_idx])\n",
    "                v_upd = self.lr * (err * self.u[cur_u_idx] + self.reg * self.v[cur_v_idx])\n",
    "\n",
    "                self.u[cur_u_idx] -= u_upd\n",
    "                self.v[cur_v_idx] -= v_upd\n",
    "\n",
    "            \n",
    "            print(f\"Epoch: {epoch}, mse: {masked_mse(x, self.u, self.v)}\")\n",
    "#             if self.log_every and (step % self.log_every == 0):\n",
    "#                 print(f\"Iteration: {step}, mse: {masked_mse(x, self.u, self.v)}\")\n",
    "                \n",
    "    \n",
    "        "
   ]
  },
  {
   "cell_type": "code",
   "execution_count": 71,
   "metadata": {},
   "outputs": [],
   "source": [
    "model = SVD(factors=64, epochs=10, lr=0.01, reg=0.1)"
   ]
  },
  {
   "cell_type": "code",
   "execution_count": 72,
   "metadata": {},
   "outputs": [
    {
     "name": "stdout",
     "output_type": "stream",
     "text": [
      "Epoch: 0, mse: 0.9135560050615957\n",
      "Epoch: 1, mse: 0.8607980470418793\n",
      "Epoch: 2, mse: 0.8526941462845249\n",
      "Epoch: 3, mse: 0.8502894052215714\n",
      "Epoch: 4, mse: 0.84519905907256\n",
      "Epoch: 5, mse: 0.8377083004357794\n",
      "Epoch: 6, mse: 0.8291917090746495\n",
      "Epoch: 7, mse: 0.8172634706584593\n",
      "Epoch: 8, mse: 0.8091092308773898\n",
      "Epoch: 9, mse: 0.802382146181684\n"
     ]
    }
   ],
   "source": [
    "model.fit(user_item_exp_csr)"
   ]
  },
  {
   "cell_type": "code",
   "execution_count": 73,
   "metadata": {},
   "outputs": [
    {
     "data": {
      "text/plain": [
       "4.218859621275769"
      ]
     },
     "execution_count": 73,
     "metadata": {},
     "output_type": "execute_result"
    }
   ],
   "source": [
    "model.u[1].dot(model.v[1])"
   ]
  },
  {
   "cell_type": "code",
   "execution_count": 74,
   "metadata": {},
   "outputs": [
    {
     "data": {
      "text/plain": [
       "['0    Toy Story (1995)',\n",
       " \"2286    Bug's Life, A (1998)\",\n",
       " '2327    Shakespeare in Love (1998)',\n",
       " '1287    When Harry Met Sally... (1989)',\n",
       " '2009    Jungle Book, The (1967)',\n",
       " '3045    Toy Story 2 (1999)',\n",
       " '899    Charade (1963)',\n",
       " \"523    Schindler's List (1993)\",\n",
       " '1628    Witness (1985)',\n",
       " '3294    American Graffiti (1973)']"
      ]
     },
     "execution_count": 74,
     "metadata": {},
     "output_type": "execute_result"
    }
   ],
   "source": [
    "get_similars(1, model)"
   ]
  },
  {
   "cell_type": "code",
   "execution_count": 75,
   "metadata": {},
   "outputs": [
    {
     "data": {
      "text/plain": [
       "['3399    Hustler, The (1961)',\n",
       " '2882    Fistful of Dollars, A (1964)',\n",
       " '1196    Alien (1979)',\n",
       " '1023    Die Hard (1988)',\n",
       " '257    Star Wars: Episode IV - A New Hope (1977)',\n",
       " '1959    Saving Private Ryan (1998)',\n",
       " '476    Jurassic Park (1993)',\n",
       " '1180    Raiders of the Lost Ark (1981)',\n",
       " '1885    Rocky (1976)',\n",
       " '1081    E.T. the Extra-Terrestrial (1982)',\n",
       " '3349    Thelma & Louise (1991)',\n",
       " '3633    Mad Max (1979)',\n",
       " '2297    King Kong (1933)',\n",
       " '1366    Jaws (1975)',\n",
       " '1183    Good, The Bad and The Ugly, The (1966)',\n",
       " '2623    Run Lola Run (Lola rennt) (1998)',\n",
       " '2878    Goldfinger (1964)',\n",
       " '1220    Terminator, The (1984)']"
      ]
     },
     "execution_count": 75,
     "metadata": {},
     "output_type": "execute_result"
    }
   ],
   "source": [
    "get_user_history(4, implicit_ratings)"
   ]
  },
  {
   "cell_type": "code",
   "execution_count": 76,
   "metadata": {},
   "outputs": [
    {
     "data": {
      "text/plain": [
       "['2434    Apple, The (Sib) (1998)',\n",
       " '2836    Sanjuro (1962)',\n",
       " '1950    Seven Samurai (The Magnificent Seven) (Shichin...',\n",
       " '1230    Bridge on the River Kwai, The (1957)',\n",
       " '49    Usual Suspects, The (1995)',\n",
       " '315    Shawshank Redemption, The (1994)',\n",
       " '1132    Wrong Trousers, The (1993)',\n",
       " '847    Godfather, The (1972)',\n",
       " '3269    For All Mankind (1989)',\n",
       " '735    Close Shave, A (1995)']"
      ]
     },
     "execution_count": 76,
     "metadata": {},
     "output_type": "execute_result"
    }
   ],
   "source": [
    "get_recommendations(4, model)"
   ]
  },
  {
   "cell_type": "markdown",
   "metadata": {},
   "source": [
    "### Задание 2. Не использую готовые решения, реализовать матричное разложение используя ALS на implicit данных"
   ]
  },
  {
   "cell_type": "code",
   "execution_count": 77,
   "metadata": {},
   "outputs": [],
   "source": [
    "class ALS(MatrixFactorizationBase):\n",
    "    def __init__(self, factors, iterations, reg=0.1, log_every=1):\n",
    "        super().__init__()\n",
    "        self.factors = factors\n",
    "        self.iterations = iterations\n",
    "        self.log_every = log_every\n",
    "        self.reg = reg\n",
    "       \n",
    "    def fit(self, x):\n",
    "        u_dim, v_dim = x.shape\n",
    "        self.u = np.random.randn(u_dim, self.factors)\n",
    "        self.v = np.random.randn(v_dim, self.factors)\n",
    "        for step in range(self.iterations):\n",
    "            self.u = np.linalg.solve(\n",
    "                self.v.T @ self.v + self.reg * np.eye(self.factors),\n",
    "                self.v.T @ x.T\n",
    "            ).T\n",
    "            \n",
    "            self.v = np.linalg.solve(\n",
    "                self.u.T @ self.u + self.reg * np.eye(self.factors),\n",
    "                self.u.T @ x\n",
    "            ).T\n",
    "            \n",
    "            if step % self.log_every == 0:\n",
    "                print(f\"Iteration: {step}, mse: {masked_mse(x, self.u, self.v)}\")         "
   ]
  },
  {
   "cell_type": "code",
   "execution_count": 78,
   "metadata": {},
   "outputs": [],
   "source": [
    "model = ALS(factors=64, iterations=100)"
   ]
  },
  {
   "cell_type": "code",
   "execution_count": 79,
   "metadata": {},
   "outputs": [
    {
     "name": "stdout",
     "output_type": "stream",
     "text": [
      "Iteration: 0, mse: 0.6942597619192991\n",
      "Iteration: 1, mse: 0.4702154288535044\n",
      "Iteration: 2, mse: 0.44652894969955675\n",
      "Iteration: 3, mse: 0.4366708379248764\n",
      "Iteration: 4, mse: 0.4310574035748648\n",
      "Iteration: 5, mse: 0.42732174996297906\n",
      "Iteration: 6, mse: 0.42462892294487475\n",
      "Iteration: 7, mse: 0.42259518954128855\n",
      "Iteration: 8, mse: 0.42100860947005786\n",
      "Iteration: 9, mse: 0.41973853281762336\n",
      "Iteration: 10, mse: 0.4186992417682975\n",
      "Iteration: 11, mse: 0.41783237125524053\n",
      "Iteration: 12, mse: 0.41709715143917353\n",
      "Iteration: 13, mse: 0.4164644956028221\n",
      "Iteration: 14, mse: 0.41591324131922464\n",
      "Iteration: 15, mse: 0.4154276990760125\n",
      "Iteration: 16, mse: 0.4149960269770564\n",
      "Iteration: 17, mse: 0.4146091365747987\n",
      "Iteration: 18, mse: 0.41425994394237825\n",
      "Iteration: 19, mse: 0.4139428479659723\n",
      "Iteration: 20, mse: 0.4136533605884229\n",
      "Iteration: 21, mse: 0.4133878405322565\n",
      "Iteration: 22, mse: 0.413143298790052\n",
      "Iteration: 23, mse: 0.41291725472905055\n",
      "Iteration: 24, mse: 0.41270762841744724\n",
      "Iteration: 25, mse: 0.4125126592006332\n",
      "Iteration: 26, mse: 0.4123308435102281\n",
      "Iteration: 27, mse: 0.4121608869029008\n",
      "Iteration: 28, mse: 0.41200166672225325\n",
      "Iteration: 29, mse: 0.4118522027584965\n",
      "Iteration: 30, mse: 0.41171163397857063\n",
      "Iteration: 31, mse: 0.4115791999006008\n",
      "Iteration: 32, mse: 0.4114542255497469\n",
      "Iteration: 33, mse: 0.41133610919770514\n",
      "Iteration: 34, mse: 0.41122431228315276\n",
      "Iteration: 35, mse: 0.4111183510548268\n",
      "Iteration: 36, mse: 0.41101778958644497\n",
      "Iteration: 37, mse: 0.41092223389322086\n",
      "Iteration: 38, mse: 0.4108313269403422\n",
      "Iteration: 39, mse: 0.4107447443796758\n",
      "Iteration: 40, mse: 0.4106621908858625\n",
      "Iteration: 41, mse: 0.4105833969896701\n",
      "Iteration: 42, mse: 0.41050811632699485\n",
      "Iteration: 43, mse: 0.41043612323779743\n",
      "Iteration: 44, mse: 0.4103672106616308\n",
      "Iteration: 45, mse: 0.41030118828610285\n",
      "Iteration: 46, mse: 0.4102378809122944\n",
      "Iteration: 47, mse: 0.41017712700722386\n",
      "Iteration: 48, mse: 0.4101187774183474\n",
      "Iteration: 49, mse: 0.41006269422902264\n",
      "Iteration: 50, mse: 0.4100087497370791\n",
      "Iteration: 51, mse: 0.40995682554127066\n",
      "Iteration: 52, mse: 0.4099068117225679\n",
      "Iteration: 53, mse: 0.40985860610905817\n",
      "Iteration: 54, mse: 0.40981211361474645\n",
      "Iteration: 55, mse: 0.4097672456438243\n",
      "Iteration: 56, mse: 0.4097239195530679\n",
      "Iteration: 57, mse: 0.40968205816594905\n",
      "Iteration: 58, mse: 0.4096415893328385\n",
      "Iteration: 59, mse: 0.40960244553236175\n",
      "Iteration: 60, mse: 0.40956456350955905\n",
      "Iteration: 61, mse: 0.40952788394701384\n",
      "Iteration: 62, mse: 0.40949235116555255\n",
      "Iteration: 63, mse: 0.40945791285151334\n",
      "Iteration: 64, mse: 0.4094245198079149\n",
      "Iteration: 65, mse: 0.409392125727153\n",
      "Iteration: 66, mse: 0.409360686983119\n",
      "Iteration: 67, mse: 0.4093301624408527\n",
      "Iteration: 68, mse: 0.40930051328205747\n",
      "Iteration: 69, mse: 0.40927170284497005\n",
      "Iteration: 70, mse: 0.4092436964772455\n",
      "Iteration: 71, mse: 0.4092164614006531\n",
      "Iteration: 72, mse: 0.40918996658650036\n",
      "Iteration: 73, mse: 0.4091641826408176\n",
      "Iteration: 74, mse: 0.4091390816984289\n",
      "Iteration: 75, mse: 0.40911463732512315\n",
      "Iteration: 76, mse: 0.4090908244272184\n",
      "Iteration: 77, mse: 0.4090676191678778\n",
      "Iteration: 78, mse: 0.4090449988896033\n",
      "Iteration: 79, mse: 0.4090229420423784\n",
      "Iteration: 80, mse: 0.40900142811699575\n",
      "Iteration: 81, mse: 0.40898043758313185\n",
      "Iteration: 82, mse: 0.40895995183178757\n",
      "Iteration: 83, mse: 0.40893995312173514\n",
      "Iteration: 84, mse: 0.40892042452965544\n",
      "Iteration: 85, mse: 0.40890134990367044\n",
      "Iteration: 86, mse: 0.40888271382000446\n",
      "Iteration: 87, mse: 0.4088645015425338\n",
      "Iteration: 88, mse: 0.40884669898500137\n",
      "Iteration: 89, mse: 0.4088292926756918\n",
      "Iteration: 90, mse: 0.4088122697243897\n",
      "Iteration: 91, mse: 0.40879561779144086\n",
      "Iteration: 92, mse: 0.4087793250587698\n",
      "Iteration: 93, mse: 0.4087633802027072\n",
      "Iteration: 94, mse: 0.40874777236849785\n",
      "Iteration: 95, mse: 0.40873249114636867\n",
      "Iteration: 96, mse: 0.40871752654904653\n",
      "Iteration: 97, mse: 0.4087028689906263\n",
      "Iteration: 98, mse: 0.4086885092666905\n",
      "Iteration: 99, mse: 0.4086744385356016\n"
     ]
    }
   ],
   "source": [
    "model.fit(user_item_csr)"
   ]
  },
  {
   "cell_type": "code",
   "execution_count": 82,
   "metadata": {},
   "outputs": [
    {
     "data": {
      "text/plain": [
       "0.9042674112020365"
      ]
     },
     "execution_count": 82,
     "metadata": {},
     "output_type": "execute_result"
    }
   ],
   "source": [
    "model.u[1].dot(model.v[1])"
   ]
  },
  {
   "cell_type": "code",
   "execution_count": 83,
   "metadata": {},
   "outputs": [
    {
     "data": {
      "text/plain": [
       "['0    Toy Story (1995)',\n",
       " '3045    Toy Story 2 (1999)',\n",
       " \"2286    Bug's Life, A (1998)\",\n",
       " '584    Aladdin (1992)',\n",
       " '33    Babe (1995)',\n",
       " '2252    Pleasantville (1998)',\n",
       " '360    Lion King, The (1994)',\n",
       " '2692    Iron Giant, The (1999)',\n",
       " '591    Beauty and the Beast (1991)',\n",
       " '2225    Antz (1998)']"
      ]
     },
     "execution_count": 83,
     "metadata": {},
     "output_type": "execute_result"
    }
   ],
   "source": [
    "get_similars(1, model)"
   ]
  },
  {
   "cell_type": "code",
   "execution_count": 84,
   "metadata": {},
   "outputs": [
    {
     "data": {
      "text/plain": [
       "['585    Terminator 2: Judgment Day (1991)',\n",
       " '1271    Indiana Jones and the Last Crusade (1989)',\n",
       " '2502    Matrix, The (1999)',\n",
       " '1182    Aliens (1986)',\n",
       " '1284    Butch Cassidy and the Sundance Kid (1969)',\n",
       " '1178    Star Wars: Episode V - The Empire Strikes Back...',\n",
       " '3402    Close Encounters of the Third Kind (1977)',\n",
       " '847    Godfather, The (1972)',\n",
       " '1179    Princess Bride, The (1987)',\n",
       " '2460    Planet of the Apes (1968)']"
      ]
     },
     "execution_count": 84,
     "metadata": {},
     "output_type": "execute_result"
    }
   ],
   "source": [
    "get_recommendations(4, model)"
   ]
  },
  {
   "cell_type": "markdown",
   "metadata": {},
   "source": [
    "### Задание 3. Не использую готовые решения, реализовать матричное разложение BPR на implicit данных"
   ]
  },
  {
   "cell_type": "code",
   "execution_count": 24,
   "metadata": {},
   "outputs": [],
   "source": [
    "class BPR(MatrixFactorizationBase):\n",
    "    def __init__(self, factors, epochs, lr=0.1, reg=0.01):\n",
    "        super().__init__()\n",
    "        self.factors = factors\n",
    "        self.epochs = epochs\n",
    "        self.lr = lr\n",
    "        self.reg = reg\n",
    "       \n",
    "    def fit(self, x):\n",
    "        u_dim, v_dim = x.shape\n",
    "        nz_u_idx, nz_v_idx = x.nonzero()\n",
    "        n_samples = nz_u_idx.shape[0]\n",
    "        self.u = np.random.uniform(0, 1 / np.sqrt(self.factors), (u_dim, self.factors))\n",
    "        self.v = np.random.uniform(0, 1 / np.sqrt(self.factors), (v_dim, self.factors))\n",
    "        for epoch in range(self.epochs):\n",
    "            for step, sample in enumerate(np.random.permutation(n_samples)):\n",
    "                cur_u_idx, pos_v_idx = nz_u_idx[sample], nz_v_idx[sample]\n",
    "                neg_v_idx = np.random.choice(np.setdiff1d(np.arange(v_dim), nz_v_idx[nz_u_idx == cur_u_idx]))\n",
    "                assert (x[cur_u_idx, neg_v_idx] == 0) and (x[cur_u_idx, pos_v_idx] != 0), \"SMTH WENT WRONG\"\n",
    "                x_uij = self.u[cur_u_idx].dot(self.v[pos_v_idx] - self.v[neg_v_idx])\n",
    "                sigm = np.exp(-x_uij) / (1. + np.exp(-x_uij))\n",
    "#                 print(x_uij, common_term)\n",
    "                u_upd = sigm * (self.v[pos_v_idx] - self.v[neg_v_idx]) + self.reg * self.u[cur_u_idx]\n",
    "                v_pos_upd = sigm * self.u[cur_u_idx] + self.reg * self.v[pos_v_idx]\n",
    "                v_neg_upd = - sigm * self.u[cur_u_idx] + self.reg * self.v[neg_v_idx]\n",
    "                \n",
    "                self.u[cur_u_idx] += self.lr * u_upd\n",
    "                self.v[pos_v_idx] += self.lr * v_pos_upd\n",
    "                self.v[neg_v_idx] += self.lr * v_neg_upd\n",
    "                \n",
    "#                 if step % 10000 == 0:\n",
    "#                     print(step, masked_mse(x, self.u, self.v))\n",
    "                    \n",
    "            print(f\"Epoch: {epoch}, mse: {masked_mse(x, self.u, self.v)}\")\n",
    "                                                          \n",
    "        "
   ]
  },
  {
   "cell_type": "code",
   "execution_count": 29,
   "metadata": {},
   "outputs": [],
   "source": [
    "model = BPR(factors=64, epochs=5, lr=0.001, reg=0.001)"
   ]
  },
  {
   "cell_type": "code",
   "execution_count": 30,
   "metadata": {
    "scrolled": true
   },
   "outputs": [
    {
     "name": "stdout",
     "output_type": "stream",
     "text": [
      "Epoch: 0, mse: 0.4705233858185092\n",
      "Epoch: 1, mse: 0.3899968255859105\n",
      "Epoch: 2, mse: 0.3223896696458348\n",
      "Epoch: 3, mse: 0.2717363670529003\n",
      "Epoch: 4, mse: 0.24381488254539677\n"
     ]
    }
   ],
   "source": [
    "model.fit(user_item_csr)"
   ]
  },
  {
   "cell_type": "code",
   "execution_count": 31,
   "metadata": {},
   "outputs": [
    {
     "data": {
      "text/plain": [
       "['0    Toy Story (1995)',\n",
       " '2789    American Beauty (1999)',\n",
       " '108    Braveheart (1995)',\n",
       " '1178    Star Wars: Episode V - The Empire Strikes Back...',\n",
       " '257    Star Wars: Episode IV - A New Hope (1977)',\n",
       " '1180    Raiders of the Lost Ark (1981)',\n",
       " '1179    Princess Bride, The (1987)',\n",
       " '1959    Saving Private Ryan (1998)',\n",
       " '847    Godfather, The (1972)',\n",
       " \"523    Schindler's List (1993)\"]"
      ]
     },
     "execution_count": 31,
     "metadata": {},
     "output_type": "execute_result"
    }
   ],
   "source": [
    "get_similars(1, model)"
   ]
  },
  {
   "cell_type": "code",
   "execution_count": 32,
   "metadata": {},
   "outputs": [
    {
     "data": {
      "text/plain": [
       "['2789    American Beauty (1999)',\n",
       " '1178    Star Wars: Episode V - The Empire Strikes Back...',\n",
       " '589    Silence of the Lambs, The (1991)',\n",
       " '2693    Sixth Sense, The (1999)',\n",
       " '2502    Matrix, The (1999)',\n",
       " '585    Terminator 2: Judgment Day (1991)',\n",
       " '604    Fargo (1996)',\n",
       " \"523    Schindler's List (1993)\",\n",
       " '315    Shawshank Redemption, The (1994)',\n",
       " '1192    Star Wars: Episode VI - Return of the Jedi (1983)']"
      ]
     },
     "execution_count": 32,
     "metadata": {},
     "output_type": "execute_result"
    }
   ],
   "source": [
    "get_recommendations(4, model)"
   ]
  },
  {
   "cell_type": "markdown",
   "metadata": {},
   "source": [
    "### Задание 4. Не использую готовые решения, реализовать матричное разложение WARP на implicit данных"
   ]
  },
  {
   "cell_type": "code",
   "execution_count": 42,
   "metadata": {},
   "outputs": [],
   "source": [
    "class WARP(MatrixFactorizationBase):\n",
    "    def __init__(self, factors, epochs, lr=0.1, reg=0.01, m=1, max_negs=10):\n",
    "        super().__init__()\n",
    "        self.factors = factors\n",
    "        self.epochs = epochs\n",
    "        self.lr = lr\n",
    "        self.reg = reg\n",
    "        self.m = m\n",
    "        self.max_negs = max_negs\n",
    "        \n",
    "    def fit(self, x):\n",
    "        u_dim, v_dim = x.shape\n",
    "        nz_u_idx, nz_v_idx = x.nonzero()\n",
    "        n_samples = nz_u_idx.shape[0]\n",
    "        self.u = np.random.uniform(0, 1 / np.sqrt(self.factors), (u_dim, self.factors))\n",
    "        self.v = np.random.uniform(0, 1 / np.sqrt(self.factors), (v_dim, self.factors))\n",
    "        for epoch in range(self.epochs):\n",
    "            for step, sample in enumerate(np.random.permutation(n_samples)):\n",
    "                cur_u_idx, pos_v_idx = nz_u_idx[sample], nz_v_idx[sample]\n",
    "                score_pos = self.u[cur_u_idx].dot(self.v[pos_v_idx])\n",
    "                for i in range(1, self.max_negs + 1):\n",
    "                    neg_v_idx = np.random.choice(np.setdiff1d(np.arange(v_dim), nz_v_idx[nz_u_idx == cur_u_idx]))\n",
    "                    assert (x[cur_u_idx, neg_v_idx] == 0) and (x[cur_u_idx, pos_v_idx] != 0), \"SMTH WENT WRONG\"\n",
    "                    score_neg = self.u[cur_u_idx].dot(self.v[neg_v_idx])\n",
    "                    if self.m + score_neg - score_pos > 0:\n",
    "                        approx_rank = self.max_negs // i\n",
    "                        loss = np.log(approx_rank)\n",
    "                        u_upd = loss * (self.v[neg_v_idx] - self.v[pos_v_idx]) + self.reg * self.u[cur_u_idx]\n",
    "                        v_pos_upd = - loss * self.u[cur_u_idx] + self.reg * self.v[pos_v_idx]\n",
    "                        v_neg_upd = loss * self.u[cur_u_idx] + self.reg * self.v[neg_v_idx]\n",
    "                        \n",
    "                        self.u[cur_u_idx] -= self.lr * u_upd\n",
    "                        self.v[pos_v_idx] -= self.lr * v_pos_upd\n",
    "                        self.v[neg_v_idx] -= self.lr * v_neg_upd\n",
    "                        \n",
    "#                 if step % 10000 == 0:\n",
    "#                     print(step, masked_mse(x, self.u, self.v))\n",
    "            \n",
    "            print(f\"Epoch: {epoch}, mse: {masked_mse(x, self.u, self.v)}\")"
   ]
  },
  {
   "cell_type": "code",
   "execution_count": 43,
   "metadata": {},
   "outputs": [
    {
     "name": "stdout",
     "output_type": "stream",
     "text": [
      "Epoch: 0, mse: 0.5064292069512178\n"
     ]
    },
    {
     "ename": "KeyboardInterrupt",
     "evalue": "",
     "output_type": "error",
     "traceback": [
      "\u001b[0;31m---------------------------------------------------------------------------\u001b[0m",
      "\u001b[0;31mKeyboardInterrupt\u001b[0m                         Traceback (most recent call last)",
      "\u001b[0;32m/tmp/ipykernel_23677/2191247227.py\u001b[0m in \u001b[0;36m<module>\u001b[0;34m\u001b[0m\n\u001b[1;32m      1\u001b[0m \u001b[0mmodel\u001b[0m \u001b[0;34m=\u001b[0m \u001b[0mWARP\u001b[0m\u001b[0;34m(\u001b[0m\u001b[0mfactors\u001b[0m\u001b[0;34m=\u001b[0m\u001b[0;36m64\u001b[0m\u001b[0;34m,\u001b[0m \u001b[0mepochs\u001b[0m\u001b[0;34m=\u001b[0m\u001b[0;36m5\u001b[0m\u001b[0;34m,\u001b[0m \u001b[0mlr\u001b[0m\u001b[0;34m=\u001b[0m\u001b[0;36m1e-3\u001b[0m\u001b[0;34m,\u001b[0m \u001b[0mreg\u001b[0m\u001b[0;34m=\u001b[0m\u001b[0;36m1e-3\u001b[0m\u001b[0;34m)\u001b[0m\u001b[0;34m\u001b[0m\u001b[0;34m\u001b[0m\u001b[0m\n\u001b[0;32m----> 2\u001b[0;31m \u001b[0mmodel\u001b[0m\u001b[0;34m.\u001b[0m\u001b[0mfit\u001b[0m\u001b[0;34m(\u001b[0m\u001b[0muser_item_csr\u001b[0m\u001b[0;34m)\u001b[0m\u001b[0;34m\u001b[0m\u001b[0;34m\u001b[0m\u001b[0m\n\u001b[0m",
      "\u001b[0;32m/tmp/ipykernel_23677/3537737528.py\u001b[0m in \u001b[0;36mfit\u001b[0;34m(self, x)\u001b[0m\n\u001b[1;32m     20\u001b[0m                 \u001b[0mscore_pos\u001b[0m \u001b[0;34m=\u001b[0m \u001b[0mself\u001b[0m\u001b[0;34m.\u001b[0m\u001b[0mu\u001b[0m\u001b[0;34m[\u001b[0m\u001b[0mcur_u_idx\u001b[0m\u001b[0;34m]\u001b[0m\u001b[0;34m.\u001b[0m\u001b[0mdot\u001b[0m\u001b[0;34m(\u001b[0m\u001b[0mself\u001b[0m\u001b[0;34m.\u001b[0m\u001b[0mv\u001b[0m\u001b[0;34m[\u001b[0m\u001b[0mpos_v_idx\u001b[0m\u001b[0;34m]\u001b[0m\u001b[0;34m)\u001b[0m\u001b[0;34m\u001b[0m\u001b[0;34m\u001b[0m\u001b[0m\n\u001b[1;32m     21\u001b[0m                 \u001b[0;32mfor\u001b[0m \u001b[0mi\u001b[0m \u001b[0;32min\u001b[0m \u001b[0mrange\u001b[0m\u001b[0;34m(\u001b[0m\u001b[0;36m1\u001b[0m\u001b[0;34m,\u001b[0m \u001b[0mself\u001b[0m\u001b[0;34m.\u001b[0m\u001b[0mmax_negs\u001b[0m \u001b[0;34m+\u001b[0m \u001b[0;36m1\u001b[0m\u001b[0;34m)\u001b[0m\u001b[0;34m:\u001b[0m\u001b[0;34m\u001b[0m\u001b[0;34m\u001b[0m\u001b[0m\n\u001b[0;32m---> 22\u001b[0;31m                     \u001b[0mneg_v_idx\u001b[0m \u001b[0;34m=\u001b[0m \u001b[0mnp\u001b[0m\u001b[0;34m.\u001b[0m\u001b[0mrandom\u001b[0m\u001b[0;34m.\u001b[0m\u001b[0mchoice\u001b[0m\u001b[0;34m(\u001b[0m\u001b[0mnp\u001b[0m\u001b[0;34m.\u001b[0m\u001b[0msetdiff1d\u001b[0m\u001b[0;34m(\u001b[0m\u001b[0mnp\u001b[0m\u001b[0;34m.\u001b[0m\u001b[0marange\u001b[0m\u001b[0;34m(\u001b[0m\u001b[0mv_dim\u001b[0m\u001b[0;34m)\u001b[0m\u001b[0;34m,\u001b[0m \u001b[0mnz_v_idx\u001b[0m\u001b[0;34m[\u001b[0m\u001b[0mnz_u_idx\u001b[0m \u001b[0;34m==\u001b[0m \u001b[0mcur_u_idx\u001b[0m\u001b[0;34m]\u001b[0m\u001b[0;34m)\u001b[0m\u001b[0;34m)\u001b[0m\u001b[0;34m\u001b[0m\u001b[0;34m\u001b[0m\u001b[0m\n\u001b[0m\u001b[1;32m     23\u001b[0m                     \u001b[0;32massert\u001b[0m \u001b[0;34m(\u001b[0m\u001b[0mx\u001b[0m\u001b[0;34m[\u001b[0m\u001b[0mcur_u_idx\u001b[0m\u001b[0;34m,\u001b[0m \u001b[0mneg_v_idx\u001b[0m\u001b[0;34m]\u001b[0m \u001b[0;34m==\u001b[0m \u001b[0;36m0\u001b[0m\u001b[0;34m)\u001b[0m \u001b[0;32mand\u001b[0m \u001b[0;34m(\u001b[0m\u001b[0mx\u001b[0m\u001b[0;34m[\u001b[0m\u001b[0mcur_u_idx\u001b[0m\u001b[0;34m,\u001b[0m \u001b[0mpos_v_idx\u001b[0m\u001b[0;34m]\u001b[0m \u001b[0;34m!=\u001b[0m \u001b[0;36m0\u001b[0m\u001b[0;34m)\u001b[0m\u001b[0;34m,\u001b[0m \u001b[0;34m\"SMTH WENT WRONG\"\u001b[0m\u001b[0;34m\u001b[0m\u001b[0;34m\u001b[0m\u001b[0m\n\u001b[1;32m     24\u001b[0m                     \u001b[0mscore_neg\u001b[0m \u001b[0;34m=\u001b[0m \u001b[0mself\u001b[0m\u001b[0;34m.\u001b[0m\u001b[0mu\u001b[0m\u001b[0;34m[\u001b[0m\u001b[0mcur_u_idx\u001b[0m\u001b[0;34m]\u001b[0m\u001b[0;34m.\u001b[0m\u001b[0mdot\u001b[0m\u001b[0;34m(\u001b[0m\u001b[0mself\u001b[0m\u001b[0;34m.\u001b[0m\u001b[0mv\u001b[0m\u001b[0;34m[\u001b[0m\u001b[0mneg_v_idx\u001b[0m\u001b[0;34m]\u001b[0m\u001b[0;34m)\u001b[0m\u001b[0;34m\u001b[0m\u001b[0;34m\u001b[0m\u001b[0m\n",
      "\u001b[0;31mKeyboardInterrupt\u001b[0m: "
     ]
    }
   ],
   "source": [
    "model = WARP(factors=64, epochs=5, lr=1e-3, reg=1e-3)\n",
    "model.fit(user_item_csr)"
   ]
  },
  {
   "cell_type": "code",
   "execution_count": 44,
   "metadata": {},
   "outputs": [
    {
     "data": {
      "text/plain": [
       "['0    Toy Story (1995)',\n",
       " '108    Braveheart (1995)',\n",
       " '2789    American Beauty (1999)',\n",
       " '1180    Raiders of the Lost Ark (1981)',\n",
       " '352    Forrest Gump (1994)',\n",
       " '585    Terminator 2: Judgment Day (1991)',\n",
       " '1543    Contact (1997)',\n",
       " '604    Fargo (1996)',\n",
       " '3339    Erin Brockovich (2000)',\n",
       " '3509    Gladiator (2000)']"
      ]
     },
     "execution_count": 44,
     "metadata": {},
     "output_type": "execute_result"
    }
   ],
   "source": [
    "get_similars(1, model)"
   ]
  },
  {
   "cell_type": "code",
   "execution_count": 45,
   "metadata": {},
   "outputs": [
    {
     "data": {
      "text/plain": [
       "['2789    American Beauty (1999)',\n",
       " '1178    Star Wars: Episode V - The Empire Strikes Back...',\n",
       " '589    Silence of the Lambs, The (1991)',\n",
       " '2502    Matrix, The (1999)',\n",
       " '1192    Star Wars: Episode VI - Return of the Jedi (1983)',\n",
       " \"523    Schindler's List (1993)\",\n",
       " '2693    Sixth Sense, The (1999)',\n",
       " '315    Shawshank Redemption, The (1994)',\n",
       " '604    Fargo (1996)',\n",
       " '847    Godfather, The (1972)']"
      ]
     },
     "execution_count": 45,
     "metadata": {},
     "output_type": "execute_result"
    }
   ],
   "source": [
    "get_recommendations(4, model)"
   ]
  },
  {
   "cell_type": "code",
   "execution_count": null,
   "metadata": {},
   "outputs": [],
   "source": []
  }
 ],
 "metadata": {
  "kernelspec": {
   "display_name": "recsys-env",
   "language": "python",
   "name": "recsys-env"
  },
  "language_info": {
   "codemirror_mode": {
    "name": "ipython",
    "version": 3
   },
   "file_extension": ".py",
   "mimetype": "text/x-python",
   "name": "python",
   "nbconvert_exporter": "python",
   "pygments_lexer": "ipython3",
   "version": "3.8.10"
  }
 },
 "nbformat": 4,
 "nbformat_minor": 2
}
