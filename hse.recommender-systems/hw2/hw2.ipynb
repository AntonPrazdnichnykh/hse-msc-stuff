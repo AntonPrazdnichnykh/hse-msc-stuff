{
 "cells": [
  {
   "cell_type": "markdown",
   "id": "unlimited-kinase",
   "metadata": {},
   "source": [
    "Дотасет:\n",
    "https://www.kaggle.com/c/kkbox-music-recommendation-challenge/overview\n",
    "\n",
    "Можете мерять результат по 5-fold evaluation на train-set,  per user auc roc.  "
   ]
  },
  {
   "cell_type": "code",
   "execution_count": 1,
   "id": "particular-syntax",
   "metadata": {},
   "outputs": [],
   "source": [
    "import pandas as pd\n",
    "import numpy as np\n",
    "from sklearn.metrics import roc_auc_score, average_precision_score\n",
    "from catboost import Pool, CatBoostClassifier\n",
    "import os\n",
    "from os.path import join\n",
    "from tqdm import trange\n",
    "from tqdm.notebook import tqdm\n",
    "from collections import defaultdict\n",
    "from time import sleep\n",
    "from sklearn.model_selection import train_test_split"
   ]
  },
  {
   "cell_type": "code",
   "execution_count": 2,
   "id": "marine-metropolitan",
   "metadata": {},
   "outputs": [
    {
     "data": {
      "text/plain": [
       "'1.20.0'"
      ]
     },
     "execution_count": 2,
     "metadata": {},
     "output_type": "execute_result"
    }
   ],
   "source": [
    "np.__version__"
   ]
  },
  {
   "cell_type": "code",
   "execution_count": 3,
   "id": "saved-springer",
   "metadata": {},
   "outputs": [],
   "source": [
    "DATA_DIR = './data'\n",
    "GLOBAL_SEED = 0\n",
    "K_FOLDS = 5"
   ]
  },
  {
   "cell_type": "markdown",
   "id": "grave-percentage",
   "metadata": {},
   "source": [
    "# Задача 1:\n",
    "\n",
    "Собрать более-менее приличную рекомендательную систему с помощью GBDT. Использование трюков из лекции (и не из неё), тюнинг и разумных объемов фича инжиниринг прям нужен. "
   ]
  },
  {
   "cell_type": "markdown",
   "id": "designing-auditor",
   "metadata": {},
   "source": [
    "## EDA"
   ]
  },
  {
   "cell_type": "code",
   "execution_count": 4,
   "id": "gentle-threshold",
   "metadata": {},
   "outputs": [
    {
     "data": {
      "text/html": [
       "<div>\n",
       "<style scoped>\n",
       "    .dataframe tbody tr th:only-of-type {\n",
       "        vertical-align: middle;\n",
       "    }\n",
       "\n",
       "    .dataframe tbody tr th {\n",
       "        vertical-align: top;\n",
       "    }\n",
       "\n",
       "    .dataframe thead th {\n",
       "        text-align: right;\n",
       "    }\n",
       "</style>\n",
       "<table border=\"1\" class=\"dataframe\">\n",
       "  <thead>\n",
       "    <tr style=\"text-align: right;\">\n",
       "      <th></th>\n",
       "      <th>msno</th>\n",
       "      <th>song_id</th>\n",
       "      <th>source_system_tab</th>\n",
       "      <th>source_screen_name</th>\n",
       "      <th>source_type</th>\n",
       "      <th>target</th>\n",
       "    </tr>\n",
       "  </thead>\n",
       "  <tbody>\n",
       "    <tr>\n",
       "      <th>0</th>\n",
       "      <td>FGtllVqz18RPiwJj/edr2gV78zirAiY/9SmYvia+kCg=</td>\n",
       "      <td>BBzumQNXUHKdEBOB7mAJuzok+IJA1c2Ryg/yzTF6tik=</td>\n",
       "      <td>explore</td>\n",
       "      <td>Explore</td>\n",
       "      <td>online-playlist</td>\n",
       "      <td>1</td>\n",
       "    </tr>\n",
       "    <tr>\n",
       "      <th>1</th>\n",
       "      <td>Xumu+NIjS6QYVxDS4/t3SawvJ7viT9hPKXmf0RtLNx8=</td>\n",
       "      <td>bhp/MpSNoqoxOIB+/l8WPqu6jldth4DIpCm3ayXnJqM=</td>\n",
       "      <td>my library</td>\n",
       "      <td>Local playlist more</td>\n",
       "      <td>local-playlist</td>\n",
       "      <td>1</td>\n",
       "    </tr>\n",
       "    <tr>\n",
       "      <th>2</th>\n",
       "      <td>Xumu+NIjS6QYVxDS4/t3SawvJ7viT9hPKXmf0RtLNx8=</td>\n",
       "      <td>JNWfrrC7zNN7BdMpsISKa4Mw+xVJYNnxXh3/Epw7QgY=</td>\n",
       "      <td>my library</td>\n",
       "      <td>Local playlist more</td>\n",
       "      <td>local-playlist</td>\n",
       "      <td>1</td>\n",
       "    </tr>\n",
       "    <tr>\n",
       "      <th>3</th>\n",
       "      <td>Xumu+NIjS6QYVxDS4/t3SawvJ7viT9hPKXmf0RtLNx8=</td>\n",
       "      <td>2A87tzfnJTSWqD7gIZHisolhe4DMdzkbd6LzO1KHjNs=</td>\n",
       "      <td>my library</td>\n",
       "      <td>Local playlist more</td>\n",
       "      <td>local-playlist</td>\n",
       "      <td>1</td>\n",
       "    </tr>\n",
       "    <tr>\n",
       "      <th>4</th>\n",
       "      <td>FGtllVqz18RPiwJj/edr2gV78zirAiY/9SmYvia+kCg=</td>\n",
       "      <td>3qm6XTZ6MOCU11x8FIVbAGH5l5uMkT3/ZalWG1oo2Gc=</td>\n",
       "      <td>explore</td>\n",
       "      <td>Explore</td>\n",
       "      <td>online-playlist</td>\n",
       "      <td>1</td>\n",
       "    </tr>\n",
       "  </tbody>\n",
       "</table>\n",
       "</div>"
      ],
      "text/plain": [
       "                                           msno  \\\n",
       "0  FGtllVqz18RPiwJj/edr2gV78zirAiY/9SmYvia+kCg=   \n",
       "1  Xumu+NIjS6QYVxDS4/t3SawvJ7viT9hPKXmf0RtLNx8=   \n",
       "2  Xumu+NIjS6QYVxDS4/t3SawvJ7viT9hPKXmf0RtLNx8=   \n",
       "3  Xumu+NIjS6QYVxDS4/t3SawvJ7viT9hPKXmf0RtLNx8=   \n",
       "4  FGtllVqz18RPiwJj/edr2gV78zirAiY/9SmYvia+kCg=   \n",
       "\n",
       "                                        song_id source_system_tab  \\\n",
       "0  BBzumQNXUHKdEBOB7mAJuzok+IJA1c2Ryg/yzTF6tik=           explore   \n",
       "1  bhp/MpSNoqoxOIB+/l8WPqu6jldth4DIpCm3ayXnJqM=        my library   \n",
       "2  JNWfrrC7zNN7BdMpsISKa4Mw+xVJYNnxXh3/Epw7QgY=        my library   \n",
       "3  2A87tzfnJTSWqD7gIZHisolhe4DMdzkbd6LzO1KHjNs=        my library   \n",
       "4  3qm6XTZ6MOCU11x8FIVbAGH5l5uMkT3/ZalWG1oo2Gc=           explore   \n",
       "\n",
       "    source_screen_name      source_type  target  \n",
       "0              Explore  online-playlist       1  \n",
       "1  Local playlist more   local-playlist       1  \n",
       "2  Local playlist more   local-playlist       1  \n",
       "3  Local playlist more   local-playlist       1  \n",
       "4              Explore  online-playlist       1  "
      ]
     },
     "execution_count": 4,
     "metadata": {},
     "output_type": "execute_result"
    }
   ],
   "source": [
    "train_df_raw = pd.read_csv(join(DATA_DIR, \"train.csv\"))\n",
    "train_df_raw.head()"
   ]
  },
  {
   "cell_type": "code",
   "execution_count": 5,
   "id": "theoretical-disclosure",
   "metadata": {},
   "outputs": [
    {
     "data": {
      "text/plain": [
       "msno                  object\n",
       "song_id               object\n",
       "source_system_tab     object\n",
       "source_screen_name    object\n",
       "source_type           object\n",
       "target                 int64\n",
       "dtype: object"
      ]
     },
     "execution_count": 5,
     "metadata": {},
     "output_type": "execute_result"
    }
   ],
   "source": [
    "train_df_raw.dtypes"
   ]
  },
  {
   "cell_type": "code",
   "execution_count": 6,
   "id": "abandoned-artwork",
   "metadata": {},
   "outputs": [
    {
     "data": {
      "text/plain": [
       "msno                       0\n",
       "song_id                    0\n",
       "source_system_tab      24849\n",
       "source_screen_name    414804\n",
       "source_type            21539\n",
       "target                     0\n",
       "dtype: int64"
      ]
     },
     "execution_count": 6,
     "metadata": {},
     "output_type": "execute_result"
    }
   ],
   "source": [
    "train_df_raw.isna().sum(axis=0)"
   ]
  },
  {
   "cell_type": "code",
   "execution_count": 7,
   "id": "pursuant-computer",
   "metadata": {},
   "outputs": [
    {
     "data": {
      "text/plain": [
       "msno                  0.000000\n",
       "song_id               0.000000\n",
       "source_system_tab     0.003368\n",
       "source_screen_name    0.056226\n",
       "source_type           0.002920\n",
       "target                0.000000\n",
       "dtype: float64"
      ]
     },
     "execution_count": 7,
     "metadata": {},
     "output_type": "execute_result"
    }
   ],
   "source": [
    "train_df_raw.isna().sum(axis=0) / len(train_df_raw)"
   ]
  },
  {
   "cell_type": "code",
   "execution_count": 8,
   "id": "micro-warrant",
   "metadata": {},
   "outputs": [],
   "source": [
    "train_df_raw.fillna('nan', inplace=True)"
   ]
  },
  {
   "cell_type": "code",
   "execution_count": 9,
   "id": "speaking-therapy",
   "metadata": {},
   "outputs": [
    {
     "data": {
      "text/plain": [
       "msno                   30755\n",
       "song_id               359966\n",
       "source_system_tab          9\n",
       "source_screen_name        21\n",
       "source_type               13\n",
       "target                     2\n",
       "dtype: int64"
      ]
     },
     "execution_count": 9,
     "metadata": {},
     "output_type": "execute_result"
    }
   ],
   "source": [
    "train_df_raw.nunique()"
   ]
  },
  {
   "cell_type": "code",
   "execution_count": 10,
   "id": "basic-tenant",
   "metadata": {},
   "outputs": [
    {
     "data": {
      "text/html": [
       "<div>\n",
       "<style scoped>\n",
       "    .dataframe tbody tr th:only-of-type {\n",
       "        vertical-align: middle;\n",
       "    }\n",
       "\n",
       "    .dataframe tbody tr th {\n",
       "        vertical-align: top;\n",
       "    }\n",
       "\n",
       "    .dataframe thead th {\n",
       "        text-align: right;\n",
       "    }\n",
       "</style>\n",
       "<table border=\"1\" class=\"dataframe\">\n",
       "  <thead>\n",
       "    <tr style=\"text-align: right;\">\n",
       "      <th></th>\n",
       "      <th>song_id</th>\n",
       "      <th>song_length</th>\n",
       "      <th>genre_ids</th>\n",
       "      <th>artist_name</th>\n",
       "      <th>composer</th>\n",
       "      <th>lyricist</th>\n",
       "      <th>language</th>\n",
       "    </tr>\n",
       "  </thead>\n",
       "  <tbody>\n",
       "    <tr>\n",
       "      <th>0</th>\n",
       "      <td>CXoTN1eb7AI+DntdU1vbcwGRV4SCIDxZu+YD8JP8r4E=</td>\n",
       "      <td>247640</td>\n",
       "      <td>465</td>\n",
       "      <td>張信哲 (Jeff Chang)</td>\n",
       "      <td>董貞</td>\n",
       "      <td>何啟弘</td>\n",
       "      <td>3.0</td>\n",
       "    </tr>\n",
       "    <tr>\n",
       "      <th>1</th>\n",
       "      <td>o0kFgae9QtnYgRkVPqLJwa05zIhRlUjfF7O1tDw0ZDU=</td>\n",
       "      <td>197328</td>\n",
       "      <td>444</td>\n",
       "      <td>BLACKPINK</td>\n",
       "      <td>TEDDY|  FUTURE BOUNCE|  Bekuh BOOM</td>\n",
       "      <td>TEDDY</td>\n",
       "      <td>31.0</td>\n",
       "    </tr>\n",
       "    <tr>\n",
       "      <th>2</th>\n",
       "      <td>DwVvVurfpuz+XPuFvucclVQEyPqcpUkHR0ne1RQzPs0=</td>\n",
       "      <td>231781</td>\n",
       "      <td>465</td>\n",
       "      <td>SUPER JUNIOR</td>\n",
       "      <td>NaN</td>\n",
       "      <td>NaN</td>\n",
       "      <td>31.0</td>\n",
       "    </tr>\n",
       "    <tr>\n",
       "      <th>3</th>\n",
       "      <td>dKMBWoZyScdxSkihKG+Vf47nc18N9q4m58+b4e7dSSE=</td>\n",
       "      <td>273554</td>\n",
       "      <td>465</td>\n",
       "      <td>S.H.E</td>\n",
       "      <td>湯小康</td>\n",
       "      <td>徐世珍</td>\n",
       "      <td>3.0</td>\n",
       "    </tr>\n",
       "    <tr>\n",
       "      <th>4</th>\n",
       "      <td>W3bqWd3T+VeHFzHAUfARgW9AvVRaF4N5Yzm4Mr6Eo/o=</td>\n",
       "      <td>140329</td>\n",
       "      <td>726</td>\n",
       "      <td>貴族精選</td>\n",
       "      <td>Traditional</td>\n",
       "      <td>Traditional</td>\n",
       "      <td>52.0</td>\n",
       "    </tr>\n",
       "  </tbody>\n",
       "</table>\n",
       "</div>"
      ],
      "text/plain": [
       "                                        song_id  song_length genre_ids  \\\n",
       "0  CXoTN1eb7AI+DntdU1vbcwGRV4SCIDxZu+YD8JP8r4E=       247640       465   \n",
       "1  o0kFgae9QtnYgRkVPqLJwa05zIhRlUjfF7O1tDw0ZDU=       197328       444   \n",
       "2  DwVvVurfpuz+XPuFvucclVQEyPqcpUkHR0ne1RQzPs0=       231781       465   \n",
       "3  dKMBWoZyScdxSkihKG+Vf47nc18N9q4m58+b4e7dSSE=       273554       465   \n",
       "4  W3bqWd3T+VeHFzHAUfARgW9AvVRaF4N5Yzm4Mr6Eo/o=       140329       726   \n",
       "\n",
       "        artist_name                            composer     lyricist  language  \n",
       "0  張信哲 (Jeff Chang)                                  董貞          何啟弘       3.0  \n",
       "1         BLACKPINK  TEDDY|  FUTURE BOUNCE|  Bekuh BOOM        TEDDY      31.0  \n",
       "2      SUPER JUNIOR                                 NaN          NaN      31.0  \n",
       "3             S.H.E                                 湯小康          徐世珍       3.0  \n",
       "4              貴族精選                         Traditional  Traditional      52.0  "
      ]
     },
     "execution_count": 10,
     "metadata": {},
     "output_type": "execute_result"
    }
   ],
   "source": [
    "songs_df = pd.read_csv(join(DATA_DIR, 'songs.csv'))\n",
    "songs_df.head()"
   ]
  },
  {
   "cell_type": "code",
   "execution_count": 11,
   "id": "genetic-standard",
   "metadata": {},
   "outputs": [
    {
     "data": {
      "text/plain": [
       "song_id        0.000000e+00\n",
       "song_length    0.000000e+00\n",
       "genre_ids      4.098558e-02\n",
       "artist_name    0.000000e+00\n",
       "composer       4.665526e-01\n",
       "lyricist       8.471241e-01\n",
       "language       4.354794e-07\n",
       "dtype: float64"
      ]
     },
     "execution_count": 11,
     "metadata": {},
     "output_type": "execute_result"
    }
   ],
   "source": [
    "songs_df.isna().sum(axis=0) / len(songs_df)"
   ]
  },
  {
   "cell_type": "code",
   "execution_count": 12,
   "id": "related-narrative",
   "metadata": {},
   "outputs": [
    {
     "data": {
      "text/plain": [
       "song_id         object\n",
       "song_length      int64\n",
       "genre_ids       object\n",
       "artist_name     object\n",
       "composer        object\n",
       "lyricist        object\n",
       "language       float64\n",
       "dtype: object"
      ]
     },
     "execution_count": 12,
     "metadata": {},
     "output_type": "execute_result"
    }
   ],
   "source": [
    "songs_df.dtypes"
   ]
  },
  {
   "cell_type": "code",
   "execution_count": 13,
   "id": "reserved-auditor",
   "metadata": {},
   "outputs": [
    {
     "data": {
      "text/plain": [
       "song_id        0.000000e+00\n",
       "song_length    0.000000e+00\n",
       "genre_ids      4.098558e-02\n",
       "artist_name    0.000000e+00\n",
       "composer       4.665526e-01\n",
       "lyricist       8.471241e-01\n",
       "language       4.354794e-07\n",
       "dtype: float64"
      ]
     },
     "execution_count": 13,
     "metadata": {},
     "output_type": "execute_result"
    }
   ],
   "source": [
    "songs_df.isna().sum(axis=0) / len(songs_df)"
   ]
  },
  {
   "cell_type": "code",
   "execution_count": 14,
   "id": "primary-depression",
   "metadata": {},
   "outputs": [],
   "source": [
    "train_df = train_df_raw.merge(songs_df, on='song_id', how='left')"
   ]
  },
  {
   "cell_type": "code",
   "execution_count": 15,
   "id": "unnecessary-scroll",
   "metadata": {},
   "outputs": [
    {
     "data": {
      "text/html": [
       "<div>\n",
       "<style scoped>\n",
       "    .dataframe tbody tr th:only-of-type {\n",
       "        vertical-align: middle;\n",
       "    }\n",
       "\n",
       "    .dataframe tbody tr th {\n",
       "        vertical-align: top;\n",
       "    }\n",
       "\n",
       "    .dataframe thead th {\n",
       "        text-align: right;\n",
       "    }\n",
       "</style>\n",
       "<table border=\"1\" class=\"dataframe\">\n",
       "  <thead>\n",
       "    <tr style=\"text-align: right;\">\n",
       "      <th></th>\n",
       "      <th>msno</th>\n",
       "      <th>city</th>\n",
       "      <th>bd</th>\n",
       "      <th>gender</th>\n",
       "      <th>registered_via</th>\n",
       "      <th>registration_init_time</th>\n",
       "      <th>expiration_date</th>\n",
       "    </tr>\n",
       "  </thead>\n",
       "  <tbody>\n",
       "    <tr>\n",
       "      <th>0</th>\n",
       "      <td>XQxgAYj3klVKjR3oxPPXYYFp4soD4TuBghkhMTD4oTw=</td>\n",
       "      <td>1</td>\n",
       "      <td>0</td>\n",
       "      <td>NaN</td>\n",
       "      <td>7</td>\n",
       "      <td>20110820</td>\n",
       "      <td>20170920</td>\n",
       "    </tr>\n",
       "    <tr>\n",
       "      <th>1</th>\n",
       "      <td>UizsfmJb9mV54qE9hCYyU07Va97c0lCRLEQX3ae+ztM=</td>\n",
       "      <td>1</td>\n",
       "      <td>0</td>\n",
       "      <td>NaN</td>\n",
       "      <td>7</td>\n",
       "      <td>20150628</td>\n",
       "      <td>20170622</td>\n",
       "    </tr>\n",
       "    <tr>\n",
       "      <th>2</th>\n",
       "      <td>D8nEhsIOBSoE6VthTaqDX8U6lqjJ7dLdr72mOyLya2A=</td>\n",
       "      <td>1</td>\n",
       "      <td>0</td>\n",
       "      <td>NaN</td>\n",
       "      <td>4</td>\n",
       "      <td>20160411</td>\n",
       "      <td>20170712</td>\n",
       "    </tr>\n",
       "    <tr>\n",
       "      <th>3</th>\n",
       "      <td>mCuD+tZ1hERA/o5GPqk38e041J8ZsBaLcu7nGoIIvhI=</td>\n",
       "      <td>1</td>\n",
       "      <td>0</td>\n",
       "      <td>NaN</td>\n",
       "      <td>9</td>\n",
       "      <td>20150906</td>\n",
       "      <td>20150907</td>\n",
       "    </tr>\n",
       "    <tr>\n",
       "      <th>4</th>\n",
       "      <td>q4HRBfVSssAFS9iRfxWrohxuk9kCYMKjHOEagUMV6rQ=</td>\n",
       "      <td>1</td>\n",
       "      <td>0</td>\n",
       "      <td>NaN</td>\n",
       "      <td>4</td>\n",
       "      <td>20170126</td>\n",
       "      <td>20170613</td>\n",
       "    </tr>\n",
       "  </tbody>\n",
       "</table>\n",
       "</div>"
      ],
      "text/plain": [
       "                                           msno  city  bd gender  \\\n",
       "0  XQxgAYj3klVKjR3oxPPXYYFp4soD4TuBghkhMTD4oTw=     1   0    NaN   \n",
       "1  UizsfmJb9mV54qE9hCYyU07Va97c0lCRLEQX3ae+ztM=     1   0    NaN   \n",
       "2  D8nEhsIOBSoE6VthTaqDX8U6lqjJ7dLdr72mOyLya2A=     1   0    NaN   \n",
       "3  mCuD+tZ1hERA/o5GPqk38e041J8ZsBaLcu7nGoIIvhI=     1   0    NaN   \n",
       "4  q4HRBfVSssAFS9iRfxWrohxuk9kCYMKjHOEagUMV6rQ=     1   0    NaN   \n",
       "\n",
       "   registered_via  registration_init_time  expiration_date  \n",
       "0               7                20110820         20170920  \n",
       "1               7                20150628         20170622  \n",
       "2               4                20160411         20170712  \n",
       "3               9                20150906         20150907  \n",
       "4               4                20170126         20170613  "
      ]
     },
     "execution_count": 15,
     "metadata": {},
     "output_type": "execute_result"
    }
   ],
   "source": [
    "members_df = pd.read_csv(join(DATA_DIR, 'members.csv'))\n",
    "members_df.head()"
   ]
  },
  {
   "cell_type": "code",
   "execution_count": 16,
   "id": "specialized-judgment",
   "metadata": {},
   "outputs": [
    {
     "data": {
      "text/plain": [
       "msno                      object\n",
       "city                       int64\n",
       "bd                         int64\n",
       "gender                    object\n",
       "registered_via             int64\n",
       "registration_init_time     int64\n",
       "expiration_date            int64\n",
       "dtype: object"
      ]
     },
     "execution_count": 16,
     "metadata": {},
     "output_type": "execute_result"
    }
   ],
   "source": [
    "members_df.dtypes"
   ]
  },
  {
   "cell_type": "code",
   "execution_count": 17,
   "id": "promising-andorra",
   "metadata": {},
   "outputs": [
    {
     "data": {
      "text/plain": [
       "msno                      0.000000\n",
       "city                      0.000000\n",
       "bd                        0.000000\n",
       "gender                    0.578496\n",
       "registered_via            0.000000\n",
       "registration_init_time    0.000000\n",
       "expiration_date           0.000000\n",
       "dtype: float64"
      ]
     },
     "execution_count": 17,
     "metadata": {},
     "output_type": "execute_result"
    }
   ],
   "source": [
    "members_df.isna().sum(axis=0) / len(members_df)"
   ]
  },
  {
   "cell_type": "code",
   "execution_count": 18,
   "id": "checked-realtor",
   "metadata": {},
   "outputs": [],
   "source": [
    "members_df.fillna('nan', inplace=True)"
   ]
  },
  {
   "cell_type": "code",
   "execution_count": 19,
   "id": "reliable-harvest",
   "metadata": {},
   "outputs": [],
   "source": [
    "def split_year_month_day(dt):\n",
    "    return dt // 10000, (dt % 10000) // 100, dt % 100"
   ]
  },
  {
   "cell_type": "code",
   "execution_count": 20,
   "id": "daily-kernel",
   "metadata": {},
   "outputs": [],
   "source": [
    "members_df['reg_year'], members_df['reg_month'], members_df['reg_day'] = zip(\n",
    "    *members_df.registration_init_time.map(split_year_month_day)\n",
    ")"
   ]
  },
  {
   "cell_type": "code",
   "execution_count": 21,
   "id": "private-enterprise",
   "metadata": {},
   "outputs": [],
   "source": [
    "members_df['exp_year'], members_df['exp_month'], members_df['exp_day'] = zip(\n",
    "    *members_df.expiration_date.map(split_year_month_day)\n",
    ")"
   ]
  },
  {
   "cell_type": "code",
   "execution_count": 22,
   "id": "ordinary-convenience",
   "metadata": {},
   "outputs": [
    {
     "data": {
      "text/plain": [
       "Index(['msno', 'city', 'bd', 'gender', 'registered_via', 'reg_year',\n",
       "       'reg_month', 'reg_day', 'exp_year', 'exp_month', 'exp_day'],\n",
       "      dtype='object')"
      ]
     },
     "execution_count": 22,
     "metadata": {},
     "output_type": "execute_result"
    }
   ],
   "source": [
    "members_df.drop(labels=['registration_init_time', 'expiration_date'], axis=1, inplace=True)\n",
    "members_df.columns"
   ]
  },
  {
   "cell_type": "code",
   "execution_count": 23,
   "id": "auburn-projector",
   "metadata": {},
   "outputs": [
    {
     "name": "stderr",
     "output_type": "stream",
     "text": [
      "/home/anton/python-envs/recsys-env/lib/python3.8/site-packages/pandas/core/indexing.py:1732: SettingWithCopyWarning: \n",
      "A value is trying to be set on a copy of a slice from a DataFrame\n",
      "\n",
      "See the caveats in the documentation: https://pandas.pydata.org/pandas-docs/stable/user_guide/indexing.html#returning-a-view-versus-a-copy\n",
      "  self._setitem_single_block(indexer, value, name)\n"
     ]
    }
   ],
   "source": [
    "members_df.bd.loc[(members_df.bd < 5) | (members_df.bd > 100)] = np.nan"
   ]
  },
  {
   "cell_type": "code",
   "execution_count": 24,
   "id": "cleared-walter",
   "metadata": {},
   "outputs": [
    {
     "data": {
      "text/html": [
       "<div>\n",
       "<style scoped>\n",
       "    .dataframe tbody tr th:only-of-type {\n",
       "        vertical-align: middle;\n",
       "    }\n",
       "\n",
       "    .dataframe tbody tr th {\n",
       "        vertical-align: top;\n",
       "    }\n",
       "\n",
       "    .dataframe thead th {\n",
       "        text-align: right;\n",
       "    }\n",
       "</style>\n",
       "<table border=\"1\" class=\"dataframe\">\n",
       "  <thead>\n",
       "    <tr style=\"text-align: right;\">\n",
       "      <th></th>\n",
       "      <th>song_id</th>\n",
       "      <th>name</th>\n",
       "      <th>isrc</th>\n",
       "    </tr>\n",
       "  </thead>\n",
       "  <tbody>\n",
       "    <tr>\n",
       "      <th>0</th>\n",
       "      <td>LP7pLJoJFBvyuUwvu+oLzjT+bI+UeBPURCecJsX1jjs=</td>\n",
       "      <td>我們</td>\n",
       "      <td>TWUM71200043</td>\n",
       "    </tr>\n",
       "    <tr>\n",
       "      <th>1</th>\n",
       "      <td>ClazTFnk6r0Bnuie44bocdNMM3rdlrq0bCGAsGUWcHE=</td>\n",
       "      <td>Let Me Love You</td>\n",
       "      <td>QMZSY1600015</td>\n",
       "    </tr>\n",
       "    <tr>\n",
       "      <th>2</th>\n",
       "      <td>u2ja/bZE3zhCGxvbbOB3zOoUjx27u40cf5g09UXMoKQ=</td>\n",
       "      <td>原諒我</td>\n",
       "      <td>TWA530887303</td>\n",
       "    </tr>\n",
       "    <tr>\n",
       "      <th>3</th>\n",
       "      <td>92Fqsy0+p6+RHe2EoLKjHahORHR1Kq1TBJoClW9v+Ts=</td>\n",
       "      <td>Classic</td>\n",
       "      <td>USSM11301446</td>\n",
       "    </tr>\n",
       "    <tr>\n",
       "      <th>4</th>\n",
       "      <td>0QFmz/+rJy1Q56C1DuYqT9hKKqi5TUqx0sN0IwvoHrw=</td>\n",
       "      <td>愛投羅網</td>\n",
       "      <td>TWA471306001</td>\n",
       "    </tr>\n",
       "  </tbody>\n",
       "</table>\n",
       "</div>"
      ],
      "text/plain": [
       "                                        song_id             name          isrc\n",
       "0  LP7pLJoJFBvyuUwvu+oLzjT+bI+UeBPURCecJsX1jjs=               我們  TWUM71200043\n",
       "1  ClazTFnk6r0Bnuie44bocdNMM3rdlrq0bCGAsGUWcHE=  Let Me Love You  QMZSY1600015\n",
       "2  u2ja/bZE3zhCGxvbbOB3zOoUjx27u40cf5g09UXMoKQ=              原諒我  TWA530887303\n",
       "3  92Fqsy0+p6+RHe2EoLKjHahORHR1Kq1TBJoClW9v+Ts=          Classic  USSM11301446\n",
       "4  0QFmz/+rJy1Q56C1DuYqT9hKKqi5TUqx0sN0IwvoHrw=             愛投羅網  TWA471306001"
      ]
     },
     "execution_count": 24,
     "metadata": {},
     "output_type": "execute_result"
    }
   ],
   "source": [
    "songs_extra_df = pd.read_csv(join(DATA_DIR, 'song_extra_info.csv'))\n",
    "songs_extra_df.head()"
   ]
  },
  {
   "cell_type": "code",
   "execution_count": 25,
   "id": "clean-blade",
   "metadata": {},
   "outputs": [],
   "source": [
    "def isrc_to_year(isrc):\n",
    "    if isinstance(isrc, str):\n",
    "        decs = int(isrc[5:7])\n",
    "        if decs > 17:\n",
    "            return 1900 + decs\n",
    "        return 2000 + decs\n",
    "    return np.nan"
   ]
  },
  {
   "cell_type": "code",
   "execution_count": 26,
   "id": "alpine-deviation",
   "metadata": {},
   "outputs": [],
   "source": [
    "songs_extra_df['song_year'] = songs_extra_df['isrc'].apply(isrc_to_year).astype(np.float64)\n",
    "songs_extra_df.drop(['isrc', 'name'], axis=1, inplace=True)"
   ]
  },
  {
   "cell_type": "code",
   "execution_count": 27,
   "id": "numeric-vienna",
   "metadata": {},
   "outputs": [
    {
     "data": {
      "text/html": [
       "<div>\n",
       "<style scoped>\n",
       "    .dataframe tbody tr th:only-of-type {\n",
       "        vertical-align: middle;\n",
       "    }\n",
       "\n",
       "    .dataframe tbody tr th {\n",
       "        vertical-align: top;\n",
       "    }\n",
       "\n",
       "    .dataframe thead th {\n",
       "        text-align: right;\n",
       "    }\n",
       "</style>\n",
       "<table border=\"1\" class=\"dataframe\">\n",
       "  <thead>\n",
       "    <tr style=\"text-align: right;\">\n",
       "      <th></th>\n",
       "      <th>song_id</th>\n",
       "      <th>song_year</th>\n",
       "    </tr>\n",
       "  </thead>\n",
       "  <tbody>\n",
       "    <tr>\n",
       "      <th>0</th>\n",
       "      <td>LP7pLJoJFBvyuUwvu+oLzjT+bI+UeBPURCecJsX1jjs=</td>\n",
       "      <td>2012.0</td>\n",
       "    </tr>\n",
       "    <tr>\n",
       "      <th>1</th>\n",
       "      <td>ClazTFnk6r0Bnuie44bocdNMM3rdlrq0bCGAsGUWcHE=</td>\n",
       "      <td>2016.0</td>\n",
       "    </tr>\n",
       "    <tr>\n",
       "      <th>2</th>\n",
       "      <td>u2ja/bZE3zhCGxvbbOB3zOoUjx27u40cf5g09UXMoKQ=</td>\n",
       "      <td>2008.0</td>\n",
       "    </tr>\n",
       "    <tr>\n",
       "      <th>3</th>\n",
       "      <td>92Fqsy0+p6+RHe2EoLKjHahORHR1Kq1TBJoClW9v+Ts=</td>\n",
       "      <td>2013.0</td>\n",
       "    </tr>\n",
       "    <tr>\n",
       "      <th>4</th>\n",
       "      <td>0QFmz/+rJy1Q56C1DuYqT9hKKqi5TUqx0sN0IwvoHrw=</td>\n",
       "      <td>2013.0</td>\n",
       "    </tr>\n",
       "  </tbody>\n",
       "</table>\n",
       "</div>"
      ],
      "text/plain": [
       "                                        song_id  song_year\n",
       "0  LP7pLJoJFBvyuUwvu+oLzjT+bI+UeBPURCecJsX1jjs=     2012.0\n",
       "1  ClazTFnk6r0Bnuie44bocdNMM3rdlrq0bCGAsGUWcHE=     2016.0\n",
       "2  u2ja/bZE3zhCGxvbbOB3zOoUjx27u40cf5g09UXMoKQ=     2008.0\n",
       "3  92Fqsy0+p6+RHe2EoLKjHahORHR1Kq1TBJoClW9v+Ts=     2013.0\n",
       "4  0QFmz/+rJy1Q56C1DuYqT9hKKqi5TUqx0sN0IwvoHrw=     2013.0"
      ]
     },
     "execution_count": 27,
     "metadata": {},
     "output_type": "execute_result"
    }
   ],
   "source": [
    "songs_extra_df.head()"
   ]
  },
  {
   "cell_type": "code",
   "execution_count": 28,
   "id": "minus-arctic",
   "metadata": {},
   "outputs": [],
   "source": [
    "train_df = train_df.merge(members_df, on='msno', how='left')"
   ]
  },
  {
   "cell_type": "code",
   "execution_count": 29,
   "id": "initial-wedding",
   "metadata": {},
   "outputs": [],
   "source": [
    "train_df = train_df.merge(songs_extra_df, on='song_id', how='left')"
   ]
  },
  {
   "cell_type": "code",
   "execution_count": 30,
   "id": "generic-bearing",
   "metadata": {},
   "outputs": [
    {
     "data": {
      "text/plain": [
       "msno                   object\n",
       "song_id                object\n",
       "source_system_tab      object\n",
       "source_screen_name     object\n",
       "source_type            object\n",
       "target                  int64\n",
       "song_length           float64\n",
       "genre_ids              object\n",
       "artist_name            object\n",
       "composer               object\n",
       "lyricist               object\n",
       "language              float64\n",
       "city                    int64\n",
       "bd                    float64\n",
       "gender                 object\n",
       "registered_via          int64\n",
       "reg_year                int64\n",
       "reg_month               int64\n",
       "reg_day                 int64\n",
       "exp_year                int64\n",
       "exp_month               int64\n",
       "exp_day                 int64\n",
       "song_year             float64\n",
       "dtype: object"
      ]
     },
     "execution_count": 30,
     "metadata": {},
     "output_type": "execute_result"
    }
   ],
   "source": [
    "train_df.dtypes"
   ]
  },
  {
   "cell_type": "code",
   "execution_count": 31,
   "id": "induced-crest",
   "metadata": {},
   "outputs": [
    {
     "data": {
      "text/plain": [
       "array([52., -1., 31.,  3., 17., 10., 24., 59., 45., nan, 38.])"
      ]
     },
     "execution_count": 31,
     "metadata": {},
     "output_type": "execute_result"
    }
   ],
   "source": [
    "train_df.language.unique()"
   ]
  },
  {
   "cell_type": "code",
   "execution_count": 32,
   "id": "divine-rehabilitation",
   "metadata": {},
   "outputs": [],
   "source": [
    "train_df.language = train_df.language.fillna(0).astype('int64')"
   ]
  },
  {
   "cell_type": "code",
   "execution_count": 33,
   "id": "proof-perry",
   "metadata": {
    "scrolled": false
   },
   "outputs": [
    {
     "data": {
      "text/plain": [
       "msno                   object\n",
       "song_id                object\n",
       "source_system_tab      object\n",
       "source_screen_name     object\n",
       "source_type            object\n",
       "target                  int64\n",
       "song_length           float64\n",
       "genre_ids              object\n",
       "artist_name            object\n",
       "composer               object\n",
       "lyricist               object\n",
       "language                int64\n",
       "city                    int64\n",
       "bd                    float64\n",
       "gender                 object\n",
       "registered_via          int64\n",
       "reg_year                int64\n",
       "reg_month               int64\n",
       "reg_day                 int64\n",
       "exp_year                int64\n",
       "exp_month               int64\n",
       "exp_day                 int64\n",
       "song_year             float64\n",
       "dtype: object"
      ]
     },
     "execution_count": 33,
     "metadata": {},
     "output_type": "execute_result"
    }
   ],
   "source": [
    "train_df.dtypes"
   ]
  },
  {
   "cell_type": "markdown",
   "id": "outside-samba",
   "metadata": {},
   "source": [
    "Заменим набор жанров на эмпирическую вероятность того, что юзер послушает песню с данным набором жанров (в предположении, что жанры независимы)"
   ]
  },
  {
   "cell_type": "code",
   "execution_count": 34,
   "id": "instrumental-animal",
   "metadata": {},
   "outputs": [],
   "source": [
    "user_genre_counter = dict((msno, defaultdict(int)) for msno in train_df.msno.unique().tolist())"
   ]
  },
  {
   "cell_type": "code",
   "execution_count": 35,
   "id": "least-netherlands",
   "metadata": {},
   "outputs": [],
   "source": [
    "for msno, genre_ids in zip(train_df.msno, train_df.genre_ids):\n",
    "    if pd.notna(genre_ids):\n",
    "        user_genre_counter[msno]['num_songs_listened'] += 1\n",
    "        for genre in genre_ids.split('|'):\n",
    "            user_genre_counter[msno][genre] += 1"
   ]
  },
  {
   "cell_type": "code",
   "execution_count": 36,
   "id": "desirable-brazil",
   "metadata": {},
   "outputs": [
    {
     "data": {
      "text/plain": [
       "defaultdict(int,\n",
       "            {'num_songs_listened': 5410,\n",
       "             '359': 182,\n",
       "             '1011': 39,\n",
       "             '1259': 674,\n",
       "             '465': 2369,\n",
       "             '1609': 1042,\n",
       "             '139': 190,\n",
       "             '691': 2,\n",
       "             '2022': 194,\n",
       "             '1616': 58,\n",
       "             '2058': 13,\n",
       "             '2072': 4,\n",
       "             '125': 60,\n",
       "             '109': 62,\n",
       "             '444': 201,\n",
       "             '1955': 3,\n",
       "             '352': 11,\n",
       "             '1995': 11,\n",
       "             '921': 112,\n",
       "             '1040': 1,\n",
       "             '2093': 6,\n",
       "             '423': 2,\n",
       "             '458': 281,\n",
       "             '451': 28,\n",
       "             '430': 11,\n",
       "             '437': 8,\n",
       "             '2122': 37,\n",
       "             '880': 2,\n",
       "             '118': 1,\n",
       "             '2107': 15,\n",
       "             '2176': 4,\n",
       "             '1572': 10,\n",
       "             '275': 10,\n",
       "             '829': 4,\n",
       "             '958': 18,\n",
       "             '2130': 1,\n",
       "             '798': 13,\n",
       "             '2157': 11,\n",
       "             '947': 12,\n",
       "             '786': 13,\n",
       "             '864': 2,\n",
       "             '857': 2,\n",
       "             '850': 2,\n",
       "             '843': 2,\n",
       "             '726': 3,\n",
       "             '94': 1,\n",
       "             '1180': 1,\n",
       "             '1273': 1,\n",
       "             '242': 1,\n",
       "             '1152': 4,\n",
       "             '2109': 1,\n",
       "             '2079': 3,\n",
       "             '409': 2,\n",
       "             '2086': 1,\n",
       "             '374': 1,\n",
       "             '1287': 1,\n",
       "             '893': 1})"
      ]
     },
     "execution_count": 36,
     "metadata": {},
     "output_type": "execute_result"
    }
   ],
   "source": [
    "user_genre_counter['FGtllVqz18RPiwJj/edr2gV78zirAiY/9SmYvia+kCg=']"
   ]
  },
  {
   "cell_type": "code",
   "execution_count": 37,
   "id": "compatible-portland",
   "metadata": {},
   "outputs": [],
   "source": [
    "user_genre_logprobs = []\n",
    "for msno, genre_ids in zip(train_df.msno, train_df.genre_ids):\n",
    "    if pd.isna(genre_ids):\n",
    "        user_genre_logprobs.append(np.nan)\n",
    "    else:\n",
    "        user_genre_logprobs.append(\n",
    "            np.log([\n",
    "                user_genre_counter[msno][genre] / user_genre_counter[msno]['num_songs_listened']\n",
    "            for genre in genre_ids.split('|')]).sum()\n",
    "        )\n",
    "train_df['genres_logprob'] = np.array(user_genre_logprobs)"
   ]
  },
  {
   "cell_type": "code",
   "execution_count": 38,
   "id": "neither-strategy",
   "metadata": {},
   "outputs": [
    {
     "data": {
      "text/html": [
       "<div>\n",
       "<style scoped>\n",
       "    .dataframe tbody tr th:only-of-type {\n",
       "        vertical-align: middle;\n",
       "    }\n",
       "\n",
       "    .dataframe tbody tr th {\n",
       "        vertical-align: top;\n",
       "    }\n",
       "\n",
       "    .dataframe thead th {\n",
       "        text-align: right;\n",
       "    }\n",
       "</style>\n",
       "<table border=\"1\" class=\"dataframe\">\n",
       "  <thead>\n",
       "    <tr style=\"text-align: right;\">\n",
       "      <th></th>\n",
       "      <th>msno</th>\n",
       "      <th>song_id</th>\n",
       "      <th>source_system_tab</th>\n",
       "      <th>source_screen_name</th>\n",
       "      <th>source_type</th>\n",
       "      <th>target</th>\n",
       "      <th>song_length</th>\n",
       "      <th>genre_ids</th>\n",
       "      <th>artist_name</th>\n",
       "      <th>composer</th>\n",
       "      <th>...</th>\n",
       "      <th>gender</th>\n",
       "      <th>registered_via</th>\n",
       "      <th>reg_year</th>\n",
       "      <th>reg_month</th>\n",
       "      <th>reg_day</th>\n",
       "      <th>exp_year</th>\n",
       "      <th>exp_month</th>\n",
       "      <th>exp_day</th>\n",
       "      <th>song_year</th>\n",
       "      <th>genres_logprob</th>\n",
       "    </tr>\n",
       "  </thead>\n",
       "  <tbody>\n",
       "    <tr>\n",
       "      <th>0</th>\n",
       "      <td>FGtllVqz18RPiwJj/edr2gV78zirAiY/9SmYvia+kCg=</td>\n",
       "      <td>BBzumQNXUHKdEBOB7mAJuzok+IJA1c2Ryg/yzTF6tik=</td>\n",
       "      <td>explore</td>\n",
       "      <td>Explore</td>\n",
       "      <td>online-playlist</td>\n",
       "      <td>1</td>\n",
       "      <td>206471.0</td>\n",
       "      <td>359</td>\n",
       "      <td>Bastille</td>\n",
       "      <td>Dan Smith| Mark Crew</td>\n",
       "      <td>...</td>\n",
       "      <td>nan</td>\n",
       "      <td>7</td>\n",
       "      <td>2012</td>\n",
       "      <td>1</td>\n",
       "      <td>2</td>\n",
       "      <td>2017</td>\n",
       "      <td>10</td>\n",
       "      <td>5</td>\n",
       "      <td>2016.0</td>\n",
       "      <td>-3.391998</td>\n",
       "    </tr>\n",
       "    <tr>\n",
       "      <th>1</th>\n",
       "      <td>Xumu+NIjS6QYVxDS4/t3SawvJ7viT9hPKXmf0RtLNx8=</td>\n",
       "      <td>bhp/MpSNoqoxOIB+/l8WPqu6jldth4DIpCm3ayXnJqM=</td>\n",
       "      <td>my library</td>\n",
       "      <td>Local playlist more</td>\n",
       "      <td>local-playlist</td>\n",
       "      <td>1</td>\n",
       "      <td>284584.0</td>\n",
       "      <td>1259</td>\n",
       "      <td>Various Artists</td>\n",
       "      <td>NaN</td>\n",
       "      <td>...</td>\n",
       "      <td>female</td>\n",
       "      <td>9</td>\n",
       "      <td>2011</td>\n",
       "      <td>5</td>\n",
       "      <td>25</td>\n",
       "      <td>2017</td>\n",
       "      <td>9</td>\n",
       "      <td>11</td>\n",
       "      <td>1999.0</td>\n",
       "      <td>-2.528175</td>\n",
       "    </tr>\n",
       "    <tr>\n",
       "      <th>2</th>\n",
       "      <td>Xumu+NIjS6QYVxDS4/t3SawvJ7viT9hPKXmf0RtLNx8=</td>\n",
       "      <td>JNWfrrC7zNN7BdMpsISKa4Mw+xVJYNnxXh3/Epw7QgY=</td>\n",
       "      <td>my library</td>\n",
       "      <td>Local playlist more</td>\n",
       "      <td>local-playlist</td>\n",
       "      <td>1</td>\n",
       "      <td>225396.0</td>\n",
       "      <td>1259</td>\n",
       "      <td>Nas</td>\n",
       "      <td>N. Jones、W. Adams、J. Lordan、D. Ingle</td>\n",
       "      <td>...</td>\n",
       "      <td>female</td>\n",
       "      <td>9</td>\n",
       "      <td>2011</td>\n",
       "      <td>5</td>\n",
       "      <td>25</td>\n",
       "      <td>2017</td>\n",
       "      <td>9</td>\n",
       "      <td>11</td>\n",
       "      <td>2006.0</td>\n",
       "      <td>-2.528175</td>\n",
       "    </tr>\n",
       "    <tr>\n",
       "      <th>3</th>\n",
       "      <td>Xumu+NIjS6QYVxDS4/t3SawvJ7viT9hPKXmf0RtLNx8=</td>\n",
       "      <td>2A87tzfnJTSWqD7gIZHisolhe4DMdzkbd6LzO1KHjNs=</td>\n",
       "      <td>my library</td>\n",
       "      <td>Local playlist more</td>\n",
       "      <td>local-playlist</td>\n",
       "      <td>1</td>\n",
       "      <td>255512.0</td>\n",
       "      <td>1019</td>\n",
       "      <td>Soundway</td>\n",
       "      <td>Kwadwo Donkoh</td>\n",
       "      <td>...</td>\n",
       "      <td>female</td>\n",
       "      <td>9</td>\n",
       "      <td>2011</td>\n",
       "      <td>5</td>\n",
       "      <td>25</td>\n",
       "      <td>2017</td>\n",
       "      <td>9</td>\n",
       "      <td>11</td>\n",
       "      <td>2010.0</td>\n",
       "      <td>-6.419995</td>\n",
       "    </tr>\n",
       "    <tr>\n",
       "      <th>4</th>\n",
       "      <td>FGtllVqz18RPiwJj/edr2gV78zirAiY/9SmYvia+kCg=</td>\n",
       "      <td>3qm6XTZ6MOCU11x8FIVbAGH5l5uMkT3/ZalWG1oo2Gc=</td>\n",
       "      <td>explore</td>\n",
       "      <td>Explore</td>\n",
       "      <td>online-playlist</td>\n",
       "      <td>1</td>\n",
       "      <td>187802.0</td>\n",
       "      <td>1011</td>\n",
       "      <td>Brett Young</td>\n",
       "      <td>Brett Young| Kelly Archer| Justin Ebach</td>\n",
       "      <td>...</td>\n",
       "      <td>nan</td>\n",
       "      <td>7</td>\n",
       "      <td>2012</td>\n",
       "      <td>1</td>\n",
       "      <td>2</td>\n",
       "      <td>2017</td>\n",
       "      <td>10</td>\n",
       "      <td>5</td>\n",
       "      <td>2016.0</td>\n",
       "      <td>-4.932443</td>\n",
       "    </tr>\n",
       "  </tbody>\n",
       "</table>\n",
       "<p>5 rows × 24 columns</p>\n",
       "</div>"
      ],
      "text/plain": [
       "                                           msno  \\\n",
       "0  FGtllVqz18RPiwJj/edr2gV78zirAiY/9SmYvia+kCg=   \n",
       "1  Xumu+NIjS6QYVxDS4/t3SawvJ7viT9hPKXmf0RtLNx8=   \n",
       "2  Xumu+NIjS6QYVxDS4/t3SawvJ7viT9hPKXmf0RtLNx8=   \n",
       "3  Xumu+NIjS6QYVxDS4/t3SawvJ7viT9hPKXmf0RtLNx8=   \n",
       "4  FGtllVqz18RPiwJj/edr2gV78zirAiY/9SmYvia+kCg=   \n",
       "\n",
       "                                        song_id source_system_tab  \\\n",
       "0  BBzumQNXUHKdEBOB7mAJuzok+IJA1c2Ryg/yzTF6tik=           explore   \n",
       "1  bhp/MpSNoqoxOIB+/l8WPqu6jldth4DIpCm3ayXnJqM=        my library   \n",
       "2  JNWfrrC7zNN7BdMpsISKa4Mw+xVJYNnxXh3/Epw7QgY=        my library   \n",
       "3  2A87tzfnJTSWqD7gIZHisolhe4DMdzkbd6LzO1KHjNs=        my library   \n",
       "4  3qm6XTZ6MOCU11x8FIVbAGH5l5uMkT3/ZalWG1oo2Gc=           explore   \n",
       "\n",
       "    source_screen_name      source_type  target  song_length genre_ids  \\\n",
       "0              Explore  online-playlist       1     206471.0       359   \n",
       "1  Local playlist more   local-playlist       1     284584.0      1259   \n",
       "2  Local playlist more   local-playlist       1     225396.0      1259   \n",
       "3  Local playlist more   local-playlist       1     255512.0      1019   \n",
       "4              Explore  online-playlist       1     187802.0      1011   \n",
       "\n",
       "       artist_name                                 composer  ...  gender  \\\n",
       "0         Bastille                     Dan Smith| Mark Crew  ...     nan   \n",
       "1  Various Artists                                      NaN  ...  female   \n",
       "2              Nas     N. Jones、W. Adams、J. Lordan、D. Ingle  ...  female   \n",
       "3         Soundway                            Kwadwo Donkoh  ...  female   \n",
       "4      Brett Young  Brett Young| Kelly Archer| Justin Ebach  ...     nan   \n",
       "\n",
       "   registered_via  reg_year  reg_month reg_day  exp_year  exp_month  exp_day  \\\n",
       "0               7      2012          1       2      2017         10        5   \n",
       "1               9      2011          5      25      2017          9       11   \n",
       "2               9      2011          5      25      2017          9       11   \n",
       "3               9      2011          5      25      2017          9       11   \n",
       "4               7      2012          1       2      2017         10        5   \n",
       "\n",
       "   song_year  genres_logprob  \n",
       "0     2016.0       -3.391998  \n",
       "1     1999.0       -2.528175  \n",
       "2     2006.0       -2.528175  \n",
       "3     2010.0       -6.419995  \n",
       "4     2016.0       -4.932443  \n",
       "\n",
       "[5 rows x 24 columns]"
      ]
     },
     "execution_count": 38,
     "metadata": {},
     "output_type": "execute_result"
    }
   ],
   "source": [
    "train_df.head()"
   ]
  },
  {
   "cell_type": "code",
   "execution_count": 39,
   "id": "solved-retention",
   "metadata": {},
   "outputs": [],
   "source": [
    "del user_genre_counter, user_genre_logprobs"
   ]
  },
  {
   "cell_type": "markdown",
   "id": "alike-rouge",
   "metadata": {},
   "source": [
    "Сделаем то же самое с исполнителем (на композитора и автора текста забьем)"
   ]
  },
  {
   "cell_type": "code",
   "execution_count": 40,
   "id": "ordered-strategy",
   "metadata": {},
   "outputs": [],
   "source": [
    "user_artist_counter = dict((msno, defaultdict(int)) for msno in train_df.msno.unique().tolist())\n",
    "for msno, artist in zip(train_df.msno, train_df.artist_name):\n",
    "    if pd.notna(artist):\n",
    "        user_artist_counter[msno]['num_songs_listened'] += 1\n",
    "        user_artist_counter[msno][artist] += 1\n",
    "        \n",
    "user_artist_logprobs = []\n",
    "for msno, artist in zip(train_df.msno, train_df.artist_name):\n",
    "    if pd.isna(artist):\n",
    "        user_artist_logprobs.append(np.nan)\n",
    "    else:\n",
    "        user_artist_logprobs.append(\n",
    "            np.log(user_artist_counter[msno][artist] / user_artist_counter[msno]['num_songs_listened'])\n",
    "        )\n",
    "train_df['artist_logprob'] = np.array(user_artist_logprobs)\n",
    "\n",
    "del user_artist_counter, user_artist_logprobs"
   ]
  },
  {
   "cell_type": "code",
   "execution_count": 41,
   "id": "exotic-evidence",
   "metadata": {},
   "outputs": [
    {
     "data": {
      "text/plain": [
       "msno                   object\n",
       "song_id                object\n",
       "source_system_tab      object\n",
       "source_screen_name     object\n",
       "source_type            object\n",
       "target                  int64\n",
       "song_length           float64\n",
       "genre_ids              object\n",
       "artist_name            object\n",
       "composer               object\n",
       "lyricist               object\n",
       "language                int64\n",
       "city                    int64\n",
       "bd                    float64\n",
       "gender                 object\n",
       "registered_via          int64\n",
       "reg_year                int64\n",
       "reg_month               int64\n",
       "reg_day                 int64\n",
       "exp_year                int64\n",
       "exp_month               int64\n",
       "exp_day                 int64\n",
       "song_year             float64\n",
       "genres_logprob        float64\n",
       "artist_logprob        float64\n",
       "dtype: object"
      ]
     },
     "execution_count": 41,
     "metadata": {},
     "output_type": "execute_result"
    }
   ],
   "source": [
    "train_df.dtypes"
   ]
  },
  {
   "cell_type": "code",
   "execution_count": 42,
   "id": "standard-syndrome",
   "metadata": {},
   "outputs": [
    {
     "data": {
      "text/plain": [
       "source_system_tab      object\n",
       "source_screen_name     object\n",
       "source_type            object\n",
       "song_length           float64\n",
       "language                int64\n",
       "city                    int64\n",
       "bd                    float64\n",
       "gender                 object\n",
       "registered_via          int64\n",
       "reg_year                int64\n",
       "reg_month               int64\n",
       "reg_day                 int64\n",
       "exp_year                int64\n",
       "exp_month               int64\n",
       "exp_day                 int64\n",
       "song_year             float64\n",
       "genres_logprob        float64\n",
       "artist_logprob        float64\n",
       "dtype: object"
      ]
     },
     "execution_count": 42,
     "metadata": {},
     "output_type": "execute_result"
    }
   ],
   "source": [
    "y = train_df.target\n",
    "X = train_df.drop(\n",
    "    ['msno', 'song_id', 'target', 'genre_ids', 'artist_name', 'composer', 'lyricist'],\n",
    "    axis=1\n",
    ")\n",
    "\n",
    "X.dtypes"
   ]
  },
  {
   "cell_type": "code",
   "execution_count": 43,
   "id": "difficult-middle",
   "metadata": {},
   "outputs": [],
   "source": [
    "del train_df_raw, songs_df, members_df"
   ]
  },
  {
   "cell_type": "code",
   "execution_count": 44,
   "id": "protected-wrist",
   "metadata": {},
   "outputs": [],
   "source": [
    "CAT_FEATURES = [0, 1, 2, 4, 5, 7, 8]"
   ]
  },
  {
   "cell_type": "code",
   "execution_count": 45,
   "id": "nuclear-adult",
   "metadata": {},
   "outputs": [],
   "source": [
    "for idx, col in enumerate(X.columns):\n",
    "    if idx in CAT_FEATURES:\n",
    "        X[col] = X[col].astype('category')"
   ]
  },
  {
   "cell_type": "code",
   "execution_count": 46,
   "id": "little-indie",
   "metadata": {},
   "outputs": [
    {
     "data": {
      "text/plain": [
       "source_system_tab     category\n",
       "source_screen_name    category\n",
       "source_type           category\n",
       "song_length            float64\n",
       "language              category\n",
       "city                  category\n",
       "bd                     float64\n",
       "gender                category\n",
       "registered_via        category\n",
       "reg_year                 int64\n",
       "reg_month                int64\n",
       "reg_day                  int64\n",
       "exp_year                 int64\n",
       "exp_month                int64\n",
       "exp_day                  int64\n",
       "song_year              float64\n",
       "genres_logprob         float64\n",
       "artist_logprob         float64\n",
       "dtype: object"
      ]
     },
     "execution_count": 46,
     "metadata": {},
     "output_type": "execute_result"
    }
   ],
   "source": [
    "X.dtypes"
   ]
  },
  {
   "cell_type": "code",
   "execution_count": 47,
   "id": "confused-safety",
   "metadata": {},
   "outputs": [],
   "source": [
    "MODEL_PARAMS = {\n",
    "    'iterations': 100,\n",
    "    'depth': 8,\n",
    "    'num_leaves': 256,\n",
    "    'min_data_in_leaf': 10,\n",
    "    'random_seed': GLOBAL_SEED,\n",
    "    'learning_rate': 0.4,\n",
    "    'eval_metric': 'AUC',\n",
    "    'early_stopping_rounds': 10,\n",
    "}"
   ]
  },
  {
   "cell_type": "code",
   "execution_count": 48,
   "id": "medieval-retro",
   "metadata": {},
   "outputs": [],
   "source": [
    "def cross_validation(X, y, k_folds):\n",
    "    np.random.seed(GLOBAL_SEED)\n",
    "    idx = np.random.permutation(len(y))\n",
    "    folds = np.array_split(idx, k_folds)\n",
    "  \n",
    "    aucs = []\n",
    "    \n",
    "    for split, val_inds in enumerate(folds):\n",
    "        print(f\"Taking {split} split as validation set\")\n",
    "        train_inds = np.setdiff1d(idx, val_inds)\n",
    "\n",
    "        X_train, y_train = X.iloc[train_inds], y.iloc[train_inds]\n",
    "        X_val, y_val = X.iloc[val_inds], y.iloc[val_inds]\n",
    "        \n",
    "        model = CatBoostClassifier(**MODEL_PARAMS)\n",
    "        model.fit(\n",
    "            X_train, y_train,\n",
    "            cat_features=CAT_FEATURES,\n",
    "            eval_set=(X_val, y_val),\n",
    "            verbose=True\n",
    "        )\n",
    "        \n",
    "        probs = model.predict_proba(X_val)[:, 1]\n",
    "        \n",
    "        aucs.append(roc_auc_score(y_val.values, probs))\n",
    "        del model\n",
    "        sleep(1)\n",
    "        \n",
    "    return aucs"
   ]
  },
  {
   "cell_type": "code",
   "execution_count": 49,
   "id": "registered-turning",
   "metadata": {},
   "outputs": [
    {
     "name": "stdout",
     "output_type": "stream",
     "text": [
      "Taking 0 split as validation set\n",
      "0:\ttest: 0.6655635\tbest: 0.6655635 (0)\ttotal: 1.8s\tremaining: 2m 58s\n",
      "1:\ttest: 0.6679925\tbest: 0.6679925 (1)\ttotal: 3.43s\tremaining: 2m 47s\n",
      "2:\ttest: 0.6689157\tbest: 0.6689157 (2)\ttotal: 4.88s\tremaining: 2m 37s\n",
      "3:\ttest: 0.6700900\tbest: 0.6700900 (3)\ttotal: 6.39s\tremaining: 2m 33s\n",
      "4:\ttest: 0.6727744\tbest: 0.6727744 (4)\ttotal: 8.27s\tremaining: 2m 37s\n",
      "5:\ttest: 0.6738926\tbest: 0.6738926 (5)\ttotal: 9.77s\tremaining: 2m 33s\n",
      "6:\ttest: 0.6755610\tbest: 0.6755610 (6)\ttotal: 11.3s\tremaining: 2m 30s\n",
      "7:\ttest: 0.6764251\tbest: 0.6764251 (7)\ttotal: 12.9s\tremaining: 2m 27s\n",
      "8:\ttest: 0.6778368\tbest: 0.6778368 (8)\ttotal: 14.5s\tremaining: 2m 26s\n",
      "9:\ttest: 0.6786746\tbest: 0.6786746 (9)\ttotal: 16s\tremaining: 2m 24s\n",
      "10:\ttest: 0.6794269\tbest: 0.6794269 (10)\ttotal: 17.5s\tremaining: 2m 21s\n",
      "11:\ttest: 0.6804289\tbest: 0.6804289 (11)\ttotal: 19s\tremaining: 2m 19s\n",
      "12:\ttest: 0.6811076\tbest: 0.6811076 (12)\ttotal: 20.6s\tremaining: 2m 17s\n",
      "13:\ttest: 0.6816551\tbest: 0.6816551 (13)\ttotal: 22.1s\tremaining: 2m 15s\n",
      "14:\ttest: 0.6820625\tbest: 0.6820625 (14)\ttotal: 23.6s\tremaining: 2m 13s\n",
      "15:\ttest: 0.6823675\tbest: 0.6823675 (15)\ttotal: 25.2s\tremaining: 2m 12s\n",
      "16:\ttest: 0.6828759\tbest: 0.6828759 (16)\ttotal: 26.7s\tremaining: 2m 10s\n",
      "17:\ttest: 0.6835482\tbest: 0.6835482 (17)\ttotal: 28.3s\tremaining: 2m 8s\n",
      "18:\ttest: 0.6844490\tbest: 0.6844490 (18)\ttotal: 30s\tremaining: 2m 7s\n",
      "19:\ttest: 0.6851969\tbest: 0.6851969 (19)\ttotal: 31.6s\tremaining: 2m 6s\n",
      "20:\ttest: 0.6856387\tbest: 0.6856387 (20)\ttotal: 33.1s\tremaining: 2m 4s\n",
      "21:\ttest: 0.6861530\tbest: 0.6861530 (21)\ttotal: 34.8s\tremaining: 2m 3s\n",
      "22:\ttest: 0.6868535\tbest: 0.6868535 (22)\ttotal: 36.4s\tremaining: 2m 1s\n",
      "23:\ttest: 0.6874369\tbest: 0.6874369 (23)\ttotal: 38s\tremaining: 2m\n",
      "24:\ttest: 0.6880884\tbest: 0.6880884 (24)\ttotal: 39.5s\tremaining: 1m 58s\n",
      "25:\ttest: 0.6883819\tbest: 0.6883819 (25)\ttotal: 41.1s\tremaining: 1m 56s\n",
      "26:\ttest: 0.6889079\tbest: 0.6889079 (26)\ttotal: 42.6s\tremaining: 1m 55s\n",
      "27:\ttest: 0.6891627\tbest: 0.6891627 (27)\ttotal: 44.2s\tremaining: 1m 53s\n",
      "28:\ttest: 0.6895961\tbest: 0.6895961 (28)\ttotal: 45.7s\tremaining: 1m 52s\n",
      "29:\ttest: 0.6899700\tbest: 0.6899700 (29)\ttotal: 47.3s\tremaining: 1m 50s\n",
      "30:\ttest: 0.6903705\tbest: 0.6903705 (30)\ttotal: 48.9s\tremaining: 1m 48s\n",
      "31:\ttest: 0.6909002\tbest: 0.6909002 (31)\ttotal: 50.3s\tremaining: 1m 46s\n",
      "32:\ttest: 0.6916856\tbest: 0.6916856 (32)\ttotal: 51.9s\tremaining: 1m 45s\n",
      "33:\ttest: 0.6921260\tbest: 0.6921260 (33)\ttotal: 53.4s\tremaining: 1m 43s\n",
      "34:\ttest: 0.6923738\tbest: 0.6923738 (34)\ttotal: 54.9s\tremaining: 1m 41s\n",
      "35:\ttest: 0.6930455\tbest: 0.6930455 (35)\ttotal: 56.6s\tremaining: 1m 40s\n",
      "36:\ttest: 0.6932309\tbest: 0.6932309 (36)\ttotal: 58s\tremaining: 1m 38s\n",
      "37:\ttest: 0.6937675\tbest: 0.6937675 (37)\ttotal: 59.6s\tremaining: 1m 37s\n",
      "38:\ttest: 0.6947322\tbest: 0.6947322 (38)\ttotal: 1m 1s\tremaining: 1m 35s\n",
      "39:\ttest: 0.6951933\tbest: 0.6951933 (39)\ttotal: 1m 2s\tremaining: 1m 33s\n",
      "40:\ttest: 0.6953902\tbest: 0.6953902 (40)\ttotal: 1m 4s\tremaining: 1m 32s\n",
      "41:\ttest: 0.6960134\tbest: 0.6960134 (41)\ttotal: 1m 5s\tremaining: 1m 30s\n",
      "42:\ttest: 0.6964841\tbest: 0.6964841 (42)\ttotal: 1m 7s\tremaining: 1m 29s\n",
      "43:\ttest: 0.6967800\tbest: 0.6967800 (43)\ttotal: 1m 8s\tremaining: 1m 27s\n",
      "44:\ttest: 0.6971087\tbest: 0.6971087 (44)\ttotal: 1m 10s\tremaining: 1m 25s\n",
      "45:\ttest: 0.6974056\tbest: 0.6974056 (45)\ttotal: 1m 11s\tremaining: 1m 24s\n",
      "46:\ttest: 0.6976257\tbest: 0.6976257 (46)\ttotal: 1m 13s\tremaining: 1m 22s\n",
      "47:\ttest: 0.6978523\tbest: 0.6978523 (47)\ttotal: 1m 14s\tremaining: 1m 20s\n",
      "48:\ttest: 0.6983378\tbest: 0.6983378 (48)\ttotal: 1m 16s\tremaining: 1m 19s\n",
      "49:\ttest: 0.6985648\tbest: 0.6985648 (49)\ttotal: 1m 17s\tremaining: 1m 17s\n",
      "50:\ttest: 0.6993457\tbest: 0.6993457 (50)\ttotal: 1m 19s\tremaining: 1m 16s\n",
      "51:\ttest: 0.6996739\tbest: 0.6996739 (51)\ttotal: 1m 20s\tremaining: 1m 14s\n",
      "52:\ttest: 0.7000137\tbest: 0.7000137 (52)\ttotal: 1m 22s\tremaining: 1m 13s\n",
      "53:\ttest: 0.7004064\tbest: 0.7004064 (53)\ttotal: 1m 23s\tremaining: 1m 11s\n",
      "54:\ttest: 0.7007253\tbest: 0.7007253 (54)\ttotal: 1m 25s\tremaining: 1m 9s\n",
      "55:\ttest: 0.7011302\tbest: 0.7011302 (55)\ttotal: 1m 27s\tremaining: 1m 8s\n",
      "56:\ttest: 0.7016745\tbest: 0.7016745 (56)\ttotal: 1m 28s\tremaining: 1m 6s\n",
      "57:\ttest: 0.7020410\tbest: 0.7020410 (57)\ttotal: 1m 30s\tremaining: 1m 5s\n",
      "58:\ttest: 0.7022854\tbest: 0.7022854 (58)\ttotal: 1m 31s\tremaining: 1m 3s\n",
      "59:\ttest: 0.7026387\tbest: 0.7026387 (59)\ttotal: 1m 33s\tremaining: 1m 2s\n",
      "60:\ttest: 0.7028583\tbest: 0.7028583 (60)\ttotal: 1m 35s\tremaining: 1m\n",
      "61:\ttest: 0.7034976\tbest: 0.7034976 (61)\ttotal: 1m 36s\tremaining: 59.2s\n",
      "62:\ttest: 0.7038136\tbest: 0.7038136 (62)\ttotal: 1m 38s\tremaining: 57.7s\n",
      "63:\ttest: 0.7040339\tbest: 0.7040339 (63)\ttotal: 1m 39s\tremaining: 56.2s\n",
      "64:\ttest: 0.7046764\tbest: 0.7046764 (64)\ttotal: 1m 41s\tremaining: 54.6s\n",
      "65:\ttest: 0.7049400\tbest: 0.7049400 (65)\ttotal: 1m 43s\tremaining: 53.1s\n",
      "66:\ttest: 0.7052870\tbest: 0.7052870 (66)\ttotal: 1m 44s\tremaining: 51.5s\n",
      "67:\ttest: 0.7056236\tbest: 0.7056236 (67)\ttotal: 1m 46s\tremaining: 50s\n",
      "68:\ttest: 0.7058662\tbest: 0.7058662 (68)\ttotal: 1m 47s\tremaining: 48.4s\n",
      "69:\ttest: 0.7061922\tbest: 0.7061922 (69)\ttotal: 1m 49s\tremaining: 46.8s\n",
      "70:\ttest: 0.7064201\tbest: 0.7064201 (70)\ttotal: 1m 50s\tremaining: 45.2s\n",
      "71:\ttest: 0.7065921\tbest: 0.7065921 (71)\ttotal: 1m 52s\tremaining: 43.7s\n",
      "72:\ttest: 0.7067790\tbest: 0.7067790 (72)\ttotal: 1m 54s\tremaining: 42.2s\n",
      "73:\ttest: 0.7070244\tbest: 0.7070244 (73)\ttotal: 1m 55s\tremaining: 40.7s\n",
      "74:\ttest: 0.7071651\tbest: 0.7071651 (74)\ttotal: 1m 57s\tremaining: 39.1s\n",
      "75:\ttest: 0.7073293\tbest: 0.7073293 (75)\ttotal: 1m 59s\tremaining: 37.6s\n",
      "76:\ttest: 0.7074688\tbest: 0.7074688 (76)\ttotal: 2m\tremaining: 36.1s\n",
      "77:\ttest: 0.7077596\tbest: 0.7077596 (77)\ttotal: 2m 2s\tremaining: 34.5s\n",
      "78:\ttest: 0.7081427\tbest: 0.7081427 (78)\ttotal: 2m 4s\tremaining: 33s\n",
      "79:\ttest: 0.7082615\tbest: 0.7082615 (79)\ttotal: 2m 5s\tremaining: 31.5s\n",
      "80:\ttest: 0.7085078\tbest: 0.7085078 (80)\ttotal: 2m 7s\tremaining: 29.9s\n",
      "81:\ttest: 0.7087071\tbest: 0.7087071 (81)\ttotal: 2m 9s\tremaining: 28.5s\n",
      "82:\ttest: 0.7090144\tbest: 0.7090144 (82)\ttotal: 2m 11s\tremaining: 27s\n",
      "83:\ttest: 0.7092232\tbest: 0.7092232 (83)\ttotal: 2m 13s\tremaining: 25.5s\n",
      "84:\ttest: 0.7094335\tbest: 0.7094335 (84)\ttotal: 2m 15s\tremaining: 23.9s\n",
      "85:\ttest: 0.7095731\tbest: 0.7095731 (85)\ttotal: 2m 17s\tremaining: 22.4s\n",
      "86:\ttest: 0.7099305\tbest: 0.7099305 (86)\ttotal: 2m 19s\tremaining: 20.9s\n",
      "87:\ttest: 0.7102433\tbest: 0.7102433 (87)\ttotal: 2m 21s\tremaining: 19.3s\n",
      "88:\ttest: 0.7103987\tbest: 0.7103987 (88)\ttotal: 2m 24s\tremaining: 17.8s\n",
      "89:\ttest: 0.7105748\tbest: 0.7105748 (89)\ttotal: 2m 26s\tremaining: 16.3s\n",
      "90:\ttest: 0.7107671\tbest: 0.7107671 (90)\ttotal: 2m 29s\tremaining: 14.8s\n",
      "91:\ttest: 0.7109301\tbest: 0.7109301 (91)\ttotal: 2m 31s\tremaining: 13.2s\n",
      "92:\ttest: 0.7110121\tbest: 0.7110121 (92)\ttotal: 2m 34s\tremaining: 11.6s\n",
      "93:\ttest: 0.7111978\tbest: 0.7111978 (93)\ttotal: 2m 36s\tremaining: 10s\n",
      "94:\ttest: 0.7114760\tbest: 0.7114760 (94)\ttotal: 2m 39s\tremaining: 8.38s\n",
      "95:\ttest: 0.7116972\tbest: 0.7116972 (95)\ttotal: 2m 41s\tremaining: 6.74s\n",
      "96:\ttest: 0.7119746\tbest: 0.7119746 (96)\ttotal: 2m 44s\tremaining: 5.08s\n",
      "97:\ttest: 0.7121732\tbest: 0.7121732 (97)\ttotal: 2m 46s\tremaining: 3.4s\n",
      "98:\ttest: 0.7126142\tbest: 0.7126142 (98)\ttotal: 2m 48s\tremaining: 1.7s\n",
      "99:\ttest: 0.7127702\tbest: 0.7127702 (99)\ttotal: 2m 50s\tremaining: 0us\n",
      "\n",
      "bestTest = 0.7127701901\n",
      "bestIteration = 99\n",
      "\n",
      "Taking 1 split as validation set\n",
      "0:\ttest: 0.6640547\tbest: 0.6640547 (0)\ttotal: 2.16s\tremaining: 3m 33s\n",
      "1:\ttest: 0.6673469\tbest: 0.6673469 (1)\ttotal: 4.21s\tremaining: 3m 26s\n",
      "2:\ttest: 0.6683954\tbest: 0.6683954 (2)\ttotal: 6.11s\tremaining: 3m 17s\n",
      "3:\ttest: 0.6697870\tbest: 0.6697870 (3)\ttotal: 7.95s\tremaining: 3m 10s\n",
      "4:\ttest: 0.6717563\tbest: 0.6717563 (4)\ttotal: 10.1s\tremaining: 3m 11s\n",
      "5:\ttest: 0.6728988\tbest: 0.6728988 (5)\ttotal: 11.9s\tremaining: 3m 6s\n",
      "6:\ttest: 0.6745987\tbest: 0.6745987 (6)\ttotal: 13.8s\tremaining: 3m 2s\n",
      "7:\ttest: 0.6759402\tbest: 0.6759402 (7)\ttotal: 15.7s\tremaining: 3m 1s\n",
      "8:\ttest: 0.6766550\tbest: 0.6766550 (8)\ttotal: 17.8s\tremaining: 2m 59s\n",
      "9:\ttest: 0.6776185\tbest: 0.6776185 (9)\ttotal: 19.6s\tremaining: 2m 56s\n",
      "10:\ttest: 0.6784298\tbest: 0.6784298 (10)\ttotal: 21.4s\tremaining: 2m 53s\n",
      "11:\ttest: 0.6789710\tbest: 0.6789710 (11)\ttotal: 23.3s\tremaining: 2m 51s\n",
      "12:\ttest: 0.6804054\tbest: 0.6804054 (12)\ttotal: 25.4s\tremaining: 2m 49s\n",
      "13:\ttest: 0.6807835\tbest: 0.6807835 (13)\ttotal: 27.3s\tremaining: 2m 47s\n"
     ]
    },
    {
     "name": "stdout",
     "output_type": "stream",
     "text": [
      "14:\ttest: 0.6815410\tbest: 0.6815410 (14)\ttotal: 29.2s\tremaining: 2m 45s\n",
      "15:\ttest: 0.6820924\tbest: 0.6820924 (15)\ttotal: 31.1s\tremaining: 2m 43s\n",
      "16:\ttest: 0.6829002\tbest: 0.6829002 (16)\ttotal: 32.9s\tremaining: 2m 40s\n",
      "17:\ttest: 0.6834212\tbest: 0.6834212 (17)\ttotal: 34.9s\tremaining: 2m 39s\n",
      "18:\ttest: 0.6838843\tbest: 0.6838843 (18)\ttotal: 36.8s\tremaining: 2m 36s\n",
      "19:\ttest: 0.6843153\tbest: 0.6843153 (19)\ttotal: 38.8s\tremaining: 2m 35s\n",
      "20:\ttest: 0.6850720\tbest: 0.6850720 (20)\ttotal: 40.7s\tremaining: 2m 33s\n",
      "21:\ttest: 0.6856542\tbest: 0.6856542 (21)\ttotal: 42.6s\tremaining: 2m 31s\n",
      "22:\ttest: 0.6860607\tbest: 0.6860607 (22)\ttotal: 44.5s\tremaining: 2m 28s\n",
      "23:\ttest: 0.6866666\tbest: 0.6866666 (23)\ttotal: 46.2s\tremaining: 2m 26s\n",
      "24:\ttest: 0.6871542\tbest: 0.6871542 (24)\ttotal: 48s\tremaining: 2m 24s\n",
      "25:\ttest: 0.6875788\tbest: 0.6875788 (25)\ttotal: 49.8s\tremaining: 2m 21s\n",
      "26:\ttest: 0.6883217\tbest: 0.6883217 (26)\ttotal: 51.5s\tremaining: 2m 19s\n",
      "27:\ttest: 0.6890465\tbest: 0.6890465 (27)\ttotal: 53.3s\tremaining: 2m 17s\n",
      "28:\ttest: 0.6894151\tbest: 0.6894151 (28)\ttotal: 55.1s\tremaining: 2m 14s\n",
      "29:\ttest: 0.6896977\tbest: 0.6896977 (29)\ttotal: 56.8s\tremaining: 2m 12s\n",
      "30:\ttest: 0.6902459\tbest: 0.6902459 (30)\ttotal: 58.6s\tremaining: 2m 10s\n",
      "31:\ttest: 0.6905647\tbest: 0.6905647 (31)\ttotal: 1m\tremaining: 2m 8s\n",
      "32:\ttest: 0.6908939\tbest: 0.6908939 (32)\ttotal: 1m 2s\tremaining: 2m 6s\n",
      "33:\ttest: 0.6911427\tbest: 0.6911427 (33)\ttotal: 1m 3s\tremaining: 2m 4s\n",
      "34:\ttest: 0.6914015\tbest: 0.6914015 (34)\ttotal: 1m 5s\tremaining: 2m 1s\n",
      "35:\ttest: 0.6917841\tbest: 0.6917841 (35)\ttotal: 1m 7s\tremaining: 1m 59s\n",
      "36:\ttest: 0.6923871\tbest: 0.6923871 (36)\ttotal: 1m 9s\tremaining: 1m 57s\n",
      "37:\ttest: 0.6927559\tbest: 0.6927559 (37)\ttotal: 1m 10s\tremaining: 1m 55s\n",
      "38:\ttest: 0.6932712\tbest: 0.6932712 (38)\ttotal: 1m 12s\tremaining: 1m 53s\n",
      "39:\ttest: 0.6935890\tbest: 0.6935890 (39)\ttotal: 1m 14s\tremaining: 1m 51s\n",
      "40:\ttest: 0.6939905\tbest: 0.6939905 (40)\ttotal: 1m 16s\tremaining: 1m 49s\n",
      "41:\ttest: 0.6942868\tbest: 0.6942868 (41)\ttotal: 1m 18s\tremaining: 1m 47s\n",
      "42:\ttest: 0.6952299\tbest: 0.6952299 (42)\ttotal: 1m 19s\tremaining: 1m 45s\n",
      "43:\ttest: 0.6960422\tbest: 0.6960422 (43)\ttotal: 1m 21s\tremaining: 1m 44s\n",
      "44:\ttest: 0.6962240\tbest: 0.6962240 (44)\ttotal: 1m 23s\tremaining: 1m 42s\n",
      "45:\ttest: 0.6965489\tbest: 0.6965489 (45)\ttotal: 1m 25s\tremaining: 1m 40s\n",
      "46:\ttest: 0.6969709\tbest: 0.6969709 (46)\ttotal: 1m 27s\tremaining: 1m 38s\n",
      "47:\ttest: 0.6971670\tbest: 0.6971670 (47)\ttotal: 1m 28s\tremaining: 1m 36s\n",
      "48:\ttest: 0.6976291\tbest: 0.6976291 (48)\ttotal: 1m 30s\tremaining: 1m 34s\n",
      "49:\ttest: 0.6979005\tbest: 0.6979005 (49)\ttotal: 1m 32s\tremaining: 1m 32s\n",
      "50:\ttest: 0.6981136\tbest: 0.6981136 (50)\ttotal: 1m 34s\tremaining: 1m 30s\n",
      "51:\ttest: 0.6987839\tbest: 0.6987839 (51)\ttotal: 1m 36s\tremaining: 1m 28s\n",
      "52:\ttest: 0.6991834\tbest: 0.6991834 (52)\ttotal: 1m 38s\tremaining: 1m 27s\n",
      "53:\ttest: 0.6996775\tbest: 0.6996775 (53)\ttotal: 1m 39s\tremaining: 1m 25s\n",
      "54:\ttest: 0.7001698\tbest: 0.7001698 (54)\ttotal: 1m 41s\tremaining: 1m 23s\n",
      "55:\ttest: 0.7002791\tbest: 0.7002791 (55)\ttotal: 1m 43s\tremaining: 1m 21s\n",
      "56:\ttest: 0.7004808\tbest: 0.7004808 (56)\ttotal: 1m 45s\tremaining: 1m 19s\n",
      "57:\ttest: 0.7006429\tbest: 0.7006429 (57)\ttotal: 1m 47s\tremaining: 1m 17s\n",
      "58:\ttest: 0.7009115\tbest: 0.7009115 (58)\ttotal: 1m 49s\tremaining: 1m 15s\n",
      "59:\ttest: 0.7011592\tbest: 0.7011592 (59)\ttotal: 1m 50s\tremaining: 1m 13s\n",
      "60:\ttest: 0.7016207\tbest: 0.7016207 (60)\ttotal: 1m 52s\tremaining: 1m 11s\n",
      "61:\ttest: 0.7018354\tbest: 0.7018354 (61)\ttotal: 1m 54s\tremaining: 1m 10s\n",
      "62:\ttest: 0.7026348\tbest: 0.7026348 (62)\ttotal: 1m 56s\tremaining: 1m 8s\n",
      "63:\ttest: 0.7030695\tbest: 0.7030695 (63)\ttotal: 1m 57s\tremaining: 1m 6s\n",
      "64:\ttest: 0.7032539\tbest: 0.7032539 (64)\ttotal: 1m 59s\tremaining: 1m 4s\n",
      "65:\ttest: 0.7034946\tbest: 0.7034946 (65)\ttotal: 2m 1s\tremaining: 1m 2s\n",
      "66:\ttest: 0.7037218\tbest: 0.7037218 (66)\ttotal: 2m 3s\tremaining: 1m\n",
      "67:\ttest: 0.7040944\tbest: 0.7040944 (67)\ttotal: 2m 5s\tremaining: 59.1s\n",
      "68:\ttest: 0.7046459\tbest: 0.7046459 (68)\ttotal: 2m 7s\tremaining: 57.4s\n",
      "69:\ttest: 0.7048716\tbest: 0.7048716 (69)\ttotal: 2m 9s\tremaining: 55.5s\n",
      "70:\ttest: 0.7051628\tbest: 0.7051628 (70)\ttotal: 2m 11s\tremaining: 53.7s\n",
      "71:\ttest: 0.7055593\tbest: 0.7055593 (71)\ttotal: 2m 13s\tremaining: 51.8s\n",
      "72:\ttest: 0.7057261\tbest: 0.7057261 (72)\ttotal: 2m 14s\tremaining: 49.9s\n",
      "73:\ttest: 0.7058854\tbest: 0.7058854 (73)\ttotal: 2m 16s\tremaining: 48.1s\n",
      "74:\ttest: 0.7061258\tbest: 0.7061258 (74)\ttotal: 2m 18s\tremaining: 46.3s\n",
      "75:\ttest: 0.7067217\tbest: 0.7067217 (75)\ttotal: 2m 20s\tremaining: 44.4s\n",
      "76:\ttest: 0.7071892\tbest: 0.7071892 (76)\ttotal: 2m 22s\tremaining: 42.6s\n",
      "77:\ttest: 0.7073036\tbest: 0.7073036 (77)\ttotal: 2m 24s\tremaining: 40.8s\n",
      "78:\ttest: 0.7075187\tbest: 0.7075187 (78)\ttotal: 2m 26s\tremaining: 38.9s\n",
      "79:\ttest: 0.7077862\tbest: 0.7077862 (79)\ttotal: 2m 28s\tremaining: 37s\n",
      "80:\ttest: 0.7079137\tbest: 0.7079137 (80)\ttotal: 2m 29s\tremaining: 35.2s\n",
      "81:\ttest: 0.7082912\tbest: 0.7082912 (81)\ttotal: 2m 31s\tremaining: 33.3s\n",
      "82:\ttest: 0.7084835\tbest: 0.7084835 (82)\ttotal: 2m 33s\tremaining: 31.4s\n",
      "83:\ttest: 0.7086969\tbest: 0.7086969 (83)\ttotal: 2m 35s\tremaining: 29.5s\n",
      "84:\ttest: 0.7089193\tbest: 0.7089193 (84)\ttotal: 2m 37s\tremaining: 27.7s\n",
      "85:\ttest: 0.7090503\tbest: 0.7090503 (85)\ttotal: 2m 38s\tremaining: 25.9s\n",
      "86:\ttest: 0.7092494\tbest: 0.7092494 (86)\ttotal: 2m 40s\tremaining: 24s\n",
      "87:\ttest: 0.7093382\tbest: 0.7093382 (87)\ttotal: 2m 42s\tremaining: 22.2s\n",
      "88:\ttest: 0.7094785\tbest: 0.7094785 (88)\ttotal: 2m 44s\tremaining: 20.3s\n",
      "89:\ttest: 0.7096076\tbest: 0.7096076 (89)\ttotal: 2m 46s\tremaining: 18.5s\n",
      "90:\ttest: 0.7097487\tbest: 0.7097487 (90)\ttotal: 2m 48s\tremaining: 16.6s\n",
      "91:\ttest: 0.7099172\tbest: 0.7099172 (91)\ttotal: 2m 50s\tremaining: 14.8s\n",
      "92:\ttest: 0.7100210\tbest: 0.7100210 (92)\ttotal: 2m 51s\tremaining: 12.9s\n",
      "93:\ttest: 0.7102616\tbest: 0.7102616 (93)\ttotal: 2m 53s\tremaining: 11.1s\n",
      "94:\ttest: 0.7105422\tbest: 0.7105422 (94)\ttotal: 2m 55s\tremaining: 9.24s\n",
      "95:\ttest: 0.7107465\tbest: 0.7107465 (95)\ttotal: 2m 57s\tremaining: 7.39s\n",
      "96:\ttest: 0.7108805\tbest: 0.7108805 (96)\ttotal: 2m 59s\tremaining: 5.54s\n",
      "97:\ttest: 0.7110476\tbest: 0.7110476 (97)\ttotal: 3m 1s\tremaining: 3.69s\n",
      "98:\ttest: 0.7112419\tbest: 0.7112419 (98)\ttotal: 3m 3s\tremaining: 1.85s\n",
      "99:\ttest: 0.7116403\tbest: 0.7116403 (99)\ttotal: 3m 4s\tremaining: 0us\n",
      "\n",
      "bestTest = 0.7116403296\n",
      "bestIteration = 99\n",
      "\n",
      "Taking 2 split as validation set\n",
      "0:\ttest: 0.6643298\tbest: 0.6643298 (0)\ttotal: 2s\tremaining: 3m 18s\n",
      "1:\ttest: 0.6673175\tbest: 0.6673175 (1)\ttotal: 4.02s\tremaining: 3m 16s\n",
      "2:\ttest: 0.6690182\tbest: 0.6690182 (2)\ttotal: 5.77s\tremaining: 3m 6s\n",
      "3:\ttest: 0.6708251\tbest: 0.6708251 (3)\ttotal: 7.72s\tremaining: 3m 5s\n",
      "4:\ttest: 0.6727077\tbest: 0.6727077 (4)\ttotal: 9.58s\tremaining: 3m 2s\n",
      "5:\ttest: 0.6733653\tbest: 0.6733653 (5)\ttotal: 11.3s\tremaining: 2m 57s\n",
      "6:\ttest: 0.6748614\tbest: 0.6748614 (6)\ttotal: 13.2s\tremaining: 2m 54s\n",
      "7:\ttest: 0.6765814\tbest: 0.6765814 (7)\ttotal: 15s\tremaining: 2m 52s\n",
      "8:\ttest: 0.6774178\tbest: 0.6774178 (8)\ttotal: 16.8s\tremaining: 2m 49s\n",
      "9:\ttest: 0.6783510\tbest: 0.6783510 (9)\ttotal: 18.6s\tremaining: 2m 47s\n",
      "10:\ttest: 0.6788988\tbest: 0.6788988 (10)\ttotal: 20.4s\tremaining: 2m 44s\n",
      "11:\ttest: 0.6800681\tbest: 0.6800681 (11)\ttotal: 22.2s\tremaining: 2m 42s\n",
      "12:\ttest: 0.6805728\tbest: 0.6805728 (12)\ttotal: 24s\tremaining: 2m 40s\n",
      "13:\ttest: 0.6810216\tbest: 0.6810216 (13)\ttotal: 25.7s\tremaining: 2m 38s\n",
      "14:\ttest: 0.6820683\tbest: 0.6820683 (14)\ttotal: 27.5s\tremaining: 2m 35s\n",
      "15:\ttest: 0.6825370\tbest: 0.6825370 (15)\ttotal: 29.2s\tremaining: 2m 33s\n",
      "16:\ttest: 0.6829034\tbest: 0.6829034 (16)\ttotal: 31s\tremaining: 2m 31s\n",
      "17:\ttest: 0.6835912\tbest: 0.6835912 (17)\ttotal: 32.7s\tremaining: 2m 29s\n",
      "18:\ttest: 0.6839919\tbest: 0.6839919 (18)\ttotal: 34.5s\tremaining: 2m 27s\n",
      "19:\ttest: 0.6846228\tbest: 0.6846228 (19)\ttotal: 36.3s\tremaining: 2m 25s\n",
      "20:\ttest: 0.6852458\tbest: 0.6852458 (20)\ttotal: 38.1s\tremaining: 2m 23s\n",
      "21:\ttest: 0.6858204\tbest: 0.6858204 (21)\ttotal: 40.1s\tremaining: 2m 22s\n",
      "22:\ttest: 0.6867453\tbest: 0.6867453 (22)\ttotal: 42s\tremaining: 2m 20s\n",
      "23:\ttest: 0.6871181\tbest: 0.6871181 (23)\ttotal: 43.9s\tremaining: 2m 18s\n",
      "24:\ttest: 0.6876215\tbest: 0.6876215 (24)\ttotal: 45.8s\tremaining: 2m 17s\n",
      "25:\ttest: 0.6878845\tbest: 0.6878845 (25)\ttotal: 47.6s\tremaining: 2m 15s\n",
      "26:\ttest: 0.6884862\tbest: 0.6884862 (26)\ttotal: 49.3s\tremaining: 2m 13s\n",
      "27:\ttest: 0.6886873\tbest: 0.6886873 (27)\ttotal: 51.2s\tremaining: 2m 11s\n"
     ]
    },
    {
     "name": "stdout",
     "output_type": "stream",
     "text": [
      "28:\ttest: 0.6891059\tbest: 0.6891059 (28)\ttotal: 53.1s\tremaining: 2m 10s\n",
      "29:\ttest: 0.6894214\tbest: 0.6894214 (29)\ttotal: 55.1s\tremaining: 2m 8s\n",
      "30:\ttest: 0.6897022\tbest: 0.6897022 (30)\ttotal: 56.8s\tremaining: 2m 6s\n",
      "31:\ttest: 0.6899689\tbest: 0.6899689 (31)\ttotal: 58.5s\tremaining: 2m 4s\n",
      "32:\ttest: 0.6902025\tbest: 0.6902025 (32)\ttotal: 1m\tremaining: 2m 2s\n",
      "33:\ttest: 0.6905547\tbest: 0.6905547 (33)\ttotal: 1m 2s\tremaining: 2m\n",
      "34:\ttest: 0.6908403\tbest: 0.6908403 (34)\ttotal: 1m 3s\tremaining: 1m 58s\n",
      "35:\ttest: 0.6920371\tbest: 0.6920371 (35)\ttotal: 1m 5s\tremaining: 1m 56s\n",
      "36:\ttest: 0.6922510\tbest: 0.6922510 (36)\ttotal: 1m 7s\tremaining: 1m 54s\n",
      "37:\ttest: 0.6925717\tbest: 0.6925717 (37)\ttotal: 1m 9s\tremaining: 1m 53s\n",
      "38:\ttest: 0.6933850\tbest: 0.6933850 (38)\ttotal: 1m 11s\tremaining: 1m 51s\n",
      "39:\ttest: 0.6938007\tbest: 0.6938007 (39)\ttotal: 1m 12s\tremaining: 1m 49s\n",
      "40:\ttest: 0.6946762\tbest: 0.6946762 (40)\ttotal: 1m 14s\tremaining: 1m 47s\n",
      "41:\ttest: 0.6948805\tbest: 0.6948805 (41)\ttotal: 1m 16s\tremaining: 1m 45s\n",
      "42:\ttest: 0.6956840\tbest: 0.6956840 (42)\ttotal: 1m 18s\tremaining: 1m 43s\n",
      "43:\ttest: 0.6961742\tbest: 0.6961742 (43)\ttotal: 1m 19s\tremaining: 1m 41s\n",
      "44:\ttest: 0.6963125\tbest: 0.6963125 (44)\ttotal: 1m 21s\tremaining: 1m 39s\n",
      "45:\ttest: 0.6966777\tbest: 0.6966777 (45)\ttotal: 1m 23s\tremaining: 1m 37s\n",
      "46:\ttest: 0.6971050\tbest: 0.6971050 (46)\ttotal: 1m 25s\tremaining: 1m 35s\n",
      "47:\ttest: 0.6973416\tbest: 0.6973416 (47)\ttotal: 1m 26s\tremaining: 1m 34s\n",
      "48:\ttest: 0.6976293\tbest: 0.6976293 (48)\ttotal: 1m 28s\tremaining: 1m 32s\n",
      "49:\ttest: 0.6980353\tbest: 0.6980353 (49)\ttotal: 1m 30s\tremaining: 1m 30s\n",
      "50:\ttest: 0.6982949\tbest: 0.6982949 (50)\ttotal: 1m 32s\tremaining: 1m 28s\n",
      "51:\ttest: 0.6984557\tbest: 0.6984557 (51)\ttotal: 1m 34s\tremaining: 1m 26s\n",
      "52:\ttest: 0.6989497\tbest: 0.6989497 (52)\ttotal: 1m 36s\tremaining: 1m 25s\n",
      "53:\ttest: 0.6992374\tbest: 0.6992374 (53)\ttotal: 1m 37s\tremaining: 1m 23s\n",
      "54:\ttest: 0.6996633\tbest: 0.6996633 (54)\ttotal: 1m 39s\tremaining: 1m 21s\n",
      "55:\ttest: 0.6999867\tbest: 0.6999867 (55)\ttotal: 1m 41s\tremaining: 1m 19s\n",
      "56:\ttest: 0.7004273\tbest: 0.7004273 (56)\ttotal: 1m 43s\tremaining: 1m 17s\n",
      "57:\ttest: 0.7010560\tbest: 0.7010560 (57)\ttotal: 1m 45s\tremaining: 1m 16s\n",
      "58:\ttest: 0.7012372\tbest: 0.7012372 (58)\ttotal: 1m 46s\tremaining: 1m 14s\n",
      "59:\ttest: 0.7014742\tbest: 0.7014742 (59)\ttotal: 1m 48s\tremaining: 1m 12s\n",
      "60:\ttest: 0.7017139\tbest: 0.7017139 (60)\ttotal: 1m 50s\tremaining: 1m 10s\n",
      "61:\ttest: 0.7020878\tbest: 0.7020878 (61)\ttotal: 1m 52s\tremaining: 1m 8s\n",
      "62:\ttest: 0.7023453\tbest: 0.7023453 (62)\ttotal: 1m 53s\tremaining: 1m 6s\n",
      "63:\ttest: 0.7026869\tbest: 0.7026869 (63)\ttotal: 1m 55s\tremaining: 1m 4s\n",
      "64:\ttest: 0.7030850\tbest: 0.7030850 (64)\ttotal: 1m 57s\tremaining: 1m 3s\n",
      "65:\ttest: 0.7031989\tbest: 0.7031989 (65)\ttotal: 1m 59s\tremaining: 1m 1s\n",
      "66:\ttest: 0.7036084\tbest: 0.7036084 (66)\ttotal: 2m\tremaining: 59.5s\n",
      "67:\ttest: 0.7040911\tbest: 0.7040911 (67)\ttotal: 2m 2s\tremaining: 57.7s\n",
      "68:\ttest: 0.7043721\tbest: 0.7043721 (68)\ttotal: 2m 4s\tremaining: 55.8s\n",
      "69:\ttest: 0.7047130\tbest: 0.7047130 (69)\ttotal: 2m 6s\tremaining: 54s\n",
      "70:\ttest: 0.7048896\tbest: 0.7048896 (70)\ttotal: 2m 7s\tremaining: 52.2s\n",
      "71:\ttest: 0.7052159\tbest: 0.7052159 (71)\ttotal: 2m 9s\tremaining: 50.4s\n",
      "72:\ttest: 0.7056112\tbest: 0.7056112 (72)\ttotal: 2m 11s\tremaining: 48.6s\n",
      "73:\ttest: 0.7058231\tbest: 0.7058231 (73)\ttotal: 2m 13s\tremaining: 46.8s\n",
      "74:\ttest: 0.7059136\tbest: 0.7059136 (74)\ttotal: 2m 14s\tremaining: 45s\n",
      "75:\ttest: 0.7064340\tbest: 0.7064340 (75)\ttotal: 2m 16s\tremaining: 43.1s\n",
      "76:\ttest: 0.7066958\tbest: 0.7066958 (76)\ttotal: 2m 18s\tremaining: 41.3s\n",
      "77:\ttest: 0.7069512\tbest: 0.7069512 (77)\ttotal: 2m 20s\tremaining: 39.6s\n",
      "78:\ttest: 0.7071152\tbest: 0.7071152 (78)\ttotal: 2m 22s\tremaining: 37.8s\n",
      "79:\ttest: 0.7073957\tbest: 0.7073957 (79)\ttotal: 2m 23s\tremaining: 36s\n",
      "80:\ttest: 0.7076079\tbest: 0.7076079 (80)\ttotal: 2m 25s\tremaining: 34.2s\n",
      "81:\ttest: 0.7077931\tbest: 0.7077931 (81)\ttotal: 2m 27s\tremaining: 32.4s\n",
      "82:\ttest: 0.7079143\tbest: 0.7079143 (82)\ttotal: 2m 29s\tremaining: 30.6s\n",
      "83:\ttest: 0.7080497\tbest: 0.7080497 (83)\ttotal: 2m 31s\tremaining: 28.8s\n",
      "84:\ttest: 0.7081996\tbest: 0.7081996 (84)\ttotal: 2m 33s\tremaining: 27s\n",
      "85:\ttest: 0.7085161\tbest: 0.7085161 (85)\ttotal: 2m 35s\tremaining: 25.2s\n",
      "86:\ttest: 0.7086231\tbest: 0.7086231 (86)\ttotal: 2m 36s\tremaining: 23.4s\n",
      "87:\ttest: 0.7090444\tbest: 0.7090444 (87)\ttotal: 2m 38s\tremaining: 21.6s\n",
      "88:\ttest: 0.7093854\tbest: 0.7093854 (88)\ttotal: 2m 40s\tremaining: 19.8s\n",
      "89:\ttest: 0.7096990\tbest: 0.7096990 (89)\ttotal: 2m 42s\tremaining: 18s\n",
      "90:\ttest: 0.7098978\tbest: 0.7098978 (90)\ttotal: 2m 44s\tremaining: 16.2s\n",
      "91:\ttest: 0.7100734\tbest: 0.7100734 (91)\ttotal: 2m 46s\tremaining: 14.4s\n",
      "92:\ttest: 0.7102585\tbest: 0.7102585 (92)\ttotal: 2m 47s\tremaining: 12.6s\n",
      "93:\ttest: 0.7105931\tbest: 0.7105931 (93)\ttotal: 2m 49s\tremaining: 10.8s\n",
      "94:\ttest: 0.7107741\tbest: 0.7107741 (94)\ttotal: 2m 51s\tremaining: 9.03s\n",
      "95:\ttest: 0.7109354\tbest: 0.7109354 (95)\ttotal: 2m 53s\tremaining: 7.22s\n",
      "96:\ttest: 0.7113399\tbest: 0.7113399 (96)\ttotal: 2m 55s\tremaining: 5.41s\n",
      "97:\ttest: 0.7114813\tbest: 0.7114813 (97)\ttotal: 2m 56s\tremaining: 3.61s\n",
      "98:\ttest: 0.7117040\tbest: 0.7117040 (98)\ttotal: 2m 58s\tremaining: 1.8s\n",
      "99:\ttest: 0.7118474\tbest: 0.7118474 (99)\ttotal: 3m\tremaining: 0us\n",
      "\n",
      "bestTest = 0.7118473942\n",
      "bestIteration = 99\n",
      "\n",
      "Taking 3 split as validation set\n",
      "0:\ttest: 0.6659833\tbest: 0.6659833 (0)\ttotal: 2.25s\tremaining: 3m 42s\n",
      "1:\ttest: 0.6682636\tbest: 0.6682636 (1)\ttotal: 4.21s\tremaining: 3m 26s\n",
      "2:\ttest: 0.6702380\tbest: 0.6702380 (2)\ttotal: 6.11s\tremaining: 3m 17s\n",
      "3:\ttest: 0.6709232\tbest: 0.6709232 (3)\ttotal: 7.98s\tremaining: 3m 11s\n",
      "4:\ttest: 0.6735938\tbest: 0.6735938 (4)\ttotal: 10.2s\tremaining: 3m 13s\n",
      "5:\ttest: 0.6746531\tbest: 0.6746531 (5)\ttotal: 12s\tremaining: 3m 7s\n",
      "6:\ttest: 0.6761556\tbest: 0.6761556 (6)\ttotal: 13.8s\tremaining: 3m 3s\n",
      "7:\ttest: 0.6771642\tbest: 0.6771642 (7)\ttotal: 15.5s\tremaining: 2m 58s\n",
      "8:\ttest: 0.6780828\tbest: 0.6780828 (8)\ttotal: 17.3s\tremaining: 2m 54s\n",
      "9:\ttest: 0.6797211\tbest: 0.6797211 (9)\ttotal: 19.2s\tremaining: 2m 52s\n",
      "10:\ttest: 0.6802374\tbest: 0.6802374 (10)\ttotal: 21s\tremaining: 2m 50s\n",
      "11:\ttest: 0.6810472\tbest: 0.6810472 (11)\ttotal: 22.9s\tremaining: 2m 47s\n",
      "12:\ttest: 0.6819194\tbest: 0.6819194 (12)\ttotal: 24.6s\tremaining: 2m 44s\n",
      "13:\ttest: 0.6826523\tbest: 0.6826523 (13)\ttotal: 26.3s\tremaining: 2m 41s\n",
      "14:\ttest: 0.6832903\tbest: 0.6832903 (14)\ttotal: 28s\tremaining: 2m 38s\n",
      "15:\ttest: 0.6836492\tbest: 0.6836492 (15)\ttotal: 29.8s\tremaining: 2m 36s\n",
      "16:\ttest: 0.6844169\tbest: 0.6844169 (16)\ttotal: 31.5s\tremaining: 2m 33s\n",
      "17:\ttest: 0.6848215\tbest: 0.6848215 (17)\ttotal: 33.2s\tremaining: 2m 31s\n",
      "18:\ttest: 0.6851656\tbest: 0.6851656 (18)\ttotal: 35s\tremaining: 2m 29s\n",
      "19:\ttest: 0.6856093\tbest: 0.6856093 (19)\ttotal: 36.8s\tremaining: 2m 27s\n",
      "20:\ttest: 0.6861837\tbest: 0.6861837 (20)\ttotal: 38.5s\tremaining: 2m 24s\n",
      "21:\ttest: 0.6870145\tbest: 0.6870145 (21)\ttotal: 40.2s\tremaining: 2m 22s\n",
      "22:\ttest: 0.6875947\tbest: 0.6875947 (22)\ttotal: 41.9s\tremaining: 2m 20s\n",
      "23:\ttest: 0.6881337\tbest: 0.6881337 (23)\ttotal: 43.6s\tremaining: 2m 18s\n",
      "24:\ttest: 0.6886618\tbest: 0.6886618 (24)\ttotal: 45.3s\tremaining: 2m 15s\n",
      "25:\ttest: 0.6888660\tbest: 0.6888660 (25)\ttotal: 47s\tremaining: 2m 13s\n",
      "26:\ttest: 0.6895112\tbest: 0.6895112 (26)\ttotal: 48.8s\tremaining: 2m 11s\n",
      "27:\ttest: 0.6902472\tbest: 0.6902472 (27)\ttotal: 50.7s\tremaining: 2m 10s\n",
      "28:\ttest: 0.6905754\tbest: 0.6905754 (28)\ttotal: 52.8s\tremaining: 2m 9s\n",
      "29:\ttest: 0.6909772\tbest: 0.6909772 (29)\ttotal: 54.7s\tremaining: 2m 7s\n",
      "30:\ttest: 0.6912501\tbest: 0.6912501 (30)\ttotal: 56.6s\tremaining: 2m 6s\n",
      "31:\ttest: 0.6916020\tbest: 0.6916020 (31)\ttotal: 58.3s\tremaining: 2m 3s\n",
      "32:\ttest: 0.6922324\tbest: 0.6922324 (32)\ttotal: 1m\tremaining: 2m 1s\n",
      "33:\ttest: 0.6930519\tbest: 0.6930519 (33)\ttotal: 1m 2s\tremaining: 2m\n",
      "34:\ttest: 0.6933404\tbest: 0.6933404 (34)\ttotal: 1m 3s\tremaining: 1m 58s\n",
      "35:\ttest: 0.6935853\tbest: 0.6935853 (35)\ttotal: 1m 5s\tremaining: 1m 56s\n",
      "36:\ttest: 0.6938091\tbest: 0.6938091 (36)\ttotal: 1m 7s\tremaining: 1m 54s\n",
      "37:\ttest: 0.6944491\tbest: 0.6944491 (37)\ttotal: 1m 9s\tremaining: 1m 53s\n",
      "38:\ttest: 0.6954761\tbest: 0.6954761 (38)\ttotal: 1m 11s\tremaining: 1m 51s\n",
      "39:\ttest: 0.6957072\tbest: 0.6957072 (39)\ttotal: 1m 12s\tremaining: 1m 49s\n",
      "40:\ttest: 0.6958771\tbest: 0.6958771 (40)\ttotal: 1m 14s\tremaining: 1m 47s\n",
      "41:\ttest: 0.6962621\tbest: 0.6962621 (41)\ttotal: 1m 16s\tremaining: 1m 45s\n"
     ]
    },
    {
     "name": "stdout",
     "output_type": "stream",
     "text": [
      "42:\ttest: 0.6968462\tbest: 0.6968462 (42)\ttotal: 1m 18s\tremaining: 1m 43s\n",
      "43:\ttest: 0.6971029\tbest: 0.6971029 (43)\ttotal: 1m 20s\tremaining: 1m 42s\n",
      "44:\ttest: 0.6973515\tbest: 0.6973515 (44)\ttotal: 1m 22s\tremaining: 1m 40s\n",
      "45:\ttest: 0.6976882\tbest: 0.6976882 (45)\ttotal: 1m 23s\tremaining: 1m 38s\n",
      "46:\ttest: 0.6980065\tbest: 0.6980065 (46)\ttotal: 1m 25s\tremaining: 1m 36s\n",
      "47:\ttest: 0.6984888\tbest: 0.6984888 (47)\ttotal: 1m 27s\tremaining: 1m 34s\n",
      "48:\ttest: 0.6989171\tbest: 0.6989171 (48)\ttotal: 1m 29s\tremaining: 1m 32s\n",
      "49:\ttest: 0.6992682\tbest: 0.6992682 (49)\ttotal: 1m 31s\tremaining: 1m 31s\n",
      "50:\ttest: 0.7000025\tbest: 0.7000025 (50)\ttotal: 1m 32s\tremaining: 1m 29s\n",
      "51:\ttest: 0.7001707\tbest: 0.7001707 (51)\ttotal: 1m 34s\tremaining: 1m 27s\n",
      "52:\ttest: 0.7006374\tbest: 0.7006374 (52)\ttotal: 1m 36s\tremaining: 1m 25s\n",
      "53:\ttest: 0.7011087\tbest: 0.7011087 (53)\ttotal: 1m 38s\tremaining: 1m 23s\n",
      "54:\ttest: 0.7012756\tbest: 0.7012756 (54)\ttotal: 1m 39s\tremaining: 1m 21s\n",
      "55:\ttest: 0.7018964\tbest: 0.7018964 (55)\ttotal: 1m 41s\tremaining: 1m 19s\n",
      "56:\ttest: 0.7021179\tbest: 0.7021179 (56)\ttotal: 1m 43s\tremaining: 1m 18s\n",
      "57:\ttest: 0.7024316\tbest: 0.7024316 (57)\ttotal: 1m 45s\tremaining: 1m 16s\n",
      "58:\ttest: 0.7027334\tbest: 0.7027334 (58)\ttotal: 1m 47s\tremaining: 1m 14s\n",
      "59:\ttest: 0.7033773\tbest: 0.7033773 (59)\ttotal: 1m 48s\tremaining: 1m 12s\n",
      "60:\ttest: 0.7036427\tbest: 0.7036427 (60)\ttotal: 1m 50s\tremaining: 1m 10s\n",
      "61:\ttest: 0.7038015\tbest: 0.7038015 (61)\ttotal: 1m 52s\tremaining: 1m 9s\n",
      "62:\ttest: 0.7040033\tbest: 0.7040033 (62)\ttotal: 1m 54s\tremaining: 1m 7s\n",
      "63:\ttest: 0.7042660\tbest: 0.7042660 (63)\ttotal: 1m 56s\tremaining: 1m 5s\n",
      "64:\ttest: 0.7045196\tbest: 0.7045196 (64)\ttotal: 1m 58s\tremaining: 1m 3s\n",
      "65:\ttest: 0.7047254\tbest: 0.7047254 (65)\ttotal: 1m 59s\tremaining: 1m 1s\n",
      "66:\ttest: 0.7048997\tbest: 0.7048997 (66)\ttotal: 2m 1s\tremaining: 59.9s\n",
      "67:\ttest: 0.7052910\tbest: 0.7052910 (67)\ttotal: 2m 3s\tremaining: 58.1s\n",
      "68:\ttest: 0.7057383\tbest: 0.7057383 (68)\ttotal: 2m 5s\tremaining: 56.3s\n",
      "69:\ttest: 0.7058760\tbest: 0.7058760 (69)\ttotal: 2m 6s\tremaining: 54.4s\n",
      "70:\ttest: 0.7059756\tbest: 0.7059756 (70)\ttotal: 2m 8s\tremaining: 52.6s\n",
      "71:\ttest: 0.7061386\tbest: 0.7061386 (71)\ttotal: 2m 10s\tremaining: 50.7s\n",
      "72:\ttest: 0.7063642\tbest: 0.7063642 (72)\ttotal: 2m 12s\tremaining: 48.9s\n",
      "73:\ttest: 0.7065147\tbest: 0.7065147 (73)\ttotal: 2m 13s\tremaining: 47.1s\n",
      "74:\ttest: 0.7067171\tbest: 0.7067171 (74)\ttotal: 2m 15s\tremaining: 45.3s\n",
      "75:\ttest: 0.7070628\tbest: 0.7070628 (75)\ttotal: 2m 17s\tremaining: 43.4s\n",
      "76:\ttest: 0.7071774\tbest: 0.7071774 (76)\ttotal: 2m 19s\tremaining: 41.6s\n",
      "77:\ttest: 0.7074181\tbest: 0.7074181 (77)\ttotal: 2m 21s\tremaining: 39.8s\n",
      "78:\ttest: 0.7075189\tbest: 0.7075189 (78)\ttotal: 2m 22s\tremaining: 38s\n",
      "79:\ttest: 0.7076808\tbest: 0.7076808 (79)\ttotal: 2m 24s\tremaining: 36.2s\n",
      "80:\ttest: 0.7081706\tbest: 0.7081706 (80)\ttotal: 2m 26s\tremaining: 34.3s\n",
      "81:\ttest: 0.7087147\tbest: 0.7087147 (81)\ttotal: 2m 28s\tremaining: 32.5s\n",
      "82:\ttest: 0.7088830\tbest: 0.7088830 (82)\ttotal: 2m 29s\tremaining: 30.7s\n",
      "83:\ttest: 0.7091405\tbest: 0.7091405 (83)\ttotal: 2m 31s\tremaining: 28.9s\n",
      "84:\ttest: 0.7094172\tbest: 0.7094172 (84)\ttotal: 2m 33s\tremaining: 27.1s\n",
      "85:\ttest: 0.7096319\tbest: 0.7096319 (85)\ttotal: 2m 35s\tremaining: 25.3s\n",
      "86:\ttest: 0.7101138\tbest: 0.7101138 (86)\ttotal: 2m 37s\tremaining: 23.5s\n",
      "87:\ttest: 0.7102626\tbest: 0.7102626 (87)\ttotal: 2m 38s\tremaining: 21.7s\n",
      "88:\ttest: 0.7105674\tbest: 0.7105674 (88)\ttotal: 2m 40s\tremaining: 19.9s\n",
      "89:\ttest: 0.7106960\tbest: 0.7106960 (89)\ttotal: 2m 42s\tremaining: 18s\n",
      "90:\ttest: 0.7109329\tbest: 0.7109329 (90)\ttotal: 2m 44s\tremaining: 16.2s\n",
      "91:\ttest: 0.7110863\tbest: 0.7110863 (91)\ttotal: 2m 45s\tremaining: 14.4s\n",
      "92:\ttest: 0.7111606\tbest: 0.7111606 (92)\ttotal: 2m 47s\tremaining: 12.6s\n",
      "93:\ttest: 0.7113931\tbest: 0.7113931 (93)\ttotal: 2m 49s\tremaining: 10.8s\n",
      "94:\ttest: 0.7115167\tbest: 0.7115167 (94)\ttotal: 2m 51s\tremaining: 9s\n",
      "95:\ttest: 0.7119836\tbest: 0.7119836 (95)\ttotal: 2m 52s\tremaining: 7.21s\n",
      "96:\ttest: 0.7122424\tbest: 0.7122424 (96)\ttotal: 2m 55s\tremaining: 5.41s\n",
      "97:\ttest: 0.7124168\tbest: 0.7124168 (97)\ttotal: 2m 56s\tremaining: 3.61s\n",
      "98:\ttest: 0.7126552\tbest: 0.7126552 (98)\ttotal: 2m 58s\tremaining: 1.8s\n",
      "99:\ttest: 0.7129457\tbest: 0.7129457 (99)\ttotal: 3m\tremaining: 0us\n",
      "\n",
      "bestTest = 0.7129456918\n",
      "bestIteration = 99\n",
      "\n",
      "Taking 4 split as validation set\n",
      "0:\ttest: 0.6661931\tbest: 0.6661931 (0)\ttotal: 2.02s\tremaining: 3m 19s\n",
      "1:\ttest: 0.6692097\tbest: 0.6692097 (1)\ttotal: 3.91s\tremaining: 3m 11s\n",
      "2:\ttest: 0.6703576\tbest: 0.6703576 (2)\ttotal: 5.69s\tremaining: 3m 4s\n",
      "3:\ttest: 0.6713350\tbest: 0.6713350 (3)\ttotal: 7.45s\tremaining: 2m 58s\n",
      "4:\ttest: 0.6739648\tbest: 0.6739648 (4)\ttotal: 9.47s\tremaining: 2m 59s\n",
      "5:\ttest: 0.6748489\tbest: 0.6748489 (5)\ttotal: 11.3s\tremaining: 2m 57s\n",
      "6:\ttest: 0.6764406\tbest: 0.6764406 (6)\ttotal: 13.1s\tremaining: 2m 54s\n",
      "7:\ttest: 0.6770625\tbest: 0.6770625 (7)\ttotal: 14.9s\tremaining: 2m 51s\n",
      "8:\ttest: 0.6785371\tbest: 0.6785371 (8)\ttotal: 16.8s\tremaining: 2m 49s\n",
      "9:\ttest: 0.6793855\tbest: 0.6793855 (9)\ttotal: 18.6s\tremaining: 2m 47s\n",
      "10:\ttest: 0.6798632\tbest: 0.6798632 (10)\ttotal: 20.3s\tremaining: 2m 44s\n",
      "11:\ttest: 0.6811561\tbest: 0.6811561 (11)\ttotal: 22.1s\tremaining: 2m 42s\n",
      "12:\ttest: 0.6819507\tbest: 0.6819507 (12)\ttotal: 23.8s\tremaining: 2m 39s\n",
      "13:\ttest: 0.6832079\tbest: 0.6832079 (13)\ttotal: 25.5s\tremaining: 2m 36s\n",
      "14:\ttest: 0.6837342\tbest: 0.6837342 (14)\ttotal: 27.4s\tremaining: 2m 35s\n",
      "15:\ttest: 0.6841800\tbest: 0.6841800 (15)\ttotal: 29.2s\tremaining: 2m 33s\n",
      "16:\ttest: 0.6848868\tbest: 0.6848868 (16)\ttotal: 31.1s\tremaining: 2m 31s\n",
      "17:\ttest: 0.6856297\tbest: 0.6856297 (17)\ttotal: 32.9s\tremaining: 2m 29s\n",
      "18:\ttest: 0.6862721\tbest: 0.6862721 (18)\ttotal: 34.8s\tremaining: 2m 28s\n",
      "19:\ttest: 0.6867606\tbest: 0.6867606 (19)\ttotal: 36.5s\tremaining: 2m 26s\n",
      "20:\ttest: 0.6870540\tbest: 0.6870540 (20)\ttotal: 38.2s\tremaining: 2m 23s\n",
      "21:\ttest: 0.6872714\tbest: 0.6872714 (21)\ttotal: 40.1s\tremaining: 2m 22s\n",
      "22:\ttest: 0.6878856\tbest: 0.6878856 (22)\ttotal: 41.9s\tremaining: 2m 20s\n",
      "23:\ttest: 0.6885582\tbest: 0.6885582 (23)\ttotal: 43.7s\tremaining: 2m 18s\n",
      "24:\ttest: 0.6890137\tbest: 0.6890137 (24)\ttotal: 45.6s\tremaining: 2m 16s\n",
      "25:\ttest: 0.6897466\tbest: 0.6897466 (25)\ttotal: 47.5s\tremaining: 2m 15s\n",
      "26:\ttest: 0.6903983\tbest: 0.6903983 (26)\ttotal: 49.3s\tremaining: 2m 13s\n",
      "27:\ttest: 0.6908488\tbest: 0.6908488 (27)\ttotal: 51.1s\tremaining: 2m 11s\n",
      "28:\ttest: 0.6916647\tbest: 0.6916647 (28)\ttotal: 52.9s\tremaining: 2m 9s\n",
      "29:\ttest: 0.6918520\tbest: 0.6918520 (29)\ttotal: 54.6s\tremaining: 2m 7s\n",
      "30:\ttest: 0.6921061\tbest: 0.6921061 (30)\ttotal: 56.5s\tremaining: 2m 5s\n",
      "31:\ttest: 0.6923782\tbest: 0.6923782 (31)\ttotal: 58.3s\tremaining: 2m 3s\n",
      "32:\ttest: 0.6927535\tbest: 0.6927535 (32)\ttotal: 1m\tremaining: 2m 1s\n",
      "33:\ttest: 0.6931677\tbest: 0.6931677 (33)\ttotal: 1m 1s\tremaining: 1m 59s\n",
      "34:\ttest: 0.6936135\tbest: 0.6936135 (34)\ttotal: 1m 3s\tremaining: 1m 57s\n",
      "35:\ttest: 0.6940578\tbest: 0.6940578 (35)\ttotal: 1m 5s\tremaining: 1m 56s\n",
      "36:\ttest: 0.6943078\tbest: 0.6943078 (36)\ttotal: 1m 6s\tremaining: 1m 54s\n",
      "37:\ttest: 0.6951542\tbest: 0.6951542 (37)\ttotal: 1m 8s\tremaining: 1m 52s\n",
      "38:\ttest: 0.6955036\tbest: 0.6955036 (38)\ttotal: 1m 10s\tremaining: 1m 50s\n",
      "39:\ttest: 0.6960155\tbest: 0.6960155 (39)\ttotal: 1m 12s\tremaining: 1m 48s\n",
      "40:\ttest: 0.6963998\tbest: 0.6963998 (40)\ttotal: 1m 13s\tremaining: 1m 46s\n",
      "41:\ttest: 0.6970929\tbest: 0.6970929 (41)\ttotal: 1m 15s\tremaining: 1m 44s\n",
      "42:\ttest: 0.6975484\tbest: 0.6975484 (42)\ttotal: 1m 17s\tremaining: 1m 42s\n",
      "43:\ttest: 0.6977681\tbest: 0.6977681 (43)\ttotal: 1m 19s\tremaining: 1m 40s\n",
      "44:\ttest: 0.6981375\tbest: 0.6981375 (44)\ttotal: 1m 21s\tremaining: 1m 39s\n",
      "45:\ttest: 0.6985381\tbest: 0.6985381 (45)\ttotal: 1m 22s\tremaining: 1m 37s\n",
      "46:\ttest: 0.6989423\tbest: 0.6989423 (46)\ttotal: 1m 24s\tremaining: 1m 35s\n",
      "47:\ttest: 0.6991901\tbest: 0.6991901 (47)\ttotal: 1m 26s\tremaining: 1m 33s\n",
      "48:\ttest: 0.6993755\tbest: 0.6993755 (48)\ttotal: 1m 28s\tremaining: 1m 31s\n",
      "49:\ttest: 0.7000996\tbest: 0.7000996 (49)\ttotal: 1m 29s\tremaining: 1m 29s\n",
      "50:\ttest: 0.7002510\tbest: 0.7002510 (50)\ttotal: 1m 31s\tremaining: 1m 27s\n",
      "51:\ttest: 0.7006978\tbest: 0.7006978 (51)\ttotal: 1m 33s\tremaining: 1m 26s\n",
      "52:\ttest: 0.7013786\tbest: 0.7013786 (52)\ttotal: 1m 35s\tremaining: 1m 24s\n",
      "53:\ttest: 0.7016711\tbest: 0.7016711 (53)\ttotal: 1m 36s\tremaining: 1m 22s\n",
      "54:\ttest: 0.7021065\tbest: 0.7021065 (54)\ttotal: 1m 38s\tremaining: 1m 20s\n"
     ]
    },
    {
     "name": "stdout",
     "output_type": "stream",
     "text": [
      "55:\ttest: 0.7023929\tbest: 0.7023929 (55)\ttotal: 1m 40s\tremaining: 1m 18s\n",
      "56:\ttest: 0.7026264\tbest: 0.7026264 (56)\ttotal: 1m 42s\tremaining: 1m 17s\n",
      "57:\ttest: 0.7028811\tbest: 0.7028811 (57)\ttotal: 1m 44s\tremaining: 1m 15s\n",
      "58:\ttest: 0.7031813\tbest: 0.7031813 (58)\ttotal: 1m 46s\tremaining: 1m 13s\n",
      "59:\ttest: 0.7034585\tbest: 0.7034585 (59)\ttotal: 1m 47s\tremaining: 1m 11s\n",
      "60:\ttest: 0.7036274\tbest: 0.7036274 (60)\ttotal: 1m 49s\tremaining: 1m 10s\n",
      "61:\ttest: 0.7039758\tbest: 0.7039758 (61)\ttotal: 1m 51s\tremaining: 1m 8s\n",
      "62:\ttest: 0.7043718\tbest: 0.7043718 (62)\ttotal: 1m 53s\tremaining: 1m 6s\n",
      "63:\ttest: 0.7049332\tbest: 0.7049332 (63)\ttotal: 1m 54s\tremaining: 1m 4s\n",
      "64:\ttest: 0.7051339\tbest: 0.7051339 (64)\ttotal: 1m 56s\tremaining: 1m 2s\n",
      "65:\ttest: 0.7055060\tbest: 0.7055060 (65)\ttotal: 1m 58s\tremaining: 1m\n",
      "66:\ttest: 0.7057616\tbest: 0.7057616 (66)\ttotal: 2m\tremaining: 59.1s\n",
      "67:\ttest: 0.7059095\tbest: 0.7059095 (67)\ttotal: 2m 1s\tremaining: 57.3s\n",
      "68:\ttest: 0.7060523\tbest: 0.7060523 (68)\ttotal: 2m 3s\tremaining: 55.5s\n",
      "69:\ttest: 0.7062744\tbest: 0.7062744 (69)\ttotal: 2m 5s\tremaining: 53.7s\n",
      "70:\ttest: 0.7064297\tbest: 0.7064297 (70)\ttotal: 2m 7s\tremaining: 51.9s\n",
      "71:\ttest: 0.7066544\tbest: 0.7066544 (71)\ttotal: 2m 8s\tremaining: 50.1s\n",
      "72:\ttest: 0.7068368\tbest: 0.7068368 (72)\ttotal: 2m 10s\tremaining: 48.3s\n",
      "73:\ttest: 0.7071029\tbest: 0.7071029 (73)\ttotal: 2m 12s\tremaining: 46.5s\n",
      "74:\ttest: 0.7073917\tbest: 0.7073917 (74)\ttotal: 2m 14s\tremaining: 44.7s\n",
      "75:\ttest: 0.7075789\tbest: 0.7075789 (75)\ttotal: 2m 15s\tremaining: 42.9s\n",
      "76:\ttest: 0.7077392\tbest: 0.7077392 (76)\ttotal: 2m 17s\tremaining: 41.1s\n",
      "77:\ttest: 0.7078085\tbest: 0.7078085 (77)\ttotal: 2m 19s\tremaining: 39.3s\n",
      "78:\ttest: 0.7080290\tbest: 0.7080290 (78)\ttotal: 2m 20s\tremaining: 37.5s\n",
      "79:\ttest: 0.7082501\tbest: 0.7082501 (79)\ttotal: 2m 22s\tremaining: 35.7s\n",
      "80:\ttest: 0.7085225\tbest: 0.7085225 (80)\ttotal: 2m 24s\tremaining: 33.9s\n",
      "81:\ttest: 0.7086336\tbest: 0.7086336 (81)\ttotal: 2m 26s\tremaining: 32.1s\n",
      "82:\ttest: 0.7088178\tbest: 0.7088178 (82)\ttotal: 2m 27s\tremaining: 30.3s\n",
      "83:\ttest: 0.7089565\tbest: 0.7089565 (83)\ttotal: 2m 29s\tremaining: 28.5s\n",
      "84:\ttest: 0.7091324\tbest: 0.7091324 (84)\ttotal: 2m 31s\tremaining: 26.7s\n",
      "85:\ttest: 0.7092704\tbest: 0.7092704 (85)\ttotal: 2m 33s\tremaining: 24.9s\n",
      "86:\ttest: 0.7093718\tbest: 0.7093718 (86)\ttotal: 2m 34s\tremaining: 23.1s\n",
      "87:\ttest: 0.7097047\tbest: 0.7097047 (87)\ttotal: 2m 36s\tremaining: 21.3s\n",
      "88:\ttest: 0.7099515\tbest: 0.7099515 (88)\ttotal: 2m 38s\tremaining: 19.5s\n",
      "89:\ttest: 0.7104047\tbest: 0.7104047 (89)\ttotal: 2m 39s\tremaining: 17.8s\n",
      "90:\ttest: 0.7105684\tbest: 0.7105684 (90)\ttotal: 2m 41s\tremaining: 16s\n",
      "91:\ttest: 0.7110666\tbest: 0.7110666 (91)\ttotal: 2m 43s\tremaining: 14.2s\n",
      "92:\ttest: 0.7111440\tbest: 0.7111440 (92)\ttotal: 2m 45s\tremaining: 12.4s\n",
      "93:\ttest: 0.7114657\tbest: 0.7114657 (93)\ttotal: 2m 46s\tremaining: 10.7s\n",
      "94:\ttest: 0.7115802\tbest: 0.7115802 (94)\ttotal: 2m 48s\tremaining: 8.88s\n",
      "95:\ttest: 0.7118213\tbest: 0.7118213 (95)\ttotal: 2m 50s\tremaining: 7.1s\n",
      "96:\ttest: 0.7122926\tbest: 0.7122926 (96)\ttotal: 2m 52s\tremaining: 5.33s\n",
      "97:\ttest: 0.7124727\tbest: 0.7124727 (97)\ttotal: 2m 53s\tremaining: 3.55s\n",
      "98:\ttest: 0.7126862\tbest: 0.7126862 (98)\ttotal: 2m 55s\tremaining: 1.77s\n",
      "99:\ttest: 0.7130935\tbest: 0.7130935 (99)\ttotal: 2m 57s\tremaining: 0us\n",
      "\n",
      "bestTest = 0.7130935001\n",
      "bestIteration = 99\n",
      "\n"
     ]
    }
   ],
   "source": [
    "fold_metrics= cross_validation(X, y, K_FOLDS)"
   ]
  },
  {
   "cell_type": "code",
   "execution_count": 50,
   "id": "potential-organ",
   "metadata": {},
   "outputs": [
    {
     "name": "stdout",
     "output_type": "stream",
     "text": [
      "Mean roc-auc across 5 folds: 0.712459421139585\n"
     ]
    }
   ],
   "source": [
    "print(f\"Mean roc-auc across {K_FOLDS} folds: {np.mean(fold_metrics)}\")"
   ]
  },
  {
   "cell_type": "markdown",
   "id": "corporate-authority",
   "metadata": {},
   "source": [
    "# Задача 2: \n",
    "Пользуясь информацией о треках построить неклассические эмбеддинги и попробовать использовать их:\n",
    "\n",
    "<ol>\n",
    "    <li>показать симилары глазами</li>\n",
    "    <li>в качестве рекоммендера вместо GBDT (разницу в метриках)</li> \n",
    "    <li>стек с GBDT (прирост / отсутствие / почему /, SHAP values)</li>\n",
    "</ol>"
   ]
  },
  {
   "cell_type": "code",
   "execution_count": 49,
   "id": "persistent-rally",
   "metadata": {},
   "outputs": [],
   "source": [
    "import shap\n",
    "from gensim.models import Word2Vec"
   ]
  },
  {
   "cell_type": "markdown",
   "id": "western-michael",
   "metadata": {},
   "source": [
    "## Неклассические эмбеддинги"
   ]
  },
  {
   "cell_type": "code",
   "execution_count": 50,
   "id": "loaded-circuit",
   "metadata": {},
   "outputs": [],
   "source": [
    "WORD2VEC_EMBED_DIM = 32"
   ]
  },
  {
   "cell_type": "code",
   "execution_count": 51,
   "id": "adequate-reserve",
   "metadata": {},
   "outputs": [],
   "source": [
    "WORD2VEC_PARAMS = {\n",
    "    'model': {\n",
    "        'window': 10,\n",
    "        'vector_size': WORD2VEC_EMBED_DIM,\n",
    "        'sg': 1,\n",
    "        'hs': 0,\n",
    "        'negative': 10,\n",
    "        'alpha': 0.05,\n",
    "        'min_alpha': 0.0001,\n",
    "        'workers': 4,\n",
    "        'seed': GLOBAL_SEED\n",
    "    },\n",
    "    'training': {\n",
    "        'epochs': 5\n",
    "    }\n",
    "}"
   ]
  },
  {
   "cell_type": "code",
   "execution_count": 52,
   "id": "geographic-champion",
   "metadata": {},
   "outputs": [],
   "source": [
    "def get_user_embeddings(w2v, df):\n",
    "    user_embeddings = defaultdict(lambda: np.zeros(WORD2VEC_EMBED_DIM))\n",
    "    user_counts = defaultdict(int)\n",
    "    for user_id, song_id, target in tqdm(\n",
    "        zip(df['msno'], df['song_id'], df['target']), \n",
    "        desc='Building user embeddings'\n",
    "    ):\n",
    "        if target != 1:\n",
    "            continue\n",
    "        if song_id in w2v:\n",
    "            user_embeddings[user_id] += w2v[song_id]\n",
    "            user_counts[user_id] += 1\n",
    "    for user_id in user_embeddings.keys():\n",
    "        user_embeddings[user_id] /= user_counts[user_id]\n",
    "    return user_embeddings"
   ]
  },
  {
   "cell_type": "code",
   "execution_count": 53,
   "id": "published-click",
   "metadata": {},
   "outputs": [],
   "source": [
    "def train_word2vec(df):\n",
    "    sessions = []\n",
    "    for user_ids in tqdm(df.groupby(by=['msno']).groups.values(), desc='Building sessions'):\n",
    "        sessions.append(df['song_id'].iloc[user_ids].tolist())\n",
    "\n",
    "    word2vec = Word2Vec(**WORD2VEC_PARAMS['model'])\n",
    "    print('Bulding vocabulary...')\n",
    "    word2vec.build_vocab(sessions, progress_per=1000)\n",
    "    print('Training word2vec...')\n",
    "    word2vec.train(sessions, total_examples=word2vec.corpus_count, **WORD2VEC_PARAMS['training'])\n",
    "    user_embeddings = get_user_embeddings(word2vec.wv, df)\n",
    "    return user_embeddings, word2vec\n",
    "    "
   ]
  },
  {
   "cell_type": "code",
   "execution_count": 54,
   "id": "narrow-bedroom",
   "metadata": {},
   "outputs": [
    {
     "data": {
      "application/vnd.jupyter.widget-view+json": {
       "model_id": "0be463d31dd44471aa9eea041841d7ae",
       "version_major": 2,
       "version_minor": 0
      },
      "text/plain": [
       "Building sessions:   0%|          | 0/30755 [00:00<?, ?it/s]"
      ]
     },
     "metadata": {},
     "output_type": "display_data"
    },
    {
     "name": "stdout",
     "output_type": "stream",
     "text": [
      "Bulding vocabulary...\n",
      "Training word2vec...\n"
     ]
    },
    {
     "data": {
      "application/vnd.jupyter.widget-view+json": {
       "model_id": "2ce39d5f0f8b4c5cac1549e2866bcffb",
       "version_major": 2,
       "version_minor": 0
      },
      "text/plain": [
       "Building user embeddings: 0it [00:00, ?it/s]"
      ]
     },
     "metadata": {},
     "output_type": "display_data"
    }
   ],
   "source": [
    "user_embeddings, word2vec = train_word2vec(train_df)"
   ]
  },
  {
   "cell_type": "code",
   "execution_count": 55,
   "id": "textile-customs",
   "metadata": {},
   "outputs": [],
   "source": [
    "def get_similars(song_id, topn=10):\n",
    "    song_embedding = word2vec.wv[song_id]\n",
    "    similars = word2vec.wv.similar_by_vector(song_embedding, topn=topn+1)[1:]\n",
    "    return similars"
   ]
  },
  {
   "cell_type": "code",
   "execution_count": 56,
   "id": "simplified-block",
   "metadata": {},
   "outputs": [
    {
     "data": {
      "text/plain": [
       "1.9051757122242177"
      ]
     },
     "execution_count": 56,
     "metadata": {},
     "output_type": "execute_result"
    }
   ],
   "source": [
    "np.linalg.norm(user_embeddings['FGtllVqz18RPiwJj/edr2gV78zirAiY/9SmYvia+kCg='])"
   ]
  },
  {
   "cell_type": "code",
   "execution_count": 57,
   "id": "found-volume",
   "metadata": {},
   "outputs": [],
   "source": [
    "songs_df = pd.read_csv(join(DATA_DIR, 'songs.csv'))"
   ]
  },
  {
   "cell_type": "code",
   "execution_count": 58,
   "id": "premium-click",
   "metadata": {},
   "outputs": [],
   "source": [
    "songs_extra_df = pd.read_csv(join(DATA_DIR, 'song_extra_info.csv'))"
   ]
  },
  {
   "cell_type": "code",
   "execution_count": 59,
   "id": "inclusive-carpet",
   "metadata": {},
   "outputs": [
    {
     "data": {
      "text/plain": [
       "Index(['song_id', 'song_length', 'genre_ids', 'artist_name', 'composer',\n",
       "       'lyricist', 'language'],\n",
       "      dtype='object')"
      ]
     },
     "execution_count": 59,
     "metadata": {},
     "output_type": "execute_result"
    }
   ],
   "source": [
    "songs_df.columns"
   ]
  },
  {
   "cell_type": "code",
   "execution_count": 60,
   "id": "recognized-trainer",
   "metadata": {},
   "outputs": [
    {
     "data": {
      "text/html": [
       "<div>\n",
       "<style scoped>\n",
       "    .dataframe tbody tr th:only-of-type {\n",
       "        vertical-align: middle;\n",
       "    }\n",
       "\n",
       "    .dataframe tbody tr th {\n",
       "        vertical-align: top;\n",
       "    }\n",
       "\n",
       "    .dataframe thead th {\n",
       "        text-align: right;\n",
       "    }\n",
       "</style>\n",
       "<table border=\"1\" class=\"dataframe\">\n",
       "  <thead>\n",
       "    <tr style=\"text-align: right;\">\n",
       "      <th></th>\n",
       "      <th>song_id</th>\n",
       "      <th>song_length</th>\n",
       "      <th>genre_ids</th>\n",
       "      <th>artist_name</th>\n",
       "      <th>composer</th>\n",
       "      <th>lyricist</th>\n",
       "      <th>language</th>\n",
       "    </tr>\n",
       "  </thead>\n",
       "  <tbody>\n",
       "    <tr>\n",
       "      <th>662</th>\n",
       "      <td>HAk0G8u7Yu2ljX4D7YLcA2P6im4MPx5Rb5Q13wdRL8Q=</td>\n",
       "      <td>236100</td>\n",
       "      <td>1259</td>\n",
       "      <td>Kanye West</td>\n",
       "      <td>Kanye West| Andrew Dawson| Noah Goldstein| Mik...</td>\n",
       "      <td>NaN</td>\n",
       "      <td>52.0</td>\n",
       "    </tr>\n",
       "    <tr>\n",
       "      <th>1400</th>\n",
       "      <td>rjHA0Nga+XVFqG05VKykST7Sp8ztJeWa9/GWq9Yc7LI=</td>\n",
       "      <td>332382</td>\n",
       "      <td>1259</td>\n",
       "      <td>Kanye West</td>\n",
       "      <td>Kanye West| Stepan Taft| Sean Anderson| Terren...</td>\n",
       "      <td>NaN</td>\n",
       "      <td>52.0</td>\n",
       "    </tr>\n",
       "    <tr>\n",
       "      <th>2372</th>\n",
       "      <td>1Ut67Cwg3K+x5REruzcUyaDm17T2AgOvJLDvVJMiaBE=</td>\n",
       "      <td>287416</td>\n",
       "      <td>1259</td>\n",
       "      <td>Kanye West</td>\n",
       "      <td>NaN</td>\n",
       "      <td>NaN</td>\n",
       "      <td>52.0</td>\n",
       "    </tr>\n",
       "    <tr>\n",
       "      <th>2439</th>\n",
       "      <td>YLo9cVOVI9YfBJxb77JbYfk0R02Fh2zdZ4PXFWk1E3c=</td>\n",
       "      <td>206936</td>\n",
       "      <td>1259</td>\n",
       "      <td>Kanye West</td>\n",
       "      <td>Kanye West| John Stephens| A. Davis| Faheem Na...</td>\n",
       "      <td>NaN</td>\n",
       "      <td>52.0</td>\n",
       "    </tr>\n",
       "    <tr>\n",
       "      <th>5845</th>\n",
       "      <td>qwhfksZux8hV40qCAsSMJq8t9UKLvZT5n9rkcGTF8Po=</td>\n",
       "      <td>243438</td>\n",
       "      <td>1259</td>\n",
       "      <td>Kanye West</td>\n",
       "      <td>Kanye West| Labi Siffre</td>\n",
       "      <td>NaN</td>\n",
       "      <td>52.0</td>\n",
       "    </tr>\n",
       "  </tbody>\n",
       "</table>\n",
       "</div>"
      ],
      "text/plain": [
       "                                           song_id  song_length genre_ids  \\\n",
       "662   HAk0G8u7Yu2ljX4D7YLcA2P6im4MPx5Rb5Q13wdRL8Q=       236100      1259   \n",
       "1400  rjHA0Nga+XVFqG05VKykST7Sp8ztJeWa9/GWq9Yc7LI=       332382      1259   \n",
       "2372  1Ut67Cwg3K+x5REruzcUyaDm17T2AgOvJLDvVJMiaBE=       287416      1259   \n",
       "2439  YLo9cVOVI9YfBJxb77JbYfk0R02Fh2zdZ4PXFWk1E3c=       206936      1259   \n",
       "5845  qwhfksZux8hV40qCAsSMJq8t9UKLvZT5n9rkcGTF8Po=       243438      1259   \n",
       "\n",
       "     artist_name                                           composer lyricist  \\\n",
       "662   Kanye West  Kanye West| Andrew Dawson| Noah Goldstein| Mik...      NaN   \n",
       "1400  Kanye West  Kanye West| Stepan Taft| Sean Anderson| Terren...      NaN   \n",
       "2372  Kanye West                                                NaN      NaN   \n",
       "2439  Kanye West  Kanye West| John Stephens| A. Davis| Faheem Na...      NaN   \n",
       "5845  Kanye West                            Kanye West| Labi Siffre      NaN   \n",
       "\n",
       "      language  \n",
       "662       52.0  \n",
       "1400      52.0  \n",
       "2372      52.0  \n",
       "2439      52.0  \n",
       "5845      52.0  "
      ]
     },
     "execution_count": 60,
     "metadata": {},
     "output_type": "execute_result"
    }
   ],
   "source": [
    "songs_df[songs_df.artist_name == 'Kanye West'].head()"
   ]
  },
  {
   "cell_type": "code",
   "execution_count": 61,
   "id": "protecting-pension",
   "metadata": {},
   "outputs": [
    {
     "data": {
      "text/plain": [
       "Index(['song_id', 'song_length', 'genre_ids', 'artist_name', 'composer',\n",
       "       'lyricist', 'language', 'name', 'isrc'],\n",
       "      dtype='object')"
      ]
     },
     "execution_count": 61,
     "metadata": {},
     "output_type": "execute_result"
    }
   ],
   "source": [
    "songs_df = songs_df.merge(songs_extra_df,on='song_id', how='inner')\n",
    "\n",
    "songs_df.columns"
   ]
  },
  {
   "cell_type": "code",
   "execution_count": 62,
   "id": "regulation-aerospace",
   "metadata": {},
   "outputs": [
    {
     "data": {
      "text/html": [
       "<div>\n",
       "<style scoped>\n",
       "    .dataframe tbody tr th:only-of-type {\n",
       "        vertical-align: middle;\n",
       "    }\n",
       "\n",
       "    .dataframe tbody tr th {\n",
       "        vertical-align: top;\n",
       "    }\n",
       "\n",
       "    .dataframe thead th {\n",
       "        text-align: right;\n",
       "    }\n",
       "</style>\n",
       "<table border=\"1\" class=\"dataframe\">\n",
       "  <thead>\n",
       "    <tr style=\"text-align: right;\">\n",
       "      <th></th>\n",
       "      <th>song_id</th>\n",
       "      <th>song_length</th>\n",
       "      <th>genre_ids</th>\n",
       "      <th>artist_name</th>\n",
       "      <th>composer</th>\n",
       "      <th>lyricist</th>\n",
       "      <th>language</th>\n",
       "      <th>name</th>\n",
       "      <th>isrc</th>\n",
       "    </tr>\n",
       "  </thead>\n",
       "  <tbody>\n",
       "    <tr>\n",
       "      <th>1400</th>\n",
       "      <td>rjHA0Nga+XVFqG05VKykST7Sp8ztJeWa9/GWq9Yc7LI=</td>\n",
       "      <td>332382</td>\n",
       "      <td>1259</td>\n",
       "      <td>Kanye West</td>\n",
       "      <td>Kanye West| Stepan Taft| Sean Anderson| Terren...</td>\n",
       "      <td>NaN</td>\n",
       "      <td>52.0</td>\n",
       "      <td>Mercy</td>\n",
       "      <td>USUM71203564</td>\n",
       "    </tr>\n",
       "  </tbody>\n",
       "</table>\n",
       "</div>"
      ],
      "text/plain": [
       "                                           song_id  song_length genre_ids  \\\n",
       "1400  rjHA0Nga+XVFqG05VKykST7Sp8ztJeWa9/GWq9Yc7LI=       332382      1259   \n",
       "\n",
       "     artist_name                                           composer lyricist  \\\n",
       "1400  Kanye West  Kanye West| Stepan Taft| Sean Anderson| Terren...      NaN   \n",
       "\n",
       "      language   name          isrc  \n",
       "1400      52.0  Mercy  USUM71203564  "
      ]
     },
     "execution_count": 62,
     "metadata": {},
     "output_type": "execute_result"
    }
   ],
   "source": [
    "songs_df[(songs_df.artist_name == 'Kanye West') & (songs_df.name == 'Mercy')]"
   ]
  },
  {
   "cell_type": "code",
   "execution_count": 63,
   "id": "beginning-issue",
   "metadata": {},
   "outputs": [],
   "source": [
    "song_id = 'rjHA0Nga+XVFqG05VKykST7Sp8ztJeWa9/GWq9Yc7LI='"
   ]
  },
  {
   "cell_type": "markdown",
   "id": "significant-british",
   "metadata": {},
   "source": [
    "Посмотрим на симилары для данной песни"
   ]
  },
  {
   "cell_type": "code",
   "execution_count": 64,
   "id": "dedicated-insight",
   "metadata": {},
   "outputs": [
    {
     "name": "stdout",
     "output_type": "stream",
     "text": [
      "Score: 0.902816891670227, artist: Jay-Z,  song: F.U.T.W.\n",
      "Score: 0.8957455158233643, artist: A$AP Rocky,  song: F**kin' Problems\n",
      "Score: 0.8906581997871399, artist: Jay-Z,  song: Big Pimpin'\n",
      "Score: 0.8895015120506287, artist: Nas,  song: Stay\n",
      "Score: 0.8738152980804443, artist: Kanye West,  song: Stronger(更強)\n",
      "Score: 0.867067277431488, artist: Q-Tip,  song: Vivrant Thing\n",
      "Score: 0.8647993803024292, artist: The Game,  song: Bulletproof Diaries\n",
      "Score: 0.8623424172401428, artist: Young Gunz,  song: Can't Stop| Won't Stop\n",
      "Score: 0.861735463142395, artist: Jay-Z,  song: Run This Town\n",
      "Score: 0.8611681461334229, artist: Bow Wow,  song: Bow Wow (That's My Name)\n"
     ]
    }
   ],
   "source": [
    "for sim_id, sim_score in get_similars(song_id):\n",
    "    artist_name = songs_df[songs_df.song_id == sim_id].artist_name.values.item()\n",
    "    song_name = songs_df[songs_df.song_id == sim_id].name.values.item()\n",
    "    print(f'Score: {sim_score}, artist: {artist_name},  song: {song_name}')"
   ]
  },
  {
   "cell_type": "markdown",
   "id": "maritime-finding",
   "metadata": {},
   "source": [
    "Выглядит неплохо"
   ]
  },
  {
   "cell_type": "markdown",
   "id": "damaged-anderson",
   "metadata": {},
   "source": [
    "## Word2Vec как рекомендательная система"
   ]
  },
  {
   "cell_type": "code",
   "execution_count": 65,
   "id": "handmade-workstation",
   "metadata": {},
   "outputs": [],
   "source": [
    "def word2vec_similarity(user_embedding, song_embedding):\n",
    "    user_norm = np.linalg.norm(user_embedding)\n",
    "    song_norm = np.linalg.norm(song_embedding)\n",
    "    if user_norm < 1e-8 or song_norm < 1e-8:\n",
    "        return 0.\n",
    "    return user_embedding.dot(song_embedding) / (user_norm * song_norm)"
   ]
  },
  {
   "cell_type": "code",
   "execution_count": 66,
   "id": "advisory-essay",
   "metadata": {},
   "outputs": [],
   "source": [
    "def word2vec_ranking(w2v, df):\n",
    "    similarities = []\n",
    "    for user_id, song_id in tqdm(zip(df['msno'], df['song_id']), desc='ranking'):\n",
    "        user_embedding = user_embeddings[user_id]\n",
    "        song_embedding = w2v[song_id] if song_id in w2v else np.zeros(WORD2VEC_EMBED_DIM)\n",
    "        score = word2vec_similarity(user_embedding, song_embedding)\n",
    "        similarities.append(score)\n",
    "    return np.array(similarities)"
   ]
  },
  {
   "cell_type": "code",
   "execution_count": 67,
   "id": "capital-today",
   "metadata": {},
   "outputs": [
    {
     "data": {
      "application/vnd.jupyter.widget-view+json": {
       "model_id": "dcd0d9e305e649b3923d99873dd8fe9f",
       "version_major": 2,
       "version_minor": 0
      },
      "text/plain": [
       "ranking: 0it [00:00, ?it/s]"
      ]
     },
     "metadata": {},
     "output_type": "display_data"
    }
   ],
   "source": [
    "scores = word2vec_ranking(word2vec.wv, train_df)"
   ]
  },
  {
   "cell_type": "code",
   "execution_count": 68,
   "id": "welcome-blink",
   "metadata": {},
   "outputs": [
    {
     "data": {
      "text/plain": [
       "7377418"
      ]
     },
     "execution_count": 68,
     "metadata": {},
     "output_type": "execute_result"
    }
   ],
   "source": [
    "len(train_df)"
   ]
  },
  {
   "cell_type": "code",
   "execution_count": 69,
   "id": "respiratory-homeless",
   "metadata": {},
   "outputs": [
    {
     "data": {
      "text/plain": [
       "0.6713042976687551"
      ]
     },
     "execution_count": 69,
     "metadata": {},
     "output_type": "execute_result"
    }
   ],
   "source": [
    "roc_auc_score(train_df.target.values, scores)"
   ]
  },
  {
   "cell_type": "markdown",
   "id": "advanced-birthday",
   "metadata": {},
   "source": [
    "Получилось довольно ощутимо хуже, чем GBDT. Давайте теперь посмотрим, что будет, если передать GBDT similarity score как фичу"
   ]
  },
  {
   "cell_type": "markdown",
   "id": "ancient-allah",
   "metadata": {},
   "source": [
    "## GBDT + Word2Vec"
   ]
  },
  {
   "cell_type": "code",
   "execution_count": 72,
   "id": "sunset-auditor",
   "metadata": {},
   "outputs": [],
   "source": [
    "del train_df, songs_df, songs_extra_df, word2vec"
   ]
  },
  {
   "cell_type": "code",
   "execution_count": 70,
   "id": "wound-reduction",
   "metadata": {},
   "outputs": [],
   "source": [
    "X['w2v_sim'] = scores"
   ]
  },
  {
   "cell_type": "code",
   "execution_count": 71,
   "id": "inner-links",
   "metadata": {},
   "outputs": [
    {
     "data": {
      "text/plain": [
       "source_system_tab     category\n",
       "source_screen_name    category\n",
       "source_type           category\n",
       "song_length            float64\n",
       "language              category\n",
       "city                  category\n",
       "bd                     float64\n",
       "gender                category\n",
       "registered_via        category\n",
       "reg_year                 int64\n",
       "reg_month                int64\n",
       "reg_day                  int64\n",
       "exp_year                 int64\n",
       "exp_month                int64\n",
       "exp_day                  int64\n",
       "song_year              float64\n",
       "genres_logprob         float64\n",
       "artist_logprob         float64\n",
       "w2v_sim                float64\n",
       "dtype: object"
      ]
     },
     "execution_count": 71,
     "metadata": {},
     "output_type": "execute_result"
    }
   ],
   "source": [
    "X.dtypes"
   ]
  },
  {
   "cell_type": "code",
   "execution_count": 73,
   "id": "refined-glenn",
   "metadata": {},
   "outputs": [
    {
     "data": {
      "text/html": [
       "<div>\n",
       "<style scoped>\n",
       "    .dataframe tbody tr th:only-of-type {\n",
       "        vertical-align: middle;\n",
       "    }\n",
       "\n",
       "    .dataframe tbody tr th {\n",
       "        vertical-align: top;\n",
       "    }\n",
       "\n",
       "    .dataframe thead th {\n",
       "        text-align: right;\n",
       "    }\n",
       "</style>\n",
       "<table border=\"1\" class=\"dataframe\">\n",
       "  <thead>\n",
       "    <tr style=\"text-align: right;\">\n",
       "      <th></th>\n",
       "      <th>source_system_tab</th>\n",
       "      <th>source_screen_name</th>\n",
       "      <th>source_type</th>\n",
       "      <th>song_length</th>\n",
       "      <th>language</th>\n",
       "      <th>city</th>\n",
       "      <th>bd</th>\n",
       "      <th>gender</th>\n",
       "      <th>registered_via</th>\n",
       "      <th>reg_year</th>\n",
       "      <th>reg_month</th>\n",
       "      <th>reg_day</th>\n",
       "      <th>exp_year</th>\n",
       "      <th>exp_month</th>\n",
       "      <th>exp_day</th>\n",
       "      <th>song_year</th>\n",
       "      <th>genres_logprob</th>\n",
       "      <th>artist_logprob</th>\n",
       "      <th>w2v_sim</th>\n",
       "    </tr>\n",
       "  </thead>\n",
       "  <tbody>\n",
       "    <tr>\n",
       "      <th>0</th>\n",
       "      <td>explore</td>\n",
       "      <td>Explore</td>\n",
       "      <td>online-playlist</td>\n",
       "      <td>206471.0</td>\n",
       "      <td>52</td>\n",
       "      <td>1</td>\n",
       "      <td>NaN</td>\n",
       "      <td>nan</td>\n",
       "      <td>7</td>\n",
       "      <td>2012</td>\n",
       "      <td>1</td>\n",
       "      <td>2</td>\n",
       "      <td>2017</td>\n",
       "      <td>10</td>\n",
       "      <td>5</td>\n",
       "      <td>2016.0</td>\n",
       "      <td>-3.391998</td>\n",
       "      <td>-7.515889</td>\n",
       "      <td>0.591784</td>\n",
       "    </tr>\n",
       "    <tr>\n",
       "      <th>1</th>\n",
       "      <td>my library</td>\n",
       "      <td>Local playlist more</td>\n",
       "      <td>local-playlist</td>\n",
       "      <td>284584.0</td>\n",
       "      <td>52</td>\n",
       "      <td>13</td>\n",
       "      <td>24.0</td>\n",
       "      <td>female</td>\n",
       "      <td>9</td>\n",
       "      <td>2011</td>\n",
       "      <td>5</td>\n",
       "      <td>25</td>\n",
       "      <td>2017</td>\n",
       "      <td>9</td>\n",
       "      <td>11</td>\n",
       "      <td>1999.0</td>\n",
       "      <td>-2.528175</td>\n",
       "      <td>-3.254886</td>\n",
       "      <td>0.000000</td>\n",
       "    </tr>\n",
       "    <tr>\n",
       "      <th>2</th>\n",
       "      <td>my library</td>\n",
       "      <td>Local playlist more</td>\n",
       "      <td>local-playlist</td>\n",
       "      <td>225396.0</td>\n",
       "      <td>52</td>\n",
       "      <td>13</td>\n",
       "      <td>24.0</td>\n",
       "      <td>female</td>\n",
       "      <td>9</td>\n",
       "      <td>2011</td>\n",
       "      <td>5</td>\n",
       "      <td>25</td>\n",
       "      <td>2017</td>\n",
       "      <td>9</td>\n",
       "      <td>11</td>\n",
       "      <td>2006.0</td>\n",
       "      <td>-2.528175</td>\n",
       "      <td>-5.739793</td>\n",
       "      <td>0.000000</td>\n",
       "    </tr>\n",
       "    <tr>\n",
       "      <th>3</th>\n",
       "      <td>my library</td>\n",
       "      <td>Local playlist more</td>\n",
       "      <td>local-playlist</td>\n",
       "      <td>255512.0</td>\n",
       "      <td>-1</td>\n",
       "      <td>13</td>\n",
       "      <td>24.0</td>\n",
       "      <td>female</td>\n",
       "      <td>9</td>\n",
       "      <td>2011</td>\n",
       "      <td>5</td>\n",
       "      <td>25</td>\n",
       "      <td>2017</td>\n",
       "      <td>9</td>\n",
       "      <td>11</td>\n",
       "      <td>2010.0</td>\n",
       "      <td>-6.419995</td>\n",
       "      <td>-6.432940</td>\n",
       "      <td>0.000000</td>\n",
       "    </tr>\n",
       "    <tr>\n",
       "      <th>4</th>\n",
       "      <td>explore</td>\n",
       "      <td>Explore</td>\n",
       "      <td>online-playlist</td>\n",
       "      <td>187802.0</td>\n",
       "      <td>52</td>\n",
       "      <td>1</td>\n",
       "      <td>NaN</td>\n",
       "      <td>nan</td>\n",
       "      <td>7</td>\n",
       "      <td>2012</td>\n",
       "      <td>1</td>\n",
       "      <td>2</td>\n",
       "      <td>2017</td>\n",
       "      <td>10</td>\n",
       "      <td>5</td>\n",
       "      <td>2016.0</td>\n",
       "      <td>-4.932443</td>\n",
       "      <td>-8.614501</td>\n",
       "      <td>0.515339</td>\n",
       "    </tr>\n",
       "  </tbody>\n",
       "</table>\n",
       "</div>"
      ],
      "text/plain": [
       "  source_system_tab   source_screen_name      source_type  song_length  \\\n",
       "0           explore              Explore  online-playlist     206471.0   \n",
       "1        my library  Local playlist more   local-playlist     284584.0   \n",
       "2        my library  Local playlist more   local-playlist     225396.0   \n",
       "3        my library  Local playlist more   local-playlist     255512.0   \n",
       "4           explore              Explore  online-playlist     187802.0   \n",
       "\n",
       "  language city    bd  gender registered_via  reg_year  reg_month  reg_day  \\\n",
       "0       52    1   NaN     nan              7      2012          1        2   \n",
       "1       52   13  24.0  female              9      2011          5       25   \n",
       "2       52   13  24.0  female              9      2011          5       25   \n",
       "3       -1   13  24.0  female              9      2011          5       25   \n",
       "4       52    1   NaN     nan              7      2012          1        2   \n",
       "\n",
       "   exp_year  exp_month  exp_day  song_year  genres_logprob  artist_logprob  \\\n",
       "0      2017         10        5     2016.0       -3.391998       -7.515889   \n",
       "1      2017          9       11     1999.0       -2.528175       -3.254886   \n",
       "2      2017          9       11     2006.0       -2.528175       -5.739793   \n",
       "3      2017          9       11     2010.0       -6.419995       -6.432940   \n",
       "4      2017         10        5     2016.0       -4.932443       -8.614501   \n",
       "\n",
       "    w2v_sim  \n",
       "0  0.591784  \n",
       "1  0.000000  \n",
       "2  0.000000  \n",
       "3  0.000000  \n",
       "4  0.515339  "
      ]
     },
     "execution_count": 73,
     "metadata": {},
     "output_type": "execute_result"
    }
   ],
   "source": [
    "X.head()"
   ]
  },
  {
   "cell_type": "code",
   "execution_count": 74,
   "id": "horizontal-bouquet",
   "metadata": {},
   "outputs": [
    {
     "name": "stdout",
     "output_type": "stream",
     "text": [
      "Taking 0 split as validation set\n",
      "0:\ttest: 0.7142012\tbest: 0.7142012 (0)\ttotal: 1.79s\tremaining: 2m 57s\n",
      "1:\ttest: 0.7179113\tbest: 0.7179113 (1)\ttotal: 3.25s\tremaining: 2m 39s\n",
      "2:\ttest: 0.7204482\tbest: 0.7204482 (2)\ttotal: 4.76s\tremaining: 2m 33s\n",
      "3:\ttest: 0.7256566\tbest: 0.7256566 (3)\ttotal: 6.46s\tremaining: 2m 34s\n",
      "4:\ttest: 0.7280512\tbest: 0.7280512 (4)\ttotal: 8.03s\tremaining: 2m 32s\n",
      "5:\ttest: 0.7293512\tbest: 0.7293512 (5)\ttotal: 9.58s\tremaining: 2m 30s\n",
      "6:\ttest: 0.7302946\tbest: 0.7302946 (6)\ttotal: 11.1s\tremaining: 2m 27s\n",
      "7:\ttest: 0.7313702\tbest: 0.7313702 (7)\ttotal: 12.7s\tremaining: 2m 25s\n",
      "8:\ttest: 0.7323101\tbest: 0.7323101 (8)\ttotal: 14.2s\tremaining: 2m 23s\n",
      "9:\ttest: 0.7329364\tbest: 0.7329364 (9)\ttotal: 15.7s\tremaining: 2m 21s\n",
      "10:\ttest: 0.7339794\tbest: 0.7339794 (10)\ttotal: 17.4s\tremaining: 2m 20s\n",
      "11:\ttest: 0.7346207\tbest: 0.7346207 (11)\ttotal: 18.9s\tremaining: 2m 18s\n",
      "12:\ttest: 0.7351388\tbest: 0.7351388 (12)\ttotal: 20.4s\tremaining: 2m 16s\n",
      "13:\ttest: 0.7355451\tbest: 0.7355451 (13)\ttotal: 22s\tremaining: 2m 14s\n",
      "14:\ttest: 0.7358326\tbest: 0.7358326 (14)\ttotal: 23.5s\tremaining: 2m 13s\n",
      "15:\ttest: 0.7363328\tbest: 0.7363328 (15)\ttotal: 25.1s\tremaining: 2m 11s\n",
      "16:\ttest: 0.7370031\tbest: 0.7370031 (16)\ttotal: 26.6s\tremaining: 2m 9s\n",
      "17:\ttest: 0.7372605\tbest: 0.7372605 (17)\ttotal: 28.1s\tremaining: 2m 8s\n",
      "18:\ttest: 0.7382265\tbest: 0.7382265 (18)\ttotal: 29.9s\tremaining: 2m 7s\n",
      "19:\ttest: 0.7385185\tbest: 0.7385185 (19)\ttotal: 31.5s\tremaining: 2m 5s\n",
      "20:\ttest: 0.7389981\tbest: 0.7389981 (20)\ttotal: 33s\tremaining: 2m 4s\n",
      "21:\ttest: 0.7392000\tbest: 0.7392000 (21)\ttotal: 34.5s\tremaining: 2m 2s\n",
      "22:\ttest: 0.7396415\tbest: 0.7396415 (22)\ttotal: 36.1s\tremaining: 2m\n",
      "23:\ttest: 0.7401608\tbest: 0.7401608 (23)\ttotal: 37.6s\tremaining: 1m 59s\n",
      "24:\ttest: 0.7406241\tbest: 0.7406241 (24)\ttotal: 39.2s\tremaining: 1m 57s\n",
      "25:\ttest: 0.7409294\tbest: 0.7409294 (25)\ttotal: 40.7s\tremaining: 1m 55s\n",
      "26:\ttest: 0.7412142\tbest: 0.7412142 (26)\ttotal: 42.2s\tremaining: 1m 54s\n",
      "27:\ttest: 0.7413953\tbest: 0.7413953 (27)\ttotal: 43.8s\tremaining: 1m 52s\n",
      "28:\ttest: 0.7417761\tbest: 0.7417761 (28)\ttotal: 45.4s\tremaining: 1m 51s\n",
      "29:\ttest: 0.7422270\tbest: 0.7422270 (29)\ttotal: 47s\tremaining: 1m 49s\n",
      "30:\ttest: 0.7425169\tbest: 0.7425169 (30)\ttotal: 48.6s\tremaining: 1m 48s\n",
      "31:\ttest: 0.7426366\tbest: 0.7426366 (31)\ttotal: 50.2s\tremaining: 1m 46s\n",
      "32:\ttest: 0.7429125\tbest: 0.7429125 (32)\ttotal: 52s\tremaining: 1m 45s\n",
      "33:\ttest: 0.7431358\tbest: 0.7431358 (33)\ttotal: 53.7s\tremaining: 1m 44s\n",
      "34:\ttest: 0.7437035\tbest: 0.7437035 (34)\ttotal: 55.3s\tremaining: 1m 42s\n",
      "35:\ttest: 0.7439516\tbest: 0.7439516 (35)\ttotal: 57s\tremaining: 1m 41s\n",
      "36:\ttest: 0.7443992\tbest: 0.7443992 (36)\ttotal: 58.7s\tremaining: 1m 39s\n",
      "37:\ttest: 0.7449718\tbest: 0.7449718 (37)\ttotal: 1m\tremaining: 1m 38s\n",
      "38:\ttest: 0.7452617\tbest: 0.7452617 (38)\ttotal: 1m 2s\tremaining: 1m 37s\n",
      "39:\ttest: 0.7454562\tbest: 0.7454562 (39)\ttotal: 1m 4s\tremaining: 1m 36s\n",
      "40:\ttest: 0.7456078\tbest: 0.7456078 (40)\ttotal: 1m 6s\tremaining: 1m 35s\n",
      "41:\ttest: 0.7458860\tbest: 0.7458860 (41)\ttotal: 1m 7s\tremaining: 1m 33s\n",
      "42:\ttest: 0.7462386\tbest: 0.7462386 (42)\ttotal: 1m 9s\tremaining: 1m 32s\n",
      "43:\ttest: 0.7466998\tbest: 0.7466998 (43)\ttotal: 1m 11s\tremaining: 1m 30s\n",
      "44:\ttest: 0.7469961\tbest: 0.7469961 (44)\ttotal: 1m 12s\tremaining: 1m 29s\n",
      "45:\ttest: 0.7471438\tbest: 0.7471438 (45)\ttotal: 1m 14s\tremaining: 1m 27s\n",
      "46:\ttest: 0.7474901\tbest: 0.7474901 (46)\ttotal: 1m 16s\tremaining: 1m 26s\n",
      "47:\ttest: 0.7476031\tbest: 0.7476031 (47)\ttotal: 1m 18s\tremaining: 1m 24s\n",
      "48:\ttest: 0.7477552\tbest: 0.7477552 (48)\ttotal: 1m 19s\tremaining: 1m 23s\n",
      "49:\ttest: 0.7482999\tbest: 0.7482999 (49)\ttotal: 1m 21s\tremaining: 1m 21s\n",
      "50:\ttest: 0.7487157\tbest: 0.7487157 (50)\ttotal: 1m 23s\tremaining: 1m 20s\n",
      "51:\ttest: 0.7488614\tbest: 0.7488614 (51)\ttotal: 1m 25s\tremaining: 1m 18s\n",
      "52:\ttest: 0.7489597\tbest: 0.7489597 (52)\ttotal: 1m 26s\tremaining: 1m 17s\n",
      "53:\ttest: 0.7490487\tbest: 0.7490487 (53)\ttotal: 1m 28s\tremaining: 1m 15s\n",
      "54:\ttest: 0.7492808\tbest: 0.7492808 (54)\ttotal: 1m 30s\tremaining: 1m 13s\n",
      "55:\ttest: 0.7494432\tbest: 0.7494432 (55)\ttotal: 1m 32s\tremaining: 1m 12s\n",
      "56:\ttest: 0.7496284\tbest: 0.7496284 (56)\ttotal: 1m 33s\tremaining: 1m 10s\n",
      "57:\ttest: 0.7499317\tbest: 0.7499317 (57)\ttotal: 1m 35s\tremaining: 1m 9s\n",
      "58:\ttest: 0.7501749\tbest: 0.7501749 (58)\ttotal: 1m 37s\tremaining: 1m 7s\n",
      "59:\ttest: 0.7503455\tbest: 0.7503455 (59)\ttotal: 1m 39s\tremaining: 1m 6s\n",
      "60:\ttest: 0.7504573\tbest: 0.7504573 (60)\ttotal: 1m 41s\tremaining: 1m 4s\n",
      "61:\ttest: 0.7510161\tbest: 0.7510161 (61)\ttotal: 1m 42s\tremaining: 1m 3s\n",
      "62:\ttest: 0.7514338\tbest: 0.7514338 (62)\ttotal: 1m 44s\tremaining: 1m 1s\n",
      "63:\ttest: 0.7515419\tbest: 0.7515419 (63)\ttotal: 1m 46s\tremaining: 59.8s\n",
      "64:\ttest: 0.7516816\tbest: 0.7516816 (64)\ttotal: 1m 47s\tremaining: 58.1s\n",
      "65:\ttest: 0.7518658\tbest: 0.7518658 (65)\ttotal: 1m 49s\tremaining: 56.6s\n",
      "66:\ttest: 0.7520233\tbest: 0.7520233 (66)\ttotal: 1m 51s\tremaining: 55s\n",
      "67:\ttest: 0.7523005\tbest: 0.7523005 (67)\ttotal: 1m 53s\tremaining: 53.4s\n",
      "68:\ttest: 0.7524462\tbest: 0.7524462 (68)\ttotal: 1m 55s\tremaining: 51.8s\n",
      "69:\ttest: 0.7526450\tbest: 0.7526450 (69)\ttotal: 1m 57s\tremaining: 50.2s\n",
      "70:\ttest: 0.7529028\tbest: 0.7529028 (70)\ttotal: 1m 58s\tremaining: 48.5s\n",
      "71:\ttest: 0.7530435\tbest: 0.7530435 (71)\ttotal: 2m\tremaining: 46.9s\n",
      "72:\ttest: 0.7535400\tbest: 0.7535400 (72)\ttotal: 2m 2s\tremaining: 45.3s\n",
      "73:\ttest: 0.7539100\tbest: 0.7539100 (73)\ttotal: 2m 4s\tremaining: 43.6s\n",
      "74:\ttest: 0.7540949\tbest: 0.7540949 (74)\ttotal: 2m 5s\tremaining: 42s\n",
      "75:\ttest: 0.7543041\tbest: 0.7543041 (75)\ttotal: 2m 7s\tremaining: 40.3s\n",
      "76:\ttest: 0.7544954\tbest: 0.7544954 (76)\ttotal: 2m 9s\tremaining: 38.7s\n",
      "77:\ttest: 0.7546536\tbest: 0.7546536 (77)\ttotal: 2m 11s\tremaining: 37.1s\n",
      "78:\ttest: 0.7548678\tbest: 0.7548678 (78)\ttotal: 2m 13s\tremaining: 35.4s\n",
      "79:\ttest: 0.7550027\tbest: 0.7550027 (79)\ttotal: 2m 14s\tremaining: 33.7s\n",
      "80:\ttest: 0.7550888\tbest: 0.7550888 (80)\ttotal: 2m 16s\tremaining: 32.1s\n",
      "81:\ttest: 0.7551960\tbest: 0.7551960 (81)\ttotal: 2m 18s\tremaining: 30.4s\n",
      "82:\ttest: 0.7554475\tbest: 0.7554475 (82)\ttotal: 2m 20s\tremaining: 28.7s\n",
      "83:\ttest: 0.7557142\tbest: 0.7557142 (83)\ttotal: 2m 21s\tremaining: 27s\n",
      "84:\ttest: 0.7560552\tbest: 0.7560552 (84)\ttotal: 2m 23s\tremaining: 25.4s\n",
      "85:\ttest: 0.7562299\tbest: 0.7562299 (85)\ttotal: 2m 25s\tremaining: 23.7s\n",
      "86:\ttest: 0.7564441\tbest: 0.7564441 (86)\ttotal: 2m 27s\tremaining: 22s\n",
      "87:\ttest: 0.7566922\tbest: 0.7566922 (87)\ttotal: 2m 28s\tremaining: 20.3s\n",
      "88:\ttest: 0.7568075\tbest: 0.7568075 (88)\ttotal: 2m 30s\tremaining: 18.6s\n",
      "89:\ttest: 0.7569126\tbest: 0.7569126 (89)\ttotal: 2m 32s\tremaining: 16.9s\n",
      "90:\ttest: 0.7569901\tbest: 0.7569901 (90)\ttotal: 2m 34s\tremaining: 15.2s\n",
      "91:\ttest: 0.7570894\tbest: 0.7570894 (91)\ttotal: 2m 35s\tremaining: 13.5s\n",
      "92:\ttest: 0.7572568\tbest: 0.7572568 (92)\ttotal: 2m 37s\tremaining: 11.9s\n",
      "93:\ttest: 0.7575518\tbest: 0.7575518 (93)\ttotal: 2m 39s\tremaining: 10.2s\n",
      "94:\ttest: 0.7577344\tbest: 0.7577344 (94)\ttotal: 2m 41s\tremaining: 8.48s\n",
      "95:\ttest: 0.7579427\tbest: 0.7579427 (95)\ttotal: 2m 42s\tremaining: 6.79s\n",
      "96:\ttest: 0.7580176\tbest: 0.7580176 (96)\ttotal: 2m 44s\tremaining: 5.09s\n",
      "97:\ttest: 0.7583443\tbest: 0.7583443 (97)\ttotal: 2m 46s\tremaining: 3.4s\n",
      "98:\ttest: 0.7584165\tbest: 0.7584165 (98)\ttotal: 2m 48s\tremaining: 1.7s\n",
      "99:\ttest: 0.7586145\tbest: 0.7586145 (99)\ttotal: 2m 49s\tremaining: 0us\n",
      "\n",
      "bestTest = 0.7586145289\n",
      "bestIteration = 99\n",
      "\n",
      "Taking 1 split as validation set\n",
      "0:\ttest: 0.7134975\tbest: 0.7134975 (0)\ttotal: 2s\tremaining: 3m 18s\n",
      "1:\ttest: 0.7173811\tbest: 0.7173811 (1)\ttotal: 3.71s\tremaining: 3m 1s\n",
      "2:\ttest: 0.7194686\tbest: 0.7194686 (2)\ttotal: 5.54s\tremaining: 2m 59s\n",
      "3:\ttest: 0.7246273\tbest: 0.7246273 (3)\ttotal: 7.58s\tremaining: 3m 1s\n",
      "4:\ttest: 0.7265169\tbest: 0.7265169 (4)\ttotal: 9.31s\tremaining: 2m 56s\n",
      "5:\ttest: 0.7281688\tbest: 0.7281688 (5)\ttotal: 11.1s\tremaining: 2m 53s\n",
      "6:\ttest: 0.7292937\tbest: 0.7292937 (6)\ttotal: 12.7s\tremaining: 2m 49s\n",
      "7:\ttest: 0.7303621\tbest: 0.7303621 (7)\ttotal: 14.5s\tremaining: 2m 46s\n",
      "8:\ttest: 0.7310757\tbest: 0.7310757 (8)\ttotal: 16.3s\tremaining: 2m 44s\n",
      "9:\ttest: 0.7317380\tbest: 0.7317380 (9)\ttotal: 17.9s\tremaining: 2m 41s\n",
      "10:\ttest: 0.7323791\tbest: 0.7323791 (10)\ttotal: 19.7s\tremaining: 2m 39s\n",
      "11:\ttest: 0.7327203\tbest: 0.7327203 (11)\ttotal: 21.3s\tremaining: 2m 36s\n",
      "12:\ttest: 0.7331605\tbest: 0.7331605 (12)\ttotal: 23s\tremaining: 2m 34s\n",
      "13:\ttest: 0.7341270\tbest: 0.7341270 (13)\ttotal: 24.9s\tremaining: 2m 32s\n"
     ]
    },
    {
     "name": "stdout",
     "output_type": "stream",
     "text": [
      "14:\ttest: 0.7347159\tbest: 0.7347159 (14)\ttotal: 26.6s\tremaining: 2m 30s\n",
      "15:\ttest: 0.7353877\tbest: 0.7353877 (15)\ttotal: 28.4s\tremaining: 2m 29s\n",
      "16:\ttest: 0.7360358\tbest: 0.7360358 (16)\ttotal: 30.2s\tremaining: 2m 27s\n",
      "17:\ttest: 0.7364391\tbest: 0.7364391 (17)\ttotal: 31.9s\tremaining: 2m 25s\n",
      "18:\ttest: 0.7368936\tbest: 0.7368936 (18)\ttotal: 33.7s\tremaining: 2m 23s\n",
      "19:\ttest: 0.7373714\tbest: 0.7373714 (19)\ttotal: 35.5s\tremaining: 2m 22s\n",
      "20:\ttest: 0.7376021\tbest: 0.7376021 (20)\ttotal: 37.2s\tremaining: 2m 20s\n",
      "21:\ttest: 0.7378181\tbest: 0.7378181 (21)\ttotal: 38.9s\tremaining: 2m 18s\n",
      "22:\ttest: 0.7381785\tbest: 0.7381785 (22)\ttotal: 40.7s\tremaining: 2m 16s\n",
      "23:\ttest: 0.7387083\tbest: 0.7387083 (23)\ttotal: 42.5s\tremaining: 2m 14s\n",
      "24:\ttest: 0.7390741\tbest: 0.7390741 (24)\ttotal: 44.3s\tremaining: 2m 12s\n",
      "25:\ttest: 0.7393266\tbest: 0.7393266 (25)\ttotal: 46s\tremaining: 2m 11s\n",
      "26:\ttest: 0.7398180\tbest: 0.7398180 (26)\ttotal: 47.8s\tremaining: 2m 9s\n",
      "27:\ttest: 0.7400584\tbest: 0.7400584 (27)\ttotal: 49.6s\tremaining: 2m 7s\n",
      "28:\ttest: 0.7407662\tbest: 0.7407662 (28)\ttotal: 51.4s\tremaining: 2m 5s\n",
      "29:\ttest: 0.7410916\tbest: 0.7410916 (29)\ttotal: 53.2s\tremaining: 2m 4s\n",
      "30:\ttest: 0.7415596\tbest: 0.7415596 (30)\ttotal: 55s\tremaining: 2m 2s\n",
      "31:\ttest: 0.7419386\tbest: 0.7419386 (31)\ttotal: 56.7s\tremaining: 2m\n",
      "32:\ttest: 0.7421210\tbest: 0.7421210 (32)\ttotal: 58.5s\tremaining: 1m 58s\n",
      "33:\ttest: 0.7423072\tbest: 0.7423072 (33)\ttotal: 1m\tremaining: 1m 57s\n",
      "34:\ttest: 0.7424812\tbest: 0.7424812 (34)\ttotal: 1m 2s\tremaining: 1m 55s\n",
      "35:\ttest: 0.7427183\tbest: 0.7427183 (35)\ttotal: 1m 3s\tremaining: 1m 53s\n",
      "36:\ttest: 0.7431881\tbest: 0.7431881 (36)\ttotal: 1m 5s\tremaining: 1m 51s\n",
      "37:\ttest: 0.7433383\tbest: 0.7433383 (37)\ttotal: 1m 7s\tremaining: 1m 49s\n",
      "38:\ttest: 0.7436376\tbest: 0.7436376 (38)\ttotal: 1m 8s\tremaining: 1m 47s\n",
      "39:\ttest: 0.7438041\tbest: 0.7438041 (39)\ttotal: 1m 10s\tremaining: 1m 46s\n",
      "40:\ttest: 0.7440031\tbest: 0.7440031 (40)\ttotal: 1m 12s\tremaining: 1m 44s\n",
      "41:\ttest: 0.7441656\tbest: 0.7441656 (41)\ttotal: 1m 14s\tremaining: 1m 42s\n",
      "42:\ttest: 0.7443460\tbest: 0.7443460 (42)\ttotal: 1m 15s\tremaining: 1m 40s\n",
      "43:\ttest: 0.7449144\tbest: 0.7449144 (43)\ttotal: 1m 17s\tremaining: 1m 38s\n",
      "44:\ttest: 0.7455146\tbest: 0.7455146 (44)\ttotal: 1m 19s\tremaining: 1m 37s\n",
      "45:\ttest: 0.7459534\tbest: 0.7459534 (45)\ttotal: 1m 21s\tremaining: 1m 35s\n",
      "46:\ttest: 0.7461001\tbest: 0.7461001 (46)\ttotal: 1m 22s\tremaining: 1m 33s\n",
      "47:\ttest: 0.7462595\tbest: 0.7462595 (47)\ttotal: 1m 24s\tremaining: 1m 31s\n",
      "48:\ttest: 0.7467318\tbest: 0.7467318 (48)\ttotal: 1m 26s\tremaining: 1m 29s\n",
      "49:\ttest: 0.7469070\tbest: 0.7469070 (49)\ttotal: 1m 28s\tremaining: 1m 28s\n",
      "50:\ttest: 0.7470986\tbest: 0.7470986 (50)\ttotal: 1m 29s\tremaining: 1m 26s\n",
      "51:\ttest: 0.7473349\tbest: 0.7473349 (51)\ttotal: 1m 31s\tremaining: 1m 24s\n",
      "52:\ttest: 0.7475488\tbest: 0.7475488 (52)\ttotal: 1m 33s\tremaining: 1m 22s\n",
      "53:\ttest: 0.7479183\tbest: 0.7479183 (53)\ttotal: 1m 34s\tremaining: 1m 20s\n",
      "54:\ttest: 0.7480915\tbest: 0.7480915 (54)\ttotal: 1m 36s\tremaining: 1m 19s\n",
      "55:\ttest: 0.7486839\tbest: 0.7486839 (55)\ttotal: 1m 38s\tremaining: 1m 17s\n",
      "56:\ttest: 0.7488298\tbest: 0.7488298 (56)\ttotal: 1m 40s\tremaining: 1m 15s\n",
      "57:\ttest: 0.7491581\tbest: 0.7491581 (57)\ttotal: 1m 42s\tremaining: 1m 13s\n",
      "58:\ttest: 0.7492627\tbest: 0.7492627 (58)\ttotal: 1m 43s\tremaining: 1m 12s\n",
      "59:\ttest: 0.7493611\tbest: 0.7493611 (59)\ttotal: 1m 45s\tremaining: 1m 10s\n",
      "60:\ttest: 0.7495039\tbest: 0.7495039 (60)\ttotal: 1m 47s\tremaining: 1m 8s\n",
      "61:\ttest: 0.7498460\tbest: 0.7498460 (61)\ttotal: 1m 49s\tremaining: 1m 6s\n",
      "62:\ttest: 0.7501119\tbest: 0.7501119 (62)\ttotal: 1m 51s\tremaining: 1m 5s\n",
      "63:\ttest: 0.7505603\tbest: 0.7505603 (63)\ttotal: 1m 52s\tremaining: 1m 3s\n",
      "64:\ttest: 0.7507188\tbest: 0.7507188 (64)\ttotal: 1m 54s\tremaining: 1m 1s\n",
      "65:\ttest: 0.7508872\tbest: 0.7508872 (65)\ttotal: 1m 56s\tremaining: 59.9s\n",
      "66:\ttest: 0.7511078\tbest: 0.7511078 (66)\ttotal: 1m 57s\tremaining: 58.1s\n",
      "67:\ttest: 0.7516138\tbest: 0.7516138 (67)\ttotal: 1m 59s\tremaining: 56.3s\n",
      "68:\ttest: 0.7517479\tbest: 0.7517479 (68)\ttotal: 2m 1s\tremaining: 54.5s\n",
      "69:\ttest: 0.7518287\tbest: 0.7518287 (69)\ttotal: 2m 3s\tremaining: 52.8s\n",
      "70:\ttest: 0.7519677\tbest: 0.7519677 (70)\ttotal: 2m 4s\tremaining: 51s\n",
      "71:\ttest: 0.7521867\tbest: 0.7521867 (71)\ttotal: 2m 6s\tremaining: 49.2s\n",
      "72:\ttest: 0.7525342\tbest: 0.7525342 (72)\ttotal: 2m 8s\tremaining: 47.5s\n",
      "73:\ttest: 0.7526200\tbest: 0.7526200 (73)\ttotal: 2m 10s\tremaining: 45.7s\n",
      "74:\ttest: 0.7526846\tbest: 0.7526846 (74)\ttotal: 2m 11s\tremaining: 43.9s\n",
      "75:\ttest: 0.7527623\tbest: 0.7527623 (75)\ttotal: 2m 13s\tremaining: 42.2s\n",
      "76:\ttest: 0.7529219\tbest: 0.7529219 (76)\ttotal: 2m 15s\tremaining: 40.4s\n",
      "77:\ttest: 0.7530073\tbest: 0.7530073 (77)\ttotal: 2m 16s\tremaining: 38.6s\n",
      "78:\ttest: 0.7532549\tbest: 0.7532549 (78)\ttotal: 2m 18s\tremaining: 36.9s\n",
      "79:\ttest: 0.7533834\tbest: 0.7533834 (79)\ttotal: 2m 20s\tremaining: 35.1s\n",
      "80:\ttest: 0.7536232\tbest: 0.7536232 (80)\ttotal: 2m 22s\tremaining: 33.3s\n",
      "81:\ttest: 0.7537300\tbest: 0.7537300 (81)\ttotal: 2m 23s\tremaining: 31.6s\n",
      "82:\ttest: 0.7540395\tbest: 0.7540395 (82)\ttotal: 2m 25s\tremaining: 29.9s\n",
      "83:\ttest: 0.7543107\tbest: 0.7543107 (83)\ttotal: 2m 27s\tremaining: 28.1s\n",
      "84:\ttest: 0.7543993\tbest: 0.7543993 (84)\ttotal: 2m 29s\tremaining: 26.3s\n",
      "85:\ttest: 0.7546259\tbest: 0.7546259 (85)\ttotal: 2m 30s\tremaining: 24.6s\n",
      "86:\ttest: 0.7550142\tbest: 0.7550142 (86)\ttotal: 2m 32s\tremaining: 22.8s\n",
      "87:\ttest: 0.7550842\tbest: 0.7550842 (87)\ttotal: 2m 34s\tremaining: 21.1s\n",
      "88:\ttest: 0.7551868\tbest: 0.7551868 (88)\ttotal: 2m 36s\tremaining: 19.3s\n",
      "89:\ttest: 0.7555619\tbest: 0.7555619 (89)\ttotal: 2m 38s\tremaining: 17.6s\n",
      "90:\ttest: 0.7557014\tbest: 0.7557014 (90)\ttotal: 2m 39s\tremaining: 15.8s\n",
      "91:\ttest: 0.7558152\tbest: 0.7558152 (91)\ttotal: 2m 41s\tremaining: 14s\n",
      "92:\ttest: 0.7558890\tbest: 0.7558890 (92)\ttotal: 2m 43s\tremaining: 12.3s\n",
      "93:\ttest: 0.7560053\tbest: 0.7560053 (93)\ttotal: 2m 44s\tremaining: 10.5s\n",
      "94:\ttest: 0.7562449\tbest: 0.7562449 (94)\ttotal: 2m 46s\tremaining: 8.77s\n",
      "95:\ttest: 0.7562970\tbest: 0.7562970 (95)\ttotal: 2m 48s\tremaining: 7.01s\n",
      "96:\ttest: 0.7563994\tbest: 0.7563994 (96)\ttotal: 2m 50s\tremaining: 5.26s\n",
      "97:\ttest: 0.7564903\tbest: 0.7564903 (97)\ttotal: 2m 51s\tremaining: 3.5s\n",
      "98:\ttest: 0.7565739\tbest: 0.7565739 (98)\ttotal: 2m 53s\tremaining: 1.75s\n",
      "99:\ttest: 0.7567774\tbest: 0.7567774 (99)\ttotal: 2m 55s\tremaining: 0us\n",
      "\n",
      "bestTest = 0.756777431\n",
      "bestIteration = 99\n",
      "\n",
      "Taking 2 split as validation set\n",
      "0:\ttest: 0.7132530\tbest: 0.7132530 (0)\ttotal: 2.01s\tremaining: 3m 18s\n",
      "1:\ttest: 0.7167870\tbest: 0.7167870 (1)\ttotal: 3.68s\tremaining: 3m\n",
      "2:\ttest: 0.7196202\tbest: 0.7196202 (2)\ttotal: 5.57s\tremaining: 3m\n",
      "3:\ttest: 0.7245576\tbest: 0.7245576 (3)\ttotal: 7.56s\tremaining: 3m 1s\n",
      "4:\ttest: 0.7263094\tbest: 0.7263094 (4)\ttotal: 9.28s\tremaining: 2m 56s\n",
      "5:\ttest: 0.7278034\tbest: 0.7278034 (5)\ttotal: 11s\tremaining: 2m 51s\n",
      "6:\ttest: 0.7291187\tbest: 0.7291187 (6)\ttotal: 12.7s\tremaining: 2m 49s\n",
      "7:\ttest: 0.7300764\tbest: 0.7300764 (7)\ttotal: 14.5s\tremaining: 2m 46s\n",
      "8:\ttest: 0.7310461\tbest: 0.7310461 (8)\ttotal: 16.2s\tremaining: 2m 43s\n",
      "9:\ttest: 0.7316050\tbest: 0.7316050 (9)\ttotal: 17.9s\tremaining: 2m 40s\n",
      "10:\ttest: 0.7320552\tbest: 0.7320552 (10)\ttotal: 19.6s\tremaining: 2m 38s\n",
      "11:\ttest: 0.7328559\tbest: 0.7328559 (11)\ttotal: 21.3s\tremaining: 2m 36s\n",
      "12:\ttest: 0.7336820\tbest: 0.7336820 (12)\ttotal: 23.1s\tremaining: 2m 34s\n",
      "13:\ttest: 0.7342520\tbest: 0.7342520 (13)\ttotal: 24.9s\tremaining: 2m 32s\n",
      "14:\ttest: 0.7349385\tbest: 0.7349385 (14)\ttotal: 26.7s\tremaining: 2m 31s\n",
      "15:\ttest: 0.7354093\tbest: 0.7354093 (15)\ttotal: 28.4s\tremaining: 2m 29s\n",
      "16:\ttest: 0.7358266\tbest: 0.7358266 (16)\ttotal: 30.3s\tremaining: 2m 27s\n",
      "17:\ttest: 0.7362709\tbest: 0.7362709 (17)\ttotal: 32.1s\tremaining: 2m 26s\n",
      "18:\ttest: 0.7366247\tbest: 0.7366247 (18)\ttotal: 33.8s\tremaining: 2m 24s\n",
      "19:\ttest: 0.7369550\tbest: 0.7369550 (19)\ttotal: 35.5s\tremaining: 2m 22s\n",
      "20:\ttest: 0.7372016\tbest: 0.7372016 (20)\ttotal: 37.2s\tremaining: 2m 20s\n",
      "21:\ttest: 0.7375694\tbest: 0.7375694 (21)\ttotal: 39s\tremaining: 2m 18s\n",
      "22:\ttest: 0.7379457\tbest: 0.7379457 (22)\ttotal: 40.8s\tremaining: 2m 16s\n",
      "23:\ttest: 0.7384186\tbest: 0.7384186 (23)\ttotal: 42.6s\tremaining: 2m 14s\n",
      "24:\ttest: 0.7387017\tbest: 0.7387017 (24)\ttotal: 44.4s\tremaining: 2m 13s\n",
      "25:\ttest: 0.7389685\tbest: 0.7389685 (25)\ttotal: 46.1s\tremaining: 2m 11s\n",
      "26:\ttest: 0.7391167\tbest: 0.7391167 (26)\ttotal: 47.8s\tremaining: 2m 9s\n",
      "27:\ttest: 0.7396368\tbest: 0.7396368 (27)\ttotal: 49.6s\tremaining: 2m 7s\n"
     ]
    },
    {
     "name": "stdout",
     "output_type": "stream",
     "text": [
      "28:\ttest: 0.7398574\tbest: 0.7398574 (28)\ttotal: 51.3s\tremaining: 2m 5s\n",
      "29:\ttest: 0.7400996\tbest: 0.7400996 (29)\ttotal: 53.1s\tremaining: 2m 3s\n",
      "30:\ttest: 0.7404593\tbest: 0.7404593 (30)\ttotal: 54.7s\tremaining: 2m 1s\n",
      "31:\ttest: 0.7409530\tbest: 0.7409530 (31)\ttotal: 56.5s\tremaining: 1m 59s\n",
      "32:\ttest: 0.7411557\tbest: 0.7411557 (32)\ttotal: 58.2s\tremaining: 1m 58s\n",
      "33:\ttest: 0.7412932\tbest: 0.7412932 (33)\ttotal: 59.9s\tremaining: 1m 56s\n",
      "34:\ttest: 0.7415484\tbest: 0.7415484 (34)\ttotal: 1m 1s\tremaining: 1m 54s\n",
      "35:\ttest: 0.7421108\tbest: 0.7421108 (35)\ttotal: 1m 3s\tremaining: 1m 52s\n",
      "36:\ttest: 0.7424297\tbest: 0.7424297 (36)\ttotal: 1m 5s\tremaining: 1m 50s\n",
      "37:\ttest: 0.7426402\tbest: 0.7426402 (37)\ttotal: 1m 6s\tremaining: 1m 49s\n",
      "38:\ttest: 0.7428327\tbest: 0.7428327 (38)\ttotal: 1m 8s\tremaining: 1m 47s\n",
      "39:\ttest: 0.7431633\tbest: 0.7431633 (39)\ttotal: 1m 10s\tremaining: 1m 45s\n",
      "40:\ttest: 0.7433337\tbest: 0.7433337 (40)\ttotal: 1m 12s\tremaining: 1m 43s\n",
      "41:\ttest: 0.7434788\tbest: 0.7434788 (41)\ttotal: 1m 13s\tremaining: 1m 41s\n",
      "42:\ttest: 0.7438922\tbest: 0.7438922 (42)\ttotal: 1m 15s\tremaining: 1m 40s\n",
      "43:\ttest: 0.7439977\tbest: 0.7439977 (43)\ttotal: 1m 17s\tremaining: 1m 38s\n",
      "44:\ttest: 0.7443197\tbest: 0.7443197 (44)\ttotal: 1m 18s\tremaining: 1m 36s\n",
      "45:\ttest: 0.7447970\tbest: 0.7447970 (45)\ttotal: 1m 20s\tremaining: 1m 34s\n",
      "46:\ttest: 0.7453020\tbest: 0.7453020 (46)\ttotal: 1m 22s\tremaining: 1m 33s\n",
      "47:\ttest: 0.7456019\tbest: 0.7456019 (47)\ttotal: 1m 24s\tremaining: 1m 31s\n",
      "48:\ttest: 0.7457839\tbest: 0.7457839 (48)\ttotal: 1m 25s\tremaining: 1m 29s\n",
      "49:\ttest: 0.7463860\tbest: 0.7463860 (49)\ttotal: 1m 27s\tremaining: 1m 27s\n",
      "50:\ttest: 0.7465864\tbest: 0.7465864 (50)\ttotal: 1m 29s\tremaining: 1m 25s\n",
      "51:\ttest: 0.7466799\tbest: 0.7466799 (51)\ttotal: 1m 31s\tremaining: 1m 24s\n",
      "52:\ttest: 0.7469299\tbest: 0.7469299 (52)\ttotal: 1m 32s\tremaining: 1m 22s\n",
      "53:\ttest: 0.7471767\tbest: 0.7471767 (53)\ttotal: 1m 34s\tremaining: 1m 20s\n",
      "54:\ttest: 0.7473147\tbest: 0.7473147 (54)\ttotal: 1m 36s\tremaining: 1m 18s\n",
      "55:\ttest: 0.7474685\tbest: 0.7474685 (55)\ttotal: 1m 38s\tremaining: 1m 17s\n",
      "56:\ttest: 0.7475868\tbest: 0.7475868 (56)\ttotal: 1m 39s\tremaining: 1m 15s\n",
      "57:\ttest: 0.7476781\tbest: 0.7476781 (57)\ttotal: 1m 41s\tremaining: 1m 13s\n",
      "58:\ttest: 0.7481490\tbest: 0.7481490 (58)\ttotal: 1m 43s\tremaining: 1m 11s\n",
      "59:\ttest: 0.7483508\tbest: 0.7483508 (59)\ttotal: 1m 45s\tremaining: 1m 10s\n",
      "60:\ttest: 0.7486031\tbest: 0.7486031 (60)\ttotal: 1m 47s\tremaining: 1m 8s\n",
      "61:\ttest: 0.7488587\tbest: 0.7488587 (61)\ttotal: 1m 48s\tremaining: 1m 6s\n",
      "62:\ttest: 0.7490850\tbest: 0.7490850 (62)\ttotal: 1m 50s\tremaining: 1m 4s\n",
      "63:\ttest: 0.7493216\tbest: 0.7493216 (63)\ttotal: 1m 52s\tremaining: 1m 3s\n",
      "64:\ttest: 0.7494946\tbest: 0.7494946 (64)\ttotal: 1m 54s\tremaining: 1m 1s\n",
      "65:\ttest: 0.7495972\tbest: 0.7495972 (65)\ttotal: 1m 55s\tremaining: 59.7s\n",
      "66:\ttest: 0.7501127\tbest: 0.7501127 (66)\ttotal: 1m 57s\tremaining: 57.9s\n",
      "67:\ttest: 0.7503181\tbest: 0.7503181 (67)\ttotal: 1m 59s\tremaining: 56.2s\n",
      "68:\ttest: 0.7504846\tbest: 0.7504846 (68)\ttotal: 2m 1s\tremaining: 54.4s\n",
      "69:\ttest: 0.7509410\tbest: 0.7509410 (69)\ttotal: 2m 2s\tremaining: 52.7s\n",
      "70:\ttest: 0.7511510\tbest: 0.7511510 (70)\ttotal: 2m 4s\tremaining: 50.9s\n",
      "71:\ttest: 0.7512949\tbest: 0.7512949 (71)\ttotal: 2m 6s\tremaining: 49.2s\n",
      "72:\ttest: 0.7515753\tbest: 0.7515753 (72)\ttotal: 2m 8s\tremaining: 47.4s\n",
      "73:\ttest: 0.7517828\tbest: 0.7517828 (73)\ttotal: 2m 9s\tremaining: 45.6s\n",
      "74:\ttest: 0.7520337\tbest: 0.7520337 (74)\ttotal: 2m 11s\tremaining: 43.9s\n",
      "75:\ttest: 0.7521073\tbest: 0.7521073 (75)\ttotal: 2m 13s\tremaining: 42.1s\n",
      "76:\ttest: 0.7521949\tbest: 0.7521949 (76)\ttotal: 2m 15s\tremaining: 40.3s\n",
      "77:\ttest: 0.7523253\tbest: 0.7523253 (77)\ttotal: 2m 16s\tremaining: 38.6s\n",
      "78:\ttest: 0.7524338\tbest: 0.7524338 (78)\ttotal: 2m 18s\tremaining: 36.8s\n",
      "79:\ttest: 0.7525516\tbest: 0.7525516 (79)\ttotal: 2m 20s\tremaining: 35.1s\n",
      "80:\ttest: 0.7526775\tbest: 0.7526775 (80)\ttotal: 2m 21s\tremaining: 33.3s\n",
      "81:\ttest: 0.7527756\tbest: 0.7527756 (81)\ttotal: 2m 23s\tremaining: 31.6s\n",
      "82:\ttest: 0.7528606\tbest: 0.7528606 (82)\ttotal: 2m 25s\tremaining: 29.8s\n",
      "83:\ttest: 0.7529882\tbest: 0.7529882 (83)\ttotal: 2m 27s\tremaining: 28s\n",
      "84:\ttest: 0.7530869\tbest: 0.7530869 (84)\ttotal: 2m 28s\tremaining: 26.3s\n",
      "85:\ttest: 0.7532192\tbest: 0.7532192 (85)\ttotal: 2m 30s\tremaining: 24.5s\n",
      "86:\ttest: 0.7533731\tbest: 0.7533731 (86)\ttotal: 2m 32s\tremaining: 22.8s\n",
      "87:\ttest: 0.7535562\tbest: 0.7535562 (87)\ttotal: 2m 33s\tremaining: 21s\n",
      "88:\ttest: 0.7537002\tbest: 0.7537002 (88)\ttotal: 2m 35s\tremaining: 19.2s\n",
      "89:\ttest: 0.7537626\tbest: 0.7537626 (89)\ttotal: 2m 37s\tremaining: 17.5s\n",
      "90:\ttest: 0.7541326\tbest: 0.7541326 (90)\ttotal: 2m 39s\tremaining: 15.7s\n",
      "91:\ttest: 0.7543107\tbest: 0.7543107 (91)\ttotal: 2m 40s\tremaining: 14s\n",
      "92:\ttest: 0.7543772\tbest: 0.7543772 (92)\ttotal: 2m 42s\tremaining: 12.3s\n",
      "93:\ttest: 0.7546919\tbest: 0.7546919 (93)\ttotal: 2m 44s\tremaining: 10.5s\n",
      "94:\ttest: 0.7548860\tbest: 0.7548860 (94)\ttotal: 2m 46s\tremaining: 8.75s\n",
      "95:\ttest: 0.7551369\tbest: 0.7551369 (95)\ttotal: 2m 48s\tremaining: 7s\n",
      "96:\ttest: 0.7552403\tbest: 0.7552403 (96)\ttotal: 2m 49s\tremaining: 5.25s\n",
      "97:\ttest: 0.7554549\tbest: 0.7554549 (97)\ttotal: 2m 51s\tremaining: 3.5s\n",
      "98:\ttest: 0.7557498\tbest: 0.7557498 (98)\ttotal: 2m 53s\tremaining: 1.75s\n",
      "99:\ttest: 0.7560314\tbest: 0.7560314 (99)\ttotal: 2m 55s\tremaining: 0us\n",
      "\n",
      "bestTest = 0.7560314407\n",
      "bestIteration = 99\n",
      "\n",
      "Taking 3 split as validation set\n",
      "0:\ttest: 0.7160710\tbest: 0.7160710 (0)\ttotal: 2.02s\tremaining: 3m 19s\n",
      "1:\ttest: 0.7196834\tbest: 0.7196834 (1)\ttotal: 3.87s\tremaining: 3m 9s\n",
      "2:\ttest: 0.7216518\tbest: 0.7216518 (2)\ttotal: 5.71s\tremaining: 3m 4s\n",
      "3:\ttest: 0.7260001\tbest: 0.7260001 (3)\ttotal: 7.49s\tremaining: 2m 59s\n",
      "4:\ttest: 0.7275679\tbest: 0.7275679 (4)\ttotal: 9.2s\tremaining: 2m 54s\n",
      "5:\ttest: 0.7286838\tbest: 0.7286838 (5)\ttotal: 10.9s\tremaining: 2m 50s\n",
      "6:\ttest: 0.7304052\tbest: 0.7304052 (6)\ttotal: 12.6s\tremaining: 2m 47s\n",
      "7:\ttest: 0.7313882\tbest: 0.7313882 (7)\ttotal: 14.4s\tremaining: 2m 45s\n",
      "8:\ttest: 0.7321756\tbest: 0.7321756 (8)\ttotal: 16s\tremaining: 2m 42s\n",
      "9:\ttest: 0.7326907\tbest: 0.7326907 (9)\ttotal: 17.7s\tremaining: 2m 39s\n",
      "10:\ttest: 0.7331992\tbest: 0.7331992 (10)\ttotal: 19.4s\tremaining: 2m 36s\n",
      "11:\ttest: 0.7342217\tbest: 0.7342217 (11)\ttotal: 21.2s\tremaining: 2m 35s\n",
      "12:\ttest: 0.7351125\tbest: 0.7351125 (12)\ttotal: 23s\tremaining: 2m 33s\n",
      "13:\ttest: 0.7354720\tbest: 0.7354720 (13)\ttotal: 24.7s\tremaining: 2m 31s\n",
      "14:\ttest: 0.7362000\tbest: 0.7362000 (14)\ttotal: 26.5s\tremaining: 2m 30s\n",
      "15:\ttest: 0.7368451\tbest: 0.7368451 (15)\ttotal: 28.3s\tremaining: 2m 28s\n",
      "16:\ttest: 0.7373198\tbest: 0.7373198 (16)\ttotal: 29.9s\tremaining: 2m 26s\n",
      "17:\ttest: 0.7378060\tbest: 0.7378060 (17)\ttotal: 31.7s\tremaining: 2m 24s\n",
      "18:\ttest: 0.7379901\tbest: 0.7379901 (18)\ttotal: 33.3s\tremaining: 2m 22s\n",
      "19:\ttest: 0.7383735\tbest: 0.7383735 (19)\ttotal: 35.1s\tremaining: 2m 20s\n",
      "20:\ttest: 0.7385573\tbest: 0.7385573 (20)\ttotal: 36.8s\tremaining: 2m 18s\n",
      "21:\ttest: 0.7389525\tbest: 0.7389525 (21)\ttotal: 38.6s\tremaining: 2m 16s\n",
      "22:\ttest: 0.7392941\tbest: 0.7392941 (22)\ttotal: 40.3s\tremaining: 2m 14s\n",
      "23:\ttest: 0.7395942\tbest: 0.7395942 (23)\ttotal: 42.1s\tremaining: 2m 13s\n",
      "24:\ttest: 0.7401689\tbest: 0.7401689 (24)\ttotal: 43.8s\tremaining: 2m 11s\n",
      "25:\ttest: 0.7406279\tbest: 0.7406279 (25)\ttotal: 45.6s\tremaining: 2m 9s\n",
      "26:\ttest: 0.7409184\tbest: 0.7409184 (26)\ttotal: 47.3s\tremaining: 2m 7s\n",
      "27:\ttest: 0.7411060\tbest: 0.7411060 (27)\ttotal: 48.9s\tremaining: 2m 5s\n",
      "28:\ttest: 0.7414598\tbest: 0.7414598 (28)\ttotal: 50.8s\tremaining: 2m 4s\n",
      "29:\ttest: 0.7419278\tbest: 0.7419278 (29)\ttotal: 52.5s\tremaining: 2m 2s\n",
      "30:\ttest: 0.7421148\tbest: 0.7421148 (30)\ttotal: 54.2s\tremaining: 2m\n",
      "31:\ttest: 0.7426036\tbest: 0.7426036 (31)\ttotal: 55.9s\tremaining: 1m 58s\n",
      "32:\ttest: 0.7429993\tbest: 0.7429993 (32)\ttotal: 57.7s\tremaining: 1m 57s\n",
      "33:\ttest: 0.7432144\tbest: 0.7432144 (33)\ttotal: 59.4s\tremaining: 1m 55s\n",
      "34:\ttest: 0.7434401\tbest: 0.7434401 (34)\ttotal: 1m 1s\tremaining: 1m 53s\n",
      "35:\ttest: 0.7436404\tbest: 0.7436404 (35)\ttotal: 1m 2s\tremaining: 1m 51s\n",
      "36:\ttest: 0.7439653\tbest: 0.7439653 (36)\ttotal: 1m 4s\tremaining: 1m 50s\n",
      "37:\ttest: 0.7442389\tbest: 0.7442389 (37)\ttotal: 1m 6s\tremaining: 1m 48s\n",
      "38:\ttest: 0.7444552\tbest: 0.7444552 (38)\ttotal: 1m 8s\tremaining: 1m 46s\n",
      "39:\ttest: 0.7446686\tbest: 0.7446686 (39)\ttotal: 1m 9s\tremaining: 1m 44s\n",
      "40:\ttest: 0.7450796\tbest: 0.7450796 (40)\ttotal: 1m 11s\tremaining: 1m 43s\n",
      "41:\ttest: 0.7454226\tbest: 0.7454226 (41)\ttotal: 1m 13s\tremaining: 1m 41s\n"
     ]
    },
    {
     "name": "stdout",
     "output_type": "stream",
     "text": [
      "42:\ttest: 0.7458552\tbest: 0.7458552 (42)\ttotal: 1m 15s\tremaining: 1m 39s\n",
      "43:\ttest: 0.7463533\tbest: 0.7463533 (43)\ttotal: 1m 17s\tremaining: 1m 38s\n",
      "44:\ttest: 0.7465597\tbest: 0.7465597 (44)\ttotal: 1m 18s\tremaining: 1m 36s\n",
      "45:\ttest: 0.7467044\tbest: 0.7467044 (45)\ttotal: 1m 20s\tremaining: 1m 34s\n",
      "46:\ttest: 0.7468672\tbest: 0.7468672 (46)\ttotal: 1m 22s\tremaining: 1m 32s\n",
      "47:\ttest: 0.7470338\tbest: 0.7470338 (47)\ttotal: 1m 24s\tremaining: 1m 31s\n",
      "48:\ttest: 0.7472377\tbest: 0.7472377 (48)\ttotal: 1m 25s\tremaining: 1m 29s\n",
      "49:\ttest: 0.7478004\tbest: 0.7478004 (49)\ttotal: 1m 27s\tremaining: 1m 27s\n",
      "50:\ttest: 0.7482460\tbest: 0.7482460 (50)\ttotal: 1m 29s\tremaining: 1m 25s\n",
      "51:\ttest: 0.7484439\tbest: 0.7484439 (51)\ttotal: 1m 31s\tremaining: 1m 24s\n",
      "52:\ttest: 0.7487766\tbest: 0.7487766 (52)\ttotal: 1m 32s\tremaining: 1m 22s\n",
      "53:\ttest: 0.7493546\tbest: 0.7493546 (53)\ttotal: 1m 34s\tremaining: 1m 20s\n",
      "54:\ttest: 0.7494691\tbest: 0.7494691 (54)\ttotal: 1m 36s\tremaining: 1m 18s\n",
      "55:\ttest: 0.7495837\tbest: 0.7495837 (55)\ttotal: 1m 38s\tremaining: 1m 17s\n",
      "56:\ttest: 0.7497478\tbest: 0.7497478 (56)\ttotal: 1m 39s\tremaining: 1m 15s\n",
      "57:\ttest: 0.7500168\tbest: 0.7500168 (57)\ttotal: 1m 41s\tremaining: 1m 13s\n",
      "58:\ttest: 0.7503758\tbest: 0.7503758 (58)\ttotal: 1m 43s\tremaining: 1m 11s\n",
      "59:\ttest: 0.7504592\tbest: 0.7504592 (59)\ttotal: 1m 45s\tremaining: 1m 10s\n",
      "60:\ttest: 0.7506658\tbest: 0.7506658 (60)\ttotal: 1m 46s\tremaining: 1m 8s\n",
      "61:\ttest: 0.7508185\tbest: 0.7508185 (61)\ttotal: 1m 48s\tremaining: 1m 6s\n",
      "62:\ttest: 0.7511693\tbest: 0.7511693 (62)\ttotal: 1m 50s\tremaining: 1m 4s\n",
      "63:\ttest: 0.7512932\tbest: 0.7512932 (63)\ttotal: 1m 51s\tremaining: 1m 2s\n",
      "64:\ttest: 0.7513826\tbest: 0.7513826 (64)\ttotal: 1m 53s\tremaining: 1m 1s\n",
      "65:\ttest: 0.7515383\tbest: 0.7515383 (65)\ttotal: 1m 55s\tremaining: 59.4s\n",
      "66:\ttest: 0.7516592\tbest: 0.7516592 (66)\ttotal: 1m 57s\tremaining: 57.7s\n",
      "67:\ttest: 0.7517075\tbest: 0.7517075 (67)\ttotal: 1m 58s\tremaining: 55.9s\n",
      "68:\ttest: 0.7520941\tbest: 0.7520941 (68)\ttotal: 2m\tremaining: 54.2s\n",
      "69:\ttest: 0.7523178\tbest: 0.7523178 (69)\ttotal: 2m 2s\tremaining: 52.4s\n",
      "70:\ttest: 0.7524983\tbest: 0.7524983 (70)\ttotal: 2m 4s\tremaining: 50.7s\n",
      "71:\ttest: 0.7528287\tbest: 0.7528287 (71)\ttotal: 2m 5s\tremaining: 48.9s\n",
      "72:\ttest: 0.7533236\tbest: 0.7533236 (72)\ttotal: 2m 7s\tremaining: 47.2s\n",
      "73:\ttest: 0.7536681\tbest: 0.7536681 (73)\ttotal: 2m 9s\tremaining: 45.4s\n",
      "74:\ttest: 0.7539735\tbest: 0.7539735 (74)\ttotal: 2m 11s\tremaining: 43.7s\n",
      "75:\ttest: 0.7542489\tbest: 0.7542489 (75)\ttotal: 2m 12s\tremaining: 42s\n",
      "76:\ttest: 0.7544498\tbest: 0.7544498 (76)\ttotal: 2m 14s\tremaining: 40.2s\n",
      "77:\ttest: 0.7546903\tbest: 0.7546903 (77)\ttotal: 2m 16s\tremaining: 38.4s\n",
      "78:\ttest: 0.7548322\tbest: 0.7548322 (78)\ttotal: 2m 18s\tremaining: 36.7s\n",
      "79:\ttest: 0.7549337\tbest: 0.7549337 (79)\ttotal: 2m 19s\tremaining: 34.9s\n",
      "80:\ttest: 0.7550567\tbest: 0.7550567 (80)\ttotal: 2m 21s\tremaining: 33.2s\n",
      "81:\ttest: 0.7552421\tbest: 0.7552421 (81)\ttotal: 2m 23s\tremaining: 31.4s\n",
      "82:\ttest: 0.7556303\tbest: 0.7556303 (82)\ttotal: 2m 24s\tremaining: 29.7s\n",
      "83:\ttest: 0.7557362\tbest: 0.7557362 (83)\ttotal: 2m 26s\tremaining: 27.9s\n",
      "84:\ttest: 0.7558782\tbest: 0.7558782 (84)\ttotal: 2m 28s\tremaining: 26.2s\n",
      "85:\ttest: 0.7560631\tbest: 0.7560631 (85)\ttotal: 2m 30s\tremaining: 24.5s\n",
      "86:\ttest: 0.7562257\tbest: 0.7562257 (86)\ttotal: 2m 31s\tremaining: 22.7s\n",
      "87:\ttest: 0.7564555\tbest: 0.7564555 (87)\ttotal: 2m 33s\tremaining: 21s\n",
      "88:\ttest: 0.7566697\tbest: 0.7566697 (88)\ttotal: 2m 35s\tremaining: 19.2s\n",
      "89:\ttest: 0.7567744\tbest: 0.7567744 (89)\ttotal: 2m 37s\tremaining: 17.5s\n",
      "90:\ttest: 0.7568860\tbest: 0.7568860 (90)\ttotal: 2m 39s\tremaining: 15.7s\n",
      "91:\ttest: 0.7571209\tbest: 0.7571209 (91)\ttotal: 2m 40s\tremaining: 14s\n",
      "92:\ttest: 0.7573852\tbest: 0.7573852 (92)\ttotal: 2m 42s\tremaining: 12.2s\n",
      "93:\ttest: 0.7574900\tbest: 0.7574900 (93)\ttotal: 2m 44s\tremaining: 10.5s\n",
      "94:\ttest: 0.7576101\tbest: 0.7576101 (94)\ttotal: 2m 46s\tremaining: 8.74s\n",
      "95:\ttest: 0.7576973\tbest: 0.7576973 (95)\ttotal: 2m 47s\tremaining: 6.99s\n",
      "96:\ttest: 0.7579425\tbest: 0.7579425 (96)\ttotal: 2m 49s\tremaining: 5.24s\n",
      "97:\ttest: 0.7581424\tbest: 0.7581424 (97)\ttotal: 2m 51s\tremaining: 3.49s\n",
      "98:\ttest: 0.7582284\tbest: 0.7582284 (98)\ttotal: 2m 52s\tremaining: 1.75s\n",
      "99:\ttest: 0.7583030\tbest: 0.7583030 (99)\ttotal: 2m 54s\tremaining: 0us\n",
      "\n",
      "bestTest = 0.7583030197\n",
      "bestIteration = 99\n",
      "\n",
      "Taking 4 split as validation set\n",
      "0:\ttest: 0.7161850\tbest: 0.7161850 (0)\ttotal: 1.99s\tremaining: 3m 17s\n",
      "1:\ttest: 0.7194128\tbest: 0.7194128 (1)\ttotal: 3.87s\tremaining: 3m 9s\n",
      "2:\ttest: 0.7214054\tbest: 0.7214054 (2)\ttotal: 5.74s\tremaining: 3m 5s\n",
      "3:\ttest: 0.7225401\tbest: 0.7225401 (3)\ttotal: 7.4s\tremaining: 2m 57s\n",
      "4:\ttest: 0.7266814\tbest: 0.7266814 (4)\ttotal: 9.21s\tremaining: 2m 54s\n",
      "5:\ttest: 0.7283133\tbest: 0.7283133 (5)\ttotal: 10.9s\tremaining: 2m 50s\n",
      "6:\ttest: 0.7297560\tbest: 0.7297560 (6)\ttotal: 12.7s\tremaining: 2m 48s\n",
      "7:\ttest: 0.7312902\tbest: 0.7312902 (7)\ttotal: 14.4s\tremaining: 2m 45s\n",
      "8:\ttest: 0.7322630\tbest: 0.7322630 (8)\ttotal: 16.1s\tremaining: 2m 42s\n",
      "9:\ttest: 0.7327957\tbest: 0.7327957 (9)\ttotal: 17.8s\tremaining: 2m 39s\n",
      "10:\ttest: 0.7334234\tbest: 0.7334234 (10)\ttotal: 19.5s\tremaining: 2m 37s\n",
      "11:\ttest: 0.7340481\tbest: 0.7340481 (11)\ttotal: 21.3s\tremaining: 2m 36s\n",
      "12:\ttest: 0.7347924\tbest: 0.7347924 (12)\ttotal: 23.2s\tremaining: 2m 35s\n",
      "13:\ttest: 0.7350474\tbest: 0.7350474 (13)\ttotal: 25s\tremaining: 2m 33s\n",
      "14:\ttest: 0.7356413\tbest: 0.7356413 (14)\ttotal: 26.8s\tremaining: 2m 31s\n",
      "15:\ttest: 0.7365456\tbest: 0.7365456 (15)\ttotal: 28.6s\tremaining: 2m 30s\n",
      "16:\ttest: 0.7370856\tbest: 0.7370856 (16)\ttotal: 30.4s\tremaining: 2m 28s\n",
      "17:\ttest: 0.7374496\tbest: 0.7374496 (17)\ttotal: 32.1s\tremaining: 2m 26s\n",
      "18:\ttest: 0.7377128\tbest: 0.7377128 (18)\ttotal: 33.8s\tremaining: 2m 24s\n",
      "19:\ttest: 0.7380079\tbest: 0.7380079 (19)\ttotal: 35.5s\tremaining: 2m 22s\n",
      "20:\ttest: 0.7382132\tbest: 0.7382132 (20)\ttotal: 37.2s\tremaining: 2m 19s\n",
      "21:\ttest: 0.7384883\tbest: 0.7384883 (21)\ttotal: 38.9s\tremaining: 2m 17s\n",
      "22:\ttest: 0.7387191\tbest: 0.7387191 (22)\ttotal: 40.6s\tremaining: 2m 15s\n",
      "23:\ttest: 0.7394594\tbest: 0.7394594 (23)\ttotal: 42.5s\tremaining: 2m 14s\n",
      "24:\ttest: 0.7397575\tbest: 0.7397575 (24)\ttotal: 44.2s\tremaining: 2m 12s\n",
      "25:\ttest: 0.7404882\tbest: 0.7404882 (25)\ttotal: 46s\tremaining: 2m 10s\n",
      "26:\ttest: 0.7410283\tbest: 0.7410283 (26)\ttotal: 47.7s\tremaining: 2m 9s\n",
      "27:\ttest: 0.7412503\tbest: 0.7412503 (27)\ttotal: 49.5s\tremaining: 2m 7s\n",
      "28:\ttest: 0.7415467\tbest: 0.7415467 (28)\ttotal: 51.2s\tremaining: 2m 5s\n",
      "29:\ttest: 0.7417592\tbest: 0.7417592 (29)\ttotal: 52.9s\tremaining: 2m 3s\n",
      "30:\ttest: 0.7420580\tbest: 0.7420580 (30)\ttotal: 54.8s\tremaining: 2m 1s\n",
      "31:\ttest: 0.7424976\tbest: 0.7424976 (31)\ttotal: 56.5s\tremaining: 2m\n",
      "32:\ttest: 0.7428022\tbest: 0.7428022 (32)\ttotal: 58.2s\tremaining: 1m 58s\n",
      "33:\ttest: 0.7433134\tbest: 0.7433134 (33)\ttotal: 59.9s\tremaining: 1m 56s\n",
      "34:\ttest: 0.7434734\tbest: 0.7434734 (34)\ttotal: 1m 1s\tremaining: 1m 54s\n",
      "35:\ttest: 0.7439322\tbest: 0.7439322 (35)\ttotal: 1m 3s\tremaining: 1m 52s\n",
      "36:\ttest: 0.7442323\tbest: 0.7442323 (36)\ttotal: 1m 5s\tremaining: 1m 51s\n",
      "37:\ttest: 0.7445921\tbest: 0.7445921 (37)\ttotal: 1m 7s\tremaining: 1m 49s\n",
      "38:\ttest: 0.7449606\tbest: 0.7449606 (38)\ttotal: 1m 8s\tremaining: 1m 47s\n",
      "39:\ttest: 0.7451549\tbest: 0.7451549 (39)\ttotal: 1m 10s\tremaining: 1m 45s\n",
      "40:\ttest: 0.7453520\tbest: 0.7453520 (40)\ttotal: 1m 12s\tremaining: 1m 44s\n",
      "41:\ttest: 0.7458943\tbest: 0.7458943 (41)\ttotal: 1m 14s\tremaining: 1m 42s\n",
      "42:\ttest: 0.7461965\tbest: 0.7461965 (42)\ttotal: 1m 15s\tremaining: 1m 40s\n",
      "43:\ttest: 0.7468258\tbest: 0.7468258 (43)\ttotal: 1m 17s\tremaining: 1m 38s\n",
      "44:\ttest: 0.7470222\tbest: 0.7470222 (44)\ttotal: 1m 19s\tremaining: 1m 37s\n",
      "45:\ttest: 0.7471564\tbest: 0.7471564 (45)\ttotal: 1m 21s\tremaining: 1m 35s\n",
      "46:\ttest: 0.7473024\tbest: 0.7473024 (46)\ttotal: 1m 22s\tremaining: 1m 33s\n",
      "47:\ttest: 0.7474366\tbest: 0.7474366 (47)\ttotal: 1m 24s\tremaining: 1m 31s\n",
      "48:\ttest: 0.7476334\tbest: 0.7476334 (48)\ttotal: 1m 26s\tremaining: 1m 29s\n",
      "49:\ttest: 0.7477637\tbest: 0.7477637 (49)\ttotal: 1m 28s\tremaining: 1m 28s\n",
      "50:\ttest: 0.7479766\tbest: 0.7479766 (50)\ttotal: 1m 29s\tremaining: 1m 26s\n",
      "51:\ttest: 0.7481014\tbest: 0.7481014 (51)\ttotal: 1m 31s\tremaining: 1m 24s\n",
      "52:\ttest: 0.7484687\tbest: 0.7484687 (52)\ttotal: 1m 33s\tremaining: 1m 22s\n",
      "53:\ttest: 0.7487719\tbest: 0.7487719 (53)\ttotal: 1m 35s\tremaining: 1m 21s\n",
      "54:\ttest: 0.7490006\tbest: 0.7490006 (54)\ttotal: 1m 36s\tremaining: 1m 19s\n"
     ]
    },
    {
     "name": "stdout",
     "output_type": "stream",
     "text": [
      "55:\ttest: 0.7493266\tbest: 0.7493266 (55)\ttotal: 1m 38s\tremaining: 1m 17s\n",
      "56:\ttest: 0.7494546\tbest: 0.7494546 (56)\ttotal: 1m 40s\tremaining: 1m 15s\n",
      "57:\ttest: 0.7497882\tbest: 0.7497882 (57)\ttotal: 1m 42s\tremaining: 1m 14s\n",
      "58:\ttest: 0.7499797\tbest: 0.7499797 (58)\ttotal: 1m 43s\tremaining: 1m 12s\n",
      "59:\ttest: 0.7503215\tbest: 0.7503215 (59)\ttotal: 1m 45s\tremaining: 1m 10s\n",
      "60:\ttest: 0.7506540\tbest: 0.7506540 (60)\ttotal: 1m 47s\tremaining: 1m 8s\n",
      "61:\ttest: 0.7510907\tbest: 0.7510907 (61)\ttotal: 1m 48s\tremaining: 1m 6s\n",
      "62:\ttest: 0.7513716\tbest: 0.7513716 (62)\ttotal: 1m 50s\tremaining: 1m 5s\n",
      "63:\ttest: 0.7514330\tbest: 0.7514330 (63)\ttotal: 1m 52s\tremaining: 1m 3s\n",
      "64:\ttest: 0.7516835\tbest: 0.7516835 (64)\ttotal: 1m 54s\tremaining: 1m 1s\n",
      "65:\ttest: 0.7518135\tbest: 0.7518135 (65)\ttotal: 1m 55s\tremaining: 59.7s\n",
      "66:\ttest: 0.7521453\tbest: 0.7521453 (66)\ttotal: 1m 57s\tremaining: 58s\n",
      "67:\ttest: 0.7523069\tbest: 0.7523069 (67)\ttotal: 1m 59s\tremaining: 56.2s\n",
      "68:\ttest: 0.7524640\tbest: 0.7524640 (68)\ttotal: 2m 1s\tremaining: 54.5s\n",
      "69:\ttest: 0.7525656\tbest: 0.7525656 (69)\ttotal: 2m 2s\tremaining: 52.7s\n",
      "70:\ttest: 0.7530242\tbest: 0.7530242 (70)\ttotal: 2m 4s\tremaining: 51s\n",
      "71:\ttest: 0.7531840\tbest: 0.7531840 (71)\ttotal: 2m 6s\tremaining: 49.2s\n",
      "72:\ttest: 0.7533407\tbest: 0.7533407 (72)\ttotal: 2m 8s\tremaining: 47.5s\n",
      "73:\ttest: 0.7534697\tbest: 0.7534697 (73)\ttotal: 2m 10s\tremaining: 45.7s\n",
      "74:\ttest: 0.7535558\tbest: 0.7535558 (74)\ttotal: 2m 11s\tremaining: 43.9s\n",
      "75:\ttest: 0.7536992\tbest: 0.7536992 (75)\ttotal: 2m 13s\tremaining: 42.1s\n",
      "76:\ttest: 0.7539162\tbest: 0.7539162 (76)\ttotal: 2m 15s\tremaining: 40.4s\n",
      "77:\ttest: 0.7541233\tbest: 0.7541233 (77)\ttotal: 2m 16s\tremaining: 38.6s\n",
      "78:\ttest: 0.7542210\tbest: 0.7542210 (78)\ttotal: 2m 18s\tremaining: 36.8s\n",
      "79:\ttest: 0.7546285\tbest: 0.7546285 (79)\ttotal: 2m 20s\tremaining: 35.1s\n",
      "80:\ttest: 0.7550081\tbest: 0.7550081 (80)\ttotal: 2m 22s\tremaining: 33.4s\n",
      "81:\ttest: 0.7550781\tbest: 0.7550781 (81)\ttotal: 2m 24s\tremaining: 31.6s\n",
      "82:\ttest: 0.7552993\tbest: 0.7552993 (82)\ttotal: 2m 25s\tremaining: 29.8s\n",
      "83:\ttest: 0.7553830\tbest: 0.7553830 (83)\ttotal: 2m 27s\tremaining: 28.1s\n",
      "84:\ttest: 0.7554826\tbest: 0.7554826 (84)\ttotal: 2m 29s\tremaining: 26.3s\n",
      "85:\ttest: 0.7555995\tbest: 0.7555995 (85)\ttotal: 2m 30s\tremaining: 24.6s\n",
      "86:\ttest: 0.7557754\tbest: 0.7557754 (86)\ttotal: 2m 32s\tremaining: 22.8s\n",
      "87:\ttest: 0.7558527\tbest: 0.7558527 (87)\ttotal: 2m 34s\tremaining: 21.1s\n",
      "88:\ttest: 0.7559735\tbest: 0.7559735 (88)\ttotal: 2m 36s\tremaining: 19.3s\n",
      "89:\ttest: 0.7560874\tbest: 0.7560874 (89)\ttotal: 2m 38s\tremaining: 17.6s\n",
      "90:\ttest: 0.7561754\tbest: 0.7561754 (90)\ttotal: 2m 39s\tremaining: 15.8s\n",
      "91:\ttest: 0.7565121\tbest: 0.7565121 (91)\ttotal: 2m 41s\tremaining: 14.1s\n",
      "92:\ttest: 0.7565716\tbest: 0.7565716 (92)\ttotal: 2m 43s\tremaining: 12.3s\n",
      "93:\ttest: 0.7567085\tbest: 0.7567085 (93)\ttotal: 2m 45s\tremaining: 10.6s\n",
      "94:\ttest: 0.7570100\tbest: 0.7570100 (94)\ttotal: 2m 47s\tremaining: 8.79s\n",
      "95:\ttest: 0.7571252\tbest: 0.7571252 (95)\ttotal: 2m 48s\tremaining: 7.04s\n",
      "96:\ttest: 0.7573847\tbest: 0.7573847 (96)\ttotal: 2m 50s\tremaining: 5.28s\n",
      "97:\ttest: 0.7574271\tbest: 0.7574271 (97)\ttotal: 2m 52s\tremaining: 3.52s\n",
      "98:\ttest: 0.7574831\tbest: 0.7574831 (98)\ttotal: 2m 54s\tremaining: 1.76s\n",
      "99:\ttest: 0.7576692\tbest: 0.7576692 (99)\ttotal: 2m 56s\tremaining: 0us\n",
      "\n",
      "bestTest = 0.7576691521\n",
      "bestIteration = 99\n",
      "\n",
      "Mean roc-auc across 5 folds: 0.7574791144773846\n"
     ]
    }
   ],
   "source": [
    "fold_metrics = cross_validation(X, y, K_FOLDS)\n",
    "print(f\"Mean roc-auc across {K_FOLDS} folds: {np.mean(fold_metrics)}\")"
   ]
  },
  {
   "cell_type": "markdown",
   "id": "arctic-festival",
   "metadata": {},
   "source": [
    "Видно, что добавление фичи симиларити дает значительный прирост в качестве. Давайте посмотрим еще на значимости фичей с помощью SHAP values"
   ]
  },
  {
   "cell_type": "code",
   "execution_count": 75,
   "id": "responsible-corrections",
   "metadata": {},
   "outputs": [
    {
     "name": "stdout",
     "output_type": "stream",
     "text": [
      "0:\ttotal: 1.93s\tremaining: 3m 10s\n",
      "1:\ttotal: 3.82s\tremaining: 3m 7s\n",
      "2:\ttotal: 5.5s\tremaining: 2m 57s\n",
      "3:\ttotal: 7.55s\tremaining: 3m 1s\n",
      "4:\ttotal: 9.31s\tremaining: 2m 56s\n",
      "5:\ttotal: 11.1s\tremaining: 2m 53s\n",
      "6:\ttotal: 12.9s\tremaining: 2m 50s\n",
      "7:\ttotal: 14.6s\tremaining: 2m 48s\n",
      "8:\ttotal: 16.3s\tremaining: 2m 45s\n",
      "9:\ttotal: 18.2s\tremaining: 2m 43s\n",
      "10:\ttotal: 20s\tremaining: 2m 41s\n",
      "11:\ttotal: 21.7s\tremaining: 2m 39s\n",
      "12:\ttotal: 23.6s\tremaining: 2m 38s\n",
      "13:\ttotal: 25.5s\tremaining: 2m 36s\n",
      "14:\ttotal: 27.4s\tremaining: 2m 35s\n",
      "15:\ttotal: 29.4s\tremaining: 2m 34s\n",
      "16:\ttotal: 31.3s\tremaining: 2m 32s\n",
      "17:\ttotal: 33.3s\tremaining: 2m 31s\n",
      "18:\ttotal: 35.3s\tremaining: 2m 30s\n",
      "19:\ttotal: 37.4s\tremaining: 2m 29s\n",
      "20:\ttotal: 39.4s\tremaining: 2m 28s\n",
      "21:\ttotal: 41.4s\tremaining: 2m 26s\n",
      "22:\ttotal: 43.4s\tremaining: 2m 25s\n",
      "23:\ttotal: 45.4s\tremaining: 2m 23s\n",
      "24:\ttotal: 47.4s\tremaining: 2m 22s\n",
      "25:\ttotal: 49.4s\tremaining: 2m 20s\n",
      "26:\ttotal: 51.5s\tremaining: 2m 19s\n",
      "27:\ttotal: 53.4s\tremaining: 2m 17s\n",
      "28:\ttotal: 55.4s\tremaining: 2m 15s\n",
      "29:\ttotal: 57.5s\tremaining: 2m 14s\n",
      "30:\ttotal: 59.4s\tremaining: 2m 12s\n",
      "31:\ttotal: 1m 1s\tremaining: 2m 10s\n",
      "32:\ttotal: 1m 3s\tremaining: 2m 8s\n",
      "33:\ttotal: 1m 5s\tremaining: 2m 7s\n",
      "34:\ttotal: 1m 7s\tremaining: 2m 5s\n",
      "35:\ttotal: 1m 9s\tremaining: 2m 3s\n",
      "36:\ttotal: 1m 11s\tremaining: 2m 1s\n",
      "37:\ttotal: 1m 13s\tremaining: 2m\n",
      "38:\ttotal: 1m 15s\tremaining: 1m 58s\n",
      "39:\ttotal: 1m 17s\tremaining: 1m 56s\n",
      "40:\ttotal: 1m 19s\tremaining: 1m 54s\n",
      "41:\ttotal: 1m 21s\tremaining: 1m 52s\n",
      "42:\ttotal: 1m 23s\tremaining: 1m 51s\n",
      "43:\ttotal: 1m 25s\tremaining: 1m 49s\n",
      "44:\ttotal: 1m 27s\tremaining: 1m 47s\n",
      "45:\ttotal: 1m 29s\tremaining: 1m 45s\n",
      "46:\ttotal: 1m 31s\tremaining: 1m 43s\n",
      "47:\ttotal: 1m 33s\tremaining: 1m 41s\n",
      "48:\ttotal: 1m 35s\tremaining: 1m 39s\n",
      "49:\ttotal: 1m 37s\tremaining: 1m 37s\n",
      "50:\ttotal: 1m 39s\tremaining: 1m 35s\n",
      "51:\ttotal: 1m 41s\tremaining: 1m 34s\n",
      "52:\ttotal: 1m 44s\tremaining: 1m 32s\n",
      "53:\ttotal: 1m 46s\tremaining: 1m 30s\n",
      "54:\ttotal: 1m 48s\tremaining: 1m 28s\n",
      "55:\ttotal: 1m 50s\tremaining: 1m 26s\n",
      "56:\ttotal: 1m 52s\tremaining: 1m 24s\n",
      "57:\ttotal: 1m 54s\tremaining: 1m 22s\n",
      "58:\ttotal: 1m 56s\tremaining: 1m 20s\n",
      "59:\ttotal: 1m 58s\tremaining: 1m 19s\n",
      "60:\ttotal: 2m\tremaining: 1m 17s\n",
      "61:\ttotal: 2m 2s\tremaining: 1m 15s\n",
      "62:\ttotal: 2m 4s\tremaining: 1m 13s\n",
      "63:\ttotal: 2m 6s\tremaining: 1m 11s\n",
      "64:\ttotal: 2m 8s\tremaining: 1m 9s\n",
      "65:\ttotal: 2m 10s\tremaining: 1m 7s\n",
      "66:\ttotal: 2m 12s\tremaining: 1m 5s\n",
      "67:\ttotal: 2m 15s\tremaining: 1m 3s\n",
      "68:\ttotal: 2m 17s\tremaining: 1m 1s\n",
      "69:\ttotal: 2m 19s\tremaining: 59.6s\n",
      "70:\ttotal: 2m 21s\tremaining: 57.6s\n",
      "71:\ttotal: 2m 23s\tremaining: 55.7s\n",
      "72:\ttotal: 2m 25s\tremaining: 53.7s\n",
      "73:\ttotal: 2m 27s\tremaining: 51.7s\n",
      "74:\ttotal: 2m 29s\tremaining: 49.8s\n",
      "75:\ttotal: 2m 31s\tremaining: 47.8s\n",
      "76:\ttotal: 2m 33s\tremaining: 45.8s\n",
      "77:\ttotal: 2m 35s\tremaining: 43.8s\n",
      "78:\ttotal: 2m 37s\tremaining: 41.9s\n",
      "79:\ttotal: 2m 39s\tremaining: 39.9s\n",
      "80:\ttotal: 2m 41s\tremaining: 37.9s\n",
      "81:\ttotal: 2m 43s\tremaining: 35.9s\n",
      "82:\ttotal: 2m 45s\tremaining: 33.9s\n",
      "83:\ttotal: 2m 47s\tremaining: 31.9s\n",
      "84:\ttotal: 2m 49s\tremaining: 29.9s\n",
      "85:\ttotal: 2m 51s\tremaining: 27.9s\n",
      "86:\ttotal: 2m 53s\tremaining: 26s\n",
      "87:\ttotal: 2m 55s\tremaining: 24s\n",
      "88:\ttotal: 2m 57s\tremaining: 22s\n",
      "89:\ttotal: 2m 59s\tremaining: 20s\n",
      "90:\ttotal: 3m 1s\tremaining: 18s\n",
      "91:\ttotal: 3m 3s\tremaining: 16s\n",
      "92:\ttotal: 3m 5s\tremaining: 14s\n",
      "93:\ttotal: 3m 7s\tremaining: 12s\n",
      "94:\ttotal: 3m 10s\tremaining: 10s\n",
      "95:\ttotal: 3m 12s\tremaining: 8s\n",
      "96:\ttotal: 3m 14s\tremaining: 6s\n",
      "97:\ttotal: 3m 16s\tremaining: 4s\n",
      "98:\ttotal: 3m 18s\tremaining: 2s\n",
      "99:\ttotal: 3m 20s\tremaining: 0us\n"
     ]
    },
    {
     "data": {
      "text/plain": [
       "<catboost.core.CatBoostClassifier at 0x7feb346f6820>"
      ]
     },
     "execution_count": 75,
     "metadata": {},
     "output_type": "execute_result"
    }
   ],
   "source": [
    "model = CatBoostClassifier(**MODEL_PARAMS)\n",
    "model.fit(\n",
    "    X, y,\n",
    "    cat_features=CAT_FEATURES,\n",
    "    verbose=True\n",
    ")"
   ]
  },
  {
   "cell_type": "code",
   "execution_count": 77,
   "id": "thermal-personal",
   "metadata": {},
   "outputs": [],
   "source": [
    "np.random.seed(GLOBAL_SEED)\n",
    "explain_idx = np.random.choice(X.index, 1000, replace=False)\n",
    "X_explain = X.iloc[explain_idx]"
   ]
  },
  {
   "cell_type": "code",
   "execution_count": 79,
   "id": "reflected-apartment",
   "metadata": {},
   "outputs": [
    {
     "data": {
      "text/plain": [
       "(1000, 19)"
      ]
     },
     "execution_count": 79,
     "metadata": {},
     "output_type": "execute_result"
    }
   ],
   "source": [
    "X_explain.shape"
   ]
  },
  {
   "cell_type": "code",
   "execution_count": 80,
   "id": "extra-copying",
   "metadata": {},
   "outputs": [],
   "source": [
    "explainer = shap.TreeExplainer(model, feature_perturbation='tree_path_dependent')\n",
    "shap_values = explainer.shap_values(X_explain)"
   ]
  },
  {
   "cell_type": "code",
   "execution_count": 84,
   "id": "fitting-surface",
   "metadata": {},
   "outputs": [
    {
     "data": {
      "text/plain": [
       "(1000, 19)"
      ]
     },
     "execution_count": 84,
     "metadata": {},
     "output_type": "execute_result"
    }
   ],
   "source": [
    "shap_values.shape"
   ]
  },
  {
   "cell_type": "code",
   "execution_count": 87,
   "id": "owned-packet",
   "metadata": {},
   "outputs": [
    {
     "data": {
      "image/png": "[encoded data removed]",
      "text/plain": [
       "<Figure size 576x655.2 with 1 Axes>"
      ]
     },
     "metadata": {
      "needs_background": "light"
     },
     "output_type": "display_data"
    }
   ],
   "source": [
    "shap.summary_plot(shap_values, X_explain, plot_type='bar')"
   ]
  },
  {
   "cell_type": "code",
   "execution_count": 85,
   "id": "hired-malaysia",
   "metadata": {},
   "outputs": [
    {
     "data": {
      "image/png": "[encoded data removed]",
      "text/plain": [
       "<Figure size 576x655.2 with 2 Axes>"
      ]
     },
     "metadata": {
      "needs_background": "light"
     },
     "output_type": "display_data"
    }
   ],
   "source": [
    "shap.summary_plot(shap_values, X_explain)"
   ]
  },
  {
   "cell_type": "markdown",
   "id": "alpha-springer",
   "metadata": {},
   "source": [
    "Видно, что фича w2v_sim имеет самое большое влияние на предсказания модели."
   ]
  }
 ],
 "metadata": {
  "kernelspec": {
   "display_name": "recsys-env",
   "language": "python",
   "name": "recsys-env"
  },
  "language_info": {
   "codemirror_mode": {
    "name": "ipython",
    "version": 3
   },
   "file_extension": ".py",
   "mimetype": "text/x-python",
   "name": "python",
   "nbconvert_exporter": "python",
   "pygments_lexer": "ipython3",
   "version": "3.8.10"
  }
 },
 "nbformat": 4,
 "nbformat_minor": 5
}
