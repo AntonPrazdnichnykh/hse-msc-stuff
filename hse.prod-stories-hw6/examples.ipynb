{
 "cells": [
  {
   "cell_type": "code",
   "execution_count": 1,
   "id": "impressive-oxford",
   "metadata": {},
   "outputs": [],
   "source": [
    "from spell_checker import SpellChecker\n",
    "import hunspell"
   ]
  },
  {
   "cell_type": "code",
   "execution_count": 2,
   "id": "satisfied-perfume",
   "metadata": {},
   "outputs": [],
   "source": [
    "spellchecker = SpellChecker()"
   ]
  },
  {
   "cell_type": "code",
   "execution_count": 3,
   "id": "guided-thing",
   "metadata": {
    "scrolled": false
   },
   "outputs": [
    {
     "data": {
      "text/plain": [
       "'help, my name is Jakhudabrad'"
      ]
     },
     "execution_count": 3,
     "metadata": {},
     "output_type": "execute_result"
    }
   ],
   "source": [
    "text = \"helo, my nome iz Jakhudabrad\"\n",
    "spellchecker.correct_words(text)"
   ]
  },
  {
   "cell_type": "code",
   "execution_count": 4,
   "id": "growing-optimum",
   "metadata": {},
   "outputs": [
    {
     "data": {
      "text/plain": [
       "'this text contains some errors. And this spell checker is written by Anton Prazdnihnykh, who was born in 1999'"
      ]
     },
     "execution_count": 4,
     "metadata": {},
     "output_type": "execute_result"
    }
   ],
   "source": [
    "text = \"tis text contais som erors. And this spell cheker is writen by Anton Prazdnihnykh, who was born in 1999\"\n",
    "spellchecker.correct_words(text)"
   ]
  }
 ],
 "metadata": {
  "kernelspec": {
   "display_name": "spell-checker-env",
   "language": "python",
   "name": "spell-checker-env"
  },
  "language_info": {
   "codemirror_mode": {
    "name": "ipython",
    "version": 3
   },
   "file_extension": ".py",
   "mimetype": "text/x-python",
   "name": "python",
   "nbconvert_exporter": "python",
   "pygments_lexer": "ipython3",
   "version": "3.8.10"
  }
 },
 "nbformat": 4,
 "nbformat_minor": 5
}
